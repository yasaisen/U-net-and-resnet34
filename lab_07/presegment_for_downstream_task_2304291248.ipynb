{
  "cells": [
    {
      "cell_type": "code",
      "execution_count": 3,
      "metadata": {},
      "outputs": [],
      "source": [
        "import os\n",
        "import torch\n",
        "from fastai.callbacks import *\n",
        "# from enum import Enum\n",
        "import cv2\n",
        "import matplotlib.pyplot as plt\n",
        "import numpy as np"
      ]
    },
    {
      "cell_type": "code",
      "execution_count": 4,
      "metadata": {},
      "outputs": [],
      "source": [
        "ROOT_PATH = '/home/yasaisen/Desktop/09_research/09_research_main/lab_07'"
      ]
    },
    {
      "cell_type": "code",
      "execution_count": 5,
      "metadata": {},
      "outputs": [
        {
          "data": {
            "text/plain": [
              "<All keys matched successfully>"
            ]
          },
          "execution_count": 5,
          "metadata": {},
          "output_type": "execute_result"
        }
      ],
      "source": [
        "temp = torch.load(os.path.join(ROOT_PATH, 'M6.0.1.pt'))\n",
        "model = temp['model']\n",
        "model.load_state_dict(temp['state_dict'])"
      ]
    },
    {
      "cell_type": "code",
      "execution_count": 6,
      "metadata": {},
      "outputs": [
        {
          "name": "stdout",
          "output_type": "stream",
          "text": [
            "<class 'torch.Tensor'>\n",
            "torch.Size([1, 3, 540, 540])\n",
            "torch.Size([1, 4, 540, 540])\n"
          ]
        }
      ],
      "source": [
        "t = torch.randn((1, 3, 540, 540))\n",
        "print(type(t))\n",
        "print(t.shape)\n",
        "get = model(t)\n",
        "print(get.shape)"
      ]
    },
    {
      "cell_type": "code",
      "execution_count": 7,
      "metadata": {},
      "outputs": [],
      "source": [
        "img_DIR = os.path.join(ROOT_PATH, 'M_v_6.0.0/model/dataset_C_v_3.0.1/test_imgs_rgb/TEST_TEST_G1_Lid3_LRid695_Gid1031_Bnrgb.png')"
      ]
    },
    {
      "cell_type": "code",
      "execution_count": 9,
      "metadata": {},
      "outputs": [
        {
          "ename": "NameError",
          "evalue": "name 'open_image' is not defined",
          "output_type": "error",
          "traceback": [
            "\u001b[0;31m---------------------------------------------------------------------------\u001b[0m",
            "\u001b[0;31mNameError\u001b[0m                                 Traceback (most recent call last)",
            "Cell \u001b[0;32mIn[9], line 1\u001b[0m\n\u001b[0;32m----> 1\u001b[0m \u001b[39mprint\u001b[39m(\u001b[39mtype\u001b[39m(open_image(img_DIR)))\n",
            "\u001b[0;31mNameError\u001b[0m: name 'open_image' is not defined"
          ]
        }
      ],
      "source": [
        "print(type(open_image(img_DIR)))"
      ]
    },
    {
      "cell_type": "code",
      "execution_count": 8,
      "metadata": {},
      "outputs": [],
      "source": [
        "# def mask_cutter_v_2(img_DIR):\n",
        "def test(get):\n",
        "  img_DIR = os.path.join(ROOT_PATH, 'M_v_6.0.0/model/dataset_C_v_3.0.1/test_imgs/TEST_TEST_G1_Lid1_LRid687_Gid1029_Bn00.png')\n",
        "  img = cv2.imread(img_DIR)\n",
        "  img = cv2.cvtColor(img, cv2.COLOR_BGR2RGB)\n",
        "  # img = (img - np.min(img))/((np.max(img) - np.min(img)))\n",
        "  # print(img)\n",
        "\n",
        "  pred_idx = model(torch.from_numpy(img.transpose(2, 0, 1)/get).unsqueeze(0).to(torch.float32)).squeeze(0).detach().numpy().transpose(1, 2, 0)\n",
        "  # print(type(pred_idx), pred_idx.shape)\n",
        "\n",
        "  # print(np.min(pred_idx))\n",
        "\n",
        "  # print(pred_idx)\n",
        "\n",
        "  temp = pred_idx.transpose(2, 0, 1)[0]\n",
        "  temp = np.round((temp - np.min(temp))/((np.max(temp) - np.min(temp))))\n",
        "\n",
        "  for i in range(0, pred_idx.shape[0]):\n",
        "    for j in range(0, pred_idx.shape[1]):\n",
        "      if temp[i][j] >= 0.5:\n",
        "        img[i][j][0] = 255\n",
        "        img[i][j][1] = 255\n",
        "        img[i][j][2] = 255\n",
        "\n",
        "  fig, ax = plt.subplots(1, 5, figsize=(16,8))\n",
        "\n",
        "  ax[0].imshow(img)\n",
        "  ax[0].set_title(get)\n",
        "\n",
        "  temp = pred_idx.transpose(2, 0, 1)[0]\n",
        "  ax[1].imshow(np.round((temp - np.min(temp))/((np.max(temp) - np.min(temp)))))\n",
        "  ax[1].set_title(\"0\")\n",
        "\n",
        "  temp = pred_idx.transpose(2, 0, 1)[1]\n",
        "  ax[2].imshow(np.round((temp - np.min(temp))/((np.max(temp) - np.min(temp)))))\n",
        "  ax[2].set_title(\"1\")\n",
        "\n",
        "  temp = pred_idx.transpose(2, 0, 1)[2]\n",
        "  ax[3].imshow(np.round((temp - np.min(temp))/((np.max(temp) - np.min(temp)))))\n",
        "  ax[3].set_title(\"2\")\n",
        "\n",
        "  temp = pred_idx.transpose(2, 0, 1)[3]\n",
        "  ax[4].imshow(np.round((temp - np.min(temp))/((np.max(temp) - np.min(temp)))))\n",
        "  ax[4].set_title(\"3\")\n",
        "  plt.show()\n",
        "\n",
        "# original = cv2.imread(img_DIR).transpose(2, 0, 1)\n",
        "\n",
        "# gray = cv2.cvtColor(img, cv2.COLOR_BGR2GRAY)\n",
        "# thresh = cv2.threshold(gray, 0, 255, cv2.THRESH_BINARY_INV + cv2.THRESH_OTSU)[1]\n",
        "\n",
        "# max = 0\n",
        "# cnts = cv2.findContours(thresh, cv2.RETR_EXTERNAL, cv2.CHAIN_APPROX_SIMPLE)\n",
        "# cnts = cnts[0] if len(cnts) == 2 else cnts[1]\n",
        "# # print(cnts)\n",
        "# for c in cnts:\n",
        "#     x,y,w,h = cv2.boundingRect(c)\n",
        "#     if h > max : \n",
        "#       max = h\n",
        "#       max_index = c\n",
        "\n",
        "# new_img = resize(original, (540, 540))\n",
        "# try:\n",
        "#   x,y,w,h = cv2.boundingRect(max_index)\n",
        "# except UnboundLocalError:\n",
        "#   print('Jumping over ' + img_DIR)\n",
        "#   return original\n",
        "\n",
        "# x,y,w,h = fixfix(x,y,w,h)\n",
        "\n",
        "# # cv2.rectangle(img, (x, y), (x + w, y + h), (0,0,255), 2)\n",
        "# new_img = resize(original[y:y+h, x:x+w], (540, 540))\n",
        "\n",
        "# new_img = new_img*255\n",
        "\n",
        "# # plt.figure()\n",
        "# # plt.imshow(new_img)\n",
        "# # plt.show()\n",
        "\n",
        "# # print(img_DIR.split('/')[-1], np.unique(new_img), x, y, w, h)\n",
        "\n",
        "# return new_img"
      ]
    },
    {
      "cell_type": "code",
      "execution_count": 10,
      "metadata": {},
      "outputs": [
        {
          "data": {
            "image/png": "[encoded data removed]",
            "text/plain": [
              "<Figure size 1600x800 with 5 Axes>"
            ]
          },
          "metadata": {},
          "output_type": "display_data"
        },
        {
          "data": {
            "image/png": "[encoded data removed]",
            "text/plain": [
              "<Figure size 1600x800 with 5 Axes>"
            ]
          },
          "metadata": {},
          "output_type": "display_data"
        },
        {
          "ename": "KeyboardInterrupt",
          "evalue": "",
          "output_type": "error",
          "traceback": [
            "\u001b[0;31m---------------------------------------------------------------------------\u001b[0m",
            "\u001b[0;31mKeyboardInterrupt\u001b[0m                         Traceback (most recent call last)",
            "Cell \u001b[0;32mIn[10], line 3\u001b[0m\n\u001b[1;32m      1\u001b[0m \u001b[39mfor\u001b[39;00m i \u001b[39min\u001b[39;00m \u001b[39mrange\u001b[39m(\u001b[39m1\u001b[39m, \u001b[39m256\u001b[39m):\n\u001b[1;32m      2\u001b[0m     \u001b[39mif\u001b[39;00m i\u001b[39m%\u001b[39m\u001b[39m10\u001b[39m\u001b[39m==\u001b[39m\u001b[39m0\u001b[39m:\n\u001b[0;32m----> 3\u001b[0m         test(i)\n",
            "Cell \u001b[0;32mIn[8], line 9\u001b[0m, in \u001b[0;36mtest\u001b[0;34m(get)\u001b[0m\n\u001b[1;32m      5\u001b[0m img \u001b[39m=\u001b[39m cv2\u001b[39m.\u001b[39mcvtColor(img, cv2\u001b[39m.\u001b[39mCOLOR_BGR2RGB)\n\u001b[1;32m      6\u001b[0m \u001b[39m# img = (img - np.min(img))/((np.max(img) - np.min(img)))\u001b[39;00m\n\u001b[1;32m      7\u001b[0m \u001b[39m# print(img)\u001b[39;00m\n\u001b[0;32m----> 9\u001b[0m pred_idx \u001b[39m=\u001b[39m model(torch\u001b[39m.\u001b[39;49mfrom_numpy(img\u001b[39m.\u001b[39;49mtranspose(\u001b[39m2\u001b[39;49m, \u001b[39m0\u001b[39;49m, \u001b[39m1\u001b[39;49m)\u001b[39m/\u001b[39;49mget)\u001b[39m.\u001b[39;49munsqueeze(\u001b[39m0\u001b[39;49m)\u001b[39m.\u001b[39;49mto(torch\u001b[39m.\u001b[39;49mfloat32))\u001b[39m.\u001b[39msqueeze(\u001b[39m0\u001b[39m)\u001b[39m.\u001b[39mdetach()\u001b[39m.\u001b[39mnumpy()\u001b[39m.\u001b[39mtranspose(\u001b[39m1\u001b[39m, \u001b[39m2\u001b[39m, \u001b[39m0\u001b[39m)\n\u001b[1;32m     10\u001b[0m \u001b[39m# print(type(pred_idx), pred_idx.shape)\u001b[39;00m\n\u001b[1;32m     11\u001b[0m \n\u001b[1;32m     12\u001b[0m \u001b[39m# print(np.min(pred_idx))\u001b[39;00m\n\u001b[1;32m     13\u001b[0m \n\u001b[1;32m     14\u001b[0m \u001b[39m# print(pred_idx)\u001b[39;00m\n\u001b[1;32m     16\u001b[0m temp \u001b[39m=\u001b[39m pred_idx\u001b[39m.\u001b[39mtranspose(\u001b[39m2\u001b[39m, \u001b[39m0\u001b[39m, \u001b[39m1\u001b[39m)[\u001b[39m0\u001b[39m]\n",
            "File \u001b[0;32m~/.local/lib/python3.8/site-packages/torch/nn/modules/module.py:1194\u001b[0m, in \u001b[0;36mModule._call_impl\u001b[0;34m(self, *input, **kwargs)\u001b[0m\n\u001b[1;32m   1190\u001b[0m \u001b[39m# If we don't have any hooks, we want to skip the rest of the logic in\u001b[39;00m\n\u001b[1;32m   1191\u001b[0m \u001b[39m# this function, and just call forward.\u001b[39;00m\n\u001b[1;32m   1192\u001b[0m \u001b[39mif\u001b[39;00m \u001b[39mnot\u001b[39;00m (\u001b[39mself\u001b[39m\u001b[39m.\u001b[39m_backward_hooks \u001b[39mor\u001b[39;00m \u001b[39mself\u001b[39m\u001b[39m.\u001b[39m_forward_hooks \u001b[39mor\u001b[39;00m \u001b[39mself\u001b[39m\u001b[39m.\u001b[39m_forward_pre_hooks \u001b[39mor\u001b[39;00m _global_backward_hooks\n\u001b[1;32m   1193\u001b[0m         \u001b[39mor\u001b[39;00m _global_forward_hooks \u001b[39mor\u001b[39;00m _global_forward_pre_hooks):\n\u001b[0;32m-> 1194\u001b[0m     \u001b[39mreturn\u001b[39;00m forward_call(\u001b[39m*\u001b[39;49m\u001b[39minput\u001b[39;49m, \u001b[39m*\u001b[39;49m\u001b[39m*\u001b[39;49mkwargs)\n\u001b[1;32m   1195\u001b[0m \u001b[39m# Do not call functions when jit is used\u001b[39;00m\n\u001b[1;32m   1196\u001b[0m full_backward_hooks, non_full_backward_hooks \u001b[39m=\u001b[39m [], []\n",
            "File \u001b[0;32m~/.local/lib/python3.8/site-packages/fastai/layers.py:136\u001b[0m, in \u001b[0;36mSequentialEx.forward\u001b[0;34m(self, x)\u001b[0m\n\u001b[1;32m    134\u001b[0m \u001b[39mfor\u001b[39;00m l \u001b[39min\u001b[39;00m \u001b[39mself\u001b[39m\u001b[39m.\u001b[39mlayers:\n\u001b[1;32m    135\u001b[0m     res\u001b[39m.\u001b[39morig \u001b[39m=\u001b[39m x\n\u001b[0;32m--> 136\u001b[0m     nres \u001b[39m=\u001b[39m l(res)\n\u001b[1;32m    137\u001b[0m     \u001b[39m# We have to remove res.orig to avoid hanging refs and therefore memory leaks\u001b[39;00m\n\u001b[1;32m    138\u001b[0m     res\u001b[39m.\u001b[39morig \u001b[39m=\u001b[39m \u001b[39mNone\u001b[39;00m\n",
            "File \u001b[0;32m~/.local/lib/python3.8/site-packages/torch/nn/modules/module.py:1194\u001b[0m, in \u001b[0;36mModule._call_impl\u001b[0;34m(self, *input, **kwargs)\u001b[0m\n\u001b[1;32m   1190\u001b[0m \u001b[39m# If we don't have any hooks, we want to skip the rest of the logic in\u001b[39;00m\n\u001b[1;32m   1191\u001b[0m \u001b[39m# this function, and just call forward.\u001b[39;00m\n\u001b[1;32m   1192\u001b[0m \u001b[39mif\u001b[39;00m \u001b[39mnot\u001b[39;00m (\u001b[39mself\u001b[39m\u001b[39m.\u001b[39m_backward_hooks \u001b[39mor\u001b[39;00m \u001b[39mself\u001b[39m\u001b[39m.\u001b[39m_forward_hooks \u001b[39mor\u001b[39;00m \u001b[39mself\u001b[39m\u001b[39m.\u001b[39m_forward_pre_hooks \u001b[39mor\u001b[39;00m _global_backward_hooks\n\u001b[1;32m   1193\u001b[0m         \u001b[39mor\u001b[39;00m _global_forward_hooks \u001b[39mor\u001b[39;00m _global_forward_pre_hooks):\n\u001b[0;32m-> 1194\u001b[0m     \u001b[39mreturn\u001b[39;00m forward_call(\u001b[39m*\u001b[39;49m\u001b[39minput\u001b[39;49m, \u001b[39m*\u001b[39;49m\u001b[39m*\u001b[39;49mkwargs)\n\u001b[1;32m   1195\u001b[0m \u001b[39m# Do not call functions when jit is used\u001b[39;00m\n\u001b[1;32m   1196\u001b[0m full_backward_hooks, non_full_backward_hooks \u001b[39m=\u001b[39m [], []\n",
            "File \u001b[0;32m~/.local/lib/python3.8/site-packages/fastai/layers.py:136\u001b[0m, in \u001b[0;36mSequentialEx.forward\u001b[0;34m(self, x)\u001b[0m\n\u001b[1;32m    134\u001b[0m \u001b[39mfor\u001b[39;00m l \u001b[39min\u001b[39;00m \u001b[39mself\u001b[39m\u001b[39m.\u001b[39mlayers:\n\u001b[1;32m    135\u001b[0m     res\u001b[39m.\u001b[39morig \u001b[39m=\u001b[39m x\n\u001b[0;32m--> 136\u001b[0m     nres \u001b[39m=\u001b[39m l(res)\n\u001b[1;32m    137\u001b[0m     \u001b[39m# We have to remove res.orig to avoid hanging refs and therefore memory leaks\u001b[39;00m\n\u001b[1;32m    138\u001b[0m     res\u001b[39m.\u001b[39morig \u001b[39m=\u001b[39m \u001b[39mNone\u001b[39;00m\n",
            "File \u001b[0;32m~/.local/lib/python3.8/site-packages/torch/nn/modules/module.py:1194\u001b[0m, in \u001b[0;36mModule._call_impl\u001b[0;34m(self, *input, **kwargs)\u001b[0m\n\u001b[1;32m   1190\u001b[0m \u001b[39m# If we don't have any hooks, we want to skip the rest of the logic in\u001b[39;00m\n\u001b[1;32m   1191\u001b[0m \u001b[39m# this function, and just call forward.\u001b[39;00m\n\u001b[1;32m   1192\u001b[0m \u001b[39mif\u001b[39;00m \u001b[39mnot\u001b[39;00m (\u001b[39mself\u001b[39m\u001b[39m.\u001b[39m_backward_hooks \u001b[39mor\u001b[39;00m \u001b[39mself\u001b[39m\u001b[39m.\u001b[39m_forward_hooks \u001b[39mor\u001b[39;00m \u001b[39mself\u001b[39m\u001b[39m.\u001b[39m_forward_pre_hooks \u001b[39mor\u001b[39;00m _global_backward_hooks\n\u001b[1;32m   1193\u001b[0m         \u001b[39mor\u001b[39;00m _global_forward_hooks \u001b[39mor\u001b[39;00m _global_forward_pre_hooks):\n\u001b[0;32m-> 1194\u001b[0m     \u001b[39mreturn\u001b[39;00m forward_call(\u001b[39m*\u001b[39;49m\u001b[39minput\u001b[39;49m, \u001b[39m*\u001b[39;49m\u001b[39m*\u001b[39;49mkwargs)\n\u001b[1;32m   1195\u001b[0m \u001b[39m# Do not call functions when jit is used\u001b[39;00m\n\u001b[1;32m   1196\u001b[0m full_backward_hooks, non_full_backward_hooks \u001b[39m=\u001b[39m [], []\n",
            "File \u001b[0;32m~/.local/lib/python3.8/site-packages/torch/nn/modules/container.py:204\u001b[0m, in \u001b[0;36mSequential.forward\u001b[0;34m(self, input)\u001b[0m\n\u001b[1;32m    202\u001b[0m \u001b[39mdef\u001b[39;00m \u001b[39mforward\u001b[39m(\u001b[39mself\u001b[39m, \u001b[39minput\u001b[39m):\n\u001b[1;32m    203\u001b[0m     \u001b[39mfor\u001b[39;00m module \u001b[39min\u001b[39;00m \u001b[39mself\u001b[39m:\n\u001b[0;32m--> 204\u001b[0m         \u001b[39minput\u001b[39m \u001b[39m=\u001b[39m module(\u001b[39minput\u001b[39;49m)\n\u001b[1;32m    205\u001b[0m     \u001b[39mreturn\u001b[39;00m \u001b[39minput\u001b[39m\n",
            "File \u001b[0;32m~/.local/lib/python3.8/site-packages/torch/nn/modules/module.py:1194\u001b[0m, in \u001b[0;36mModule._call_impl\u001b[0;34m(self, *input, **kwargs)\u001b[0m\n\u001b[1;32m   1190\u001b[0m \u001b[39m# If we don't have any hooks, we want to skip the rest of the logic in\u001b[39;00m\n\u001b[1;32m   1191\u001b[0m \u001b[39m# this function, and just call forward.\u001b[39;00m\n\u001b[1;32m   1192\u001b[0m \u001b[39mif\u001b[39;00m \u001b[39mnot\u001b[39;00m (\u001b[39mself\u001b[39m\u001b[39m.\u001b[39m_backward_hooks \u001b[39mor\u001b[39;00m \u001b[39mself\u001b[39m\u001b[39m.\u001b[39m_forward_hooks \u001b[39mor\u001b[39;00m \u001b[39mself\u001b[39m\u001b[39m.\u001b[39m_forward_pre_hooks \u001b[39mor\u001b[39;00m _global_backward_hooks\n\u001b[1;32m   1193\u001b[0m         \u001b[39mor\u001b[39;00m _global_forward_hooks \u001b[39mor\u001b[39;00m _global_forward_pre_hooks):\n\u001b[0;32m-> 1194\u001b[0m     \u001b[39mreturn\u001b[39;00m forward_call(\u001b[39m*\u001b[39;49m\u001b[39minput\u001b[39;49m, \u001b[39m*\u001b[39;49m\u001b[39m*\u001b[39;49mkwargs)\n\u001b[1;32m   1195\u001b[0m \u001b[39m# Do not call functions when jit is used\u001b[39;00m\n\u001b[1;32m   1196\u001b[0m full_backward_hooks, non_full_backward_hooks \u001b[39m=\u001b[39m [], []\n",
            "File \u001b[0;32m~/.local/lib/python3.8/site-packages/torch/nn/modules/conv.py:463\u001b[0m, in \u001b[0;36mConv2d.forward\u001b[0;34m(self, input)\u001b[0m\n\u001b[1;32m    462\u001b[0m \u001b[39mdef\u001b[39;00m \u001b[39mforward\u001b[39m(\u001b[39mself\u001b[39m, \u001b[39minput\u001b[39m: Tensor) \u001b[39m-\u001b[39m\u001b[39m>\u001b[39m Tensor:\n\u001b[0;32m--> 463\u001b[0m     \u001b[39mreturn\u001b[39;00m \u001b[39mself\u001b[39;49m\u001b[39m.\u001b[39;49m_conv_forward(\u001b[39minput\u001b[39;49m, \u001b[39mself\u001b[39;49m\u001b[39m.\u001b[39;49mweight, \u001b[39mself\u001b[39;49m\u001b[39m.\u001b[39;49mbias)\n",
            "File \u001b[0;32m~/.local/lib/python3.8/site-packages/torch/nn/modules/conv.py:459\u001b[0m, in \u001b[0;36mConv2d._conv_forward\u001b[0;34m(self, input, weight, bias)\u001b[0m\n\u001b[1;32m    455\u001b[0m \u001b[39mif\u001b[39;00m \u001b[39mself\u001b[39m\u001b[39m.\u001b[39mpadding_mode \u001b[39m!=\u001b[39m \u001b[39m'\u001b[39m\u001b[39mzeros\u001b[39m\u001b[39m'\u001b[39m:\n\u001b[1;32m    456\u001b[0m     \u001b[39mreturn\u001b[39;00m F\u001b[39m.\u001b[39mconv2d(F\u001b[39m.\u001b[39mpad(\u001b[39minput\u001b[39m, \u001b[39mself\u001b[39m\u001b[39m.\u001b[39m_reversed_padding_repeated_twice, mode\u001b[39m=\u001b[39m\u001b[39mself\u001b[39m\u001b[39m.\u001b[39mpadding_mode),\n\u001b[1;32m    457\u001b[0m                     weight, bias, \u001b[39mself\u001b[39m\u001b[39m.\u001b[39mstride,\n\u001b[1;32m    458\u001b[0m                     _pair(\u001b[39m0\u001b[39m), \u001b[39mself\u001b[39m\u001b[39m.\u001b[39mdilation, \u001b[39mself\u001b[39m\u001b[39m.\u001b[39mgroups)\n\u001b[0;32m--> 459\u001b[0m \u001b[39mreturn\u001b[39;00m F\u001b[39m.\u001b[39;49mconv2d(\u001b[39minput\u001b[39;49m, weight, bias, \u001b[39mself\u001b[39;49m\u001b[39m.\u001b[39;49mstride,\n\u001b[1;32m    460\u001b[0m                 \u001b[39mself\u001b[39;49m\u001b[39m.\u001b[39;49mpadding, \u001b[39mself\u001b[39;49m\u001b[39m.\u001b[39;49mdilation, \u001b[39mself\u001b[39;49m\u001b[39m.\u001b[39;49mgroups)\n",
            "\u001b[0;31mKeyboardInterrupt\u001b[0m: "
          ]
        }
      ],
      "source": [
        "for i in range(1, 256):\n",
        "    if i%10==0:\n",
        "        test(i)"
      ]
    },
    {
      "cell_type": "code",
      "execution_count": 89,
      "metadata": {},
      "outputs": [
        {
          "data": {
            "image/png": "[encoded data removed]",
            "text/plain": [
              "<Figure size 640x480 with 1 Axes>"
            ]
          },
          "metadata": {},
          "output_type": "display_data"
        }
      ],
      "source": [
        "temp = pred_idx.transpose(2, 0, 1)[1]\n",
        "\n",
        "round = np.round((temp - np.min(temp))/((np.max(temp) - np.min(temp))))\n",
        "\n",
        "plt.imshow(round, interpolation='nearest')\n",
        "plt.show()"
      ]
    },
    {
      "cell_type": "code",
      "execution_count": 90,
      "metadata": {},
      "outputs": [
        {
          "data": {
            "image/png": "[encoded data removed]",
            "text/plain": [
              "<Figure size 640x480 with 1 Axes>"
            ]
          },
          "metadata": {},
          "output_type": "display_data"
        }
      ],
      "source": [
        "temp = pred_idx.transpose(2, 0, 1)[2]\n",
        "\n",
        "round = np.round((temp - np.min(temp))/((np.max(temp) - np.min(temp))))\n",
        "\n",
        "plt.imshow(round, interpolation='nearest')\n",
        "plt.show()"
      ]
    },
    {
      "cell_type": "code",
      "execution_count": 91,
      "metadata": {},
      "outputs": [
        {
          "data": {
            "image/png": "[encoded data removed]",
            "text/plain": [
              "<Figure size 640x480 with 1 Axes>"
            ]
          },
          "metadata": {},
          "output_type": "display_data"
        }
      ],
      "source": [
        "temp = pred_idx.transpose(2, 0, 1)[3]\n",
        "\n",
        "round = np.round((temp - np.min(temp))/((np.max(temp) - np.min(temp))))\n",
        "\n",
        "plt.imshow(round, interpolation='nearest')\n",
        "plt.show()"
      ]
    },
    {
      "cell_type": "markdown",
      "metadata": {
        "id": "klOpaiNfGWY8"
      },
      "source": [
        "# Libraries"
      ]
    },
    {
      "cell_type": "code",
      "execution_count": 13,
      "metadata": {
        "colab": {
          "base_uri": "https://localhost:8080/"
        },
        "id": "PHWgEA0e0B5z",
        "outputId": "d3cc3e45-223d-48f7-c26b-2c8a427a5758"
      },
      "outputs": [
        {
          "name": "stdout",
          "output_type": "stream",
          "text": [
            "Fri Apr 28 17:03:04 2023       \n",
            "+-----------------------------------------------------------------------------+\n",
            "| NVIDIA-SMI 512.15       Driver Version: 512.15       CUDA Version: 11.6     |\n",
            "|-------------------------------+----------------------+----------------------+\n",
            "| GPU  Name            TCC/WDDM | Bus-Id        Disp.A | Volatile Uncorr. ECC |\n",
            "| Fan  Temp  Perf  Pwr:Usage/Cap|         Memory-Usage | GPU-Util  Compute M. |\n",
            "|                               |                      |               MIG M. |\n",
            "|===============================+======================+======================|\n",
            "|   0  NVIDIA GeForce ... WDDM  | 00000000:01:00.0  On |                  N/A |\n",
            "| 33%   34C    P8    17W / 160W |    380MiB /  6144MiB |     16%      Default |\n",
            "|                               |                      |                  N/A |\n",
            "+-------------------------------+----------------------+----------------------+\n",
            "                                                                               \n",
            "+-----------------------------------------------------------------------------+\n",
            "| Processes:                                                                  |\n",
            "|  GPU   GI   CI        PID   Type   Process name                  GPU Memory |\n",
            "|        ID   ID                                                   Usage      |\n",
            "|=============================================================================|\n",
            "|    0   N/A  N/A      1528    C+G                                   N/A      |\n",
            "|    0   N/A  N/A      5396    C+G   ...e\\PhoneExperienceHost.exe    N/A      |\n",
            "|    0   N/A  N/A      5452    C+G   ...y\\ShellExperienceHost.exe    N/A      |\n",
            "|    0   N/A  N/A      6900    C+G   ...bbwe\\Microsoft.Photos.exe    N/A      |\n",
            "|    0   N/A  N/A      7644    C+G   C:\\Windows\\explorer.exe         N/A      |\n",
            "|    0   N/A  N/A      9328    C+G   ...artMenuExperienceHost.exe    N/A      |\n",
            "|    0   N/A  N/A      9560    C+G   ...icrosoft VS Code\\Code.exe    N/A      |\n",
            "|    0   N/A  N/A      9676    C+G   ...5n1h2txyewy\\SearchApp.exe    N/A      |\n",
            "|    0   N/A  N/A      9920    C+G   ...5n1h2txyewy\\SearchApp.exe    N/A      |\n",
            "|    0   N/A  N/A     11116    C+G   ...2txyewy\\TextInputHost.exe    N/A      |\n",
            "|    0   N/A  N/A     11920    C+G   ...perience\\NVIDIA Share.exe    N/A      |\n",
            "|    0   N/A  N/A     12908    C+G   ...lPanel\\SystemSettings.exe    N/A      |\n",
            "|    0   N/A  N/A     15024    C+G                                   N/A      |\n",
            "+-----------------------------------------------------------------------------+\n"
          ]
        }
      ],
      "source": [
        "!nvidia-smi"
      ]
    },
    {
      "cell_type": "code",
      "execution_count": 14,
      "metadata": {
        "colab": {
          "base_uri": "https://localhost:8080/"
        },
        "id": "pxV4okRH0AVG",
        "outputId": "b36287d0-789d-4eb9-f9f2-958a61fb3113"
      },
      "outputs": [],
      "source": [
        "# from google.colab import drive\n",
        "\n",
        "# drive.mount('/content/drive')\n",
        "ROOT_PATH = 'C:\\\\Users\\\\user\\\\Desktop\\\\M_v_6.0.0\\\\model'"
      ]
    },
    {
      "cell_type": "code",
      "execution_count": 15,
      "metadata": {
        "colab": {
          "base_uri": "https://localhost:8080/"
        },
        "id": "4j3GoLY7n5T9",
        "outputId": "68be445f-5b6b-4da6-807e-a2170e3016af"
      },
      "outputs": [
        {
          "name": "stdout",
          "output_type": "stream",
          "text": [
            "Requirement already satisfied: fastai==1.0.58 in c:\\users\\user\\anaconda3\\lib\\site-packages (1.0.58)\n",
            "Requirement already satisfied: beautifulsoup4 in c:\\users\\user\\anaconda3\\lib\\site-packages (from fastai==1.0.58) (4.10.0)\n",
            "Requirement already satisfied: scipy in c:\\users\\user\\anaconda3\\lib\\site-packages (from fastai==1.0.58) (1.7.1)\n",
            "Requirement already satisfied: nvidia-ml-py3 in c:\\users\\user\\anaconda3\\lib\\site-packages (from fastai==1.0.58) (7.352.0)\n",
            "Requirement already satisfied: requests in c:\\users\\user\\anaconda3\\lib\\site-packages (from fastai==1.0.58) (2.26.0)\n",
            "Requirement already satisfied: torchvision in c:\\users\\user\\anaconda3\\lib\\site-packages (from fastai==1.0.58) (0.15.1)\n",
            "Requirement already satisfied: packaging in c:\\users\\user\\anaconda3\\lib\\site-packages (from fastai==1.0.58) (21.0)\n",
            "Requirement already satisfied: bottleneck in c:\\users\\user\\anaconda3\\lib\\site-packages (from fastai==1.0.58) (1.3.2)\n",
            "Requirement already satisfied: numpy>=1.15 in c:\\users\\user\\anaconda3\\lib\\site-packages (from fastai==1.0.58) (1.20.3)\n",
            "Requirement already satisfied: pandas in c:\\users\\user\\anaconda3\\lib\\site-packages (from fastai==1.0.58) (1.3.4)\n",
            "Requirement already satisfied: spacy>=2.0.18 in c:\\users\\user\\anaconda3\\lib\\site-packages (from fastai==1.0.58) (3.5.2)\n",
            "Requirement already satisfied: numexpr in c:\\users\\user\\anaconda3\\lib\\site-packages (from fastai==1.0.58) (2.7.3)\n",
            "Requirement already satisfied: pyyaml in c:\\users\\user\\anaconda3\\lib\\site-packages (from fastai==1.0.58) (6.0)\n",
            "Requirement already satisfied: fastprogress>=0.1.19 in c:\\users\\user\\anaconda3\\lib\\site-packages (from fastai==1.0.58) (1.0.3)\n",
            "Requirement already satisfied: matplotlib in c:\\users\\user\\anaconda3\\lib\\site-packages (from fastai==1.0.58) (3.4.3)\n",
            "Requirement already satisfied: torch>=1.0.0 in c:\\users\\user\\anaconda3\\lib\\site-packages (from fastai==1.0.58) (2.0.0)\n",
            "Requirement already satisfied: Pillow in c:\\users\\user\\anaconda3\\lib\\site-packages (from fastai==1.0.58) (8.4.0)\n",
            "Requirement already satisfied: jinja2 in c:\\users\\user\\anaconda3\\lib\\site-packages (from spacy>=2.0.18->fastai==1.0.58) (2.11.3)\n",
            "Requirement already satisfied: langcodes<4.0.0,>=3.2.0 in c:\\users\\user\\anaconda3\\lib\\site-packages (from spacy>=2.0.18->fastai==1.0.58) (3.3.0)\n",
            "Requirement already satisfied: catalogue<2.1.0,>=2.0.6 in c:\\users\\user\\anaconda3\\lib\\site-packages (from spacy>=2.0.18->fastai==1.0.58) (2.0.8)\n",
            "Requirement already satisfied: murmurhash<1.1.0,>=0.28.0 in c:\\users\\user\\anaconda3\\lib\\site-packages (from spacy>=2.0.18->fastai==1.0.58) (1.0.9)\n",
            "Requirement already satisfied: tqdm<5.0.0,>=4.38.0 in c:\\users\\user\\anaconda3\\lib\\site-packages (from spacy>=2.0.18->fastai==1.0.58) (4.62.3)\n",
            "Requirement already satisfied: pydantic!=1.8,!=1.8.1,<1.11.0,>=1.7.4 in c:\\users\\user\\anaconda3\\lib\\site-packages (from spacy>=2.0.18->fastai==1.0.58) (1.10.7)\n",
            "Requirement already satisfied: spacy-loggers<2.0.0,>=1.0.0 in c:\\users\\user\\anaconda3\\lib\\site-packages (from spacy>=2.0.18->fastai==1.0.58) (1.0.4)\n",
            "Requirement already satisfied: setuptools in c:\\users\\user\\anaconda3\\lib\\site-packages (from spacy>=2.0.18->fastai==1.0.58) (58.0.4)\n",
            "Requirement already satisfied: cymem<2.1.0,>=2.0.2 in c:\\users\\user\\anaconda3\\lib\\site-packages (from spacy>=2.0.18->fastai==1.0.58) (2.0.7)\n",
            "Requirement already satisfied: thinc<8.2.0,>=8.1.8 in c:\\users\\user\\anaconda3\\lib\\site-packages (from spacy>=2.0.18->fastai==1.0.58) (8.1.9)\n",
            "Requirement already satisfied: pathy>=0.10.0 in c:\\users\\user\\anaconda3\\lib\\site-packages (from spacy>=2.0.18->fastai==1.0.58) (0.10.1)\n",
            "Requirement already satisfied: wasabi<1.2.0,>=0.9.1 in c:\\users\\user\\anaconda3\\lib\\site-packages (from spacy>=2.0.18->fastai==1.0.58) (1.1.1)\n",
            "Requirement already satisfied: spacy-legacy<3.1.0,>=3.0.11 in c:\\users\\user\\anaconda3\\lib\\site-packages (from spacy>=2.0.18->fastai==1.0.58) (3.0.12)\n",
            "Requirement already satisfied: srsly<3.0.0,>=2.4.3 in c:\\users\\user\\anaconda3\\lib\\site-packages (from spacy>=2.0.18->fastai==1.0.58) (2.4.6)\n",
            "Requirement already satisfied: preshed<3.1.0,>=3.0.2 in c:\\users\\user\\anaconda3\\lib\\site-packages (from spacy>=2.0.18->fastai==1.0.58) (3.0.8)\n",
            "Requirement already satisfied: smart-open<7.0.0,>=5.2.1 in c:\\users\\user\\anaconda3\\lib\\site-packages (from spacy>=2.0.18->fastai==1.0.58) (6.3.0)\n",
            "Requirement already satisfied: typer<0.8.0,>=0.3.0 in c:\\users\\user\\anaconda3\\lib\\site-packages (from spacy>=2.0.18->fastai==1.0.58) (0.7.0)\n",
            "Requirement already satisfied: pyparsing>=2.0.2 in c:\\users\\user\\anaconda3\\lib\\site-packages (from packaging->fastai==1.0.58) (3.0.4)\n",
            "Requirement already satisfied: typing-extensions>=4.2.0 in c:\\users\\user\\anaconda3\\lib\\site-packages (from pydantic!=1.8,!=1.8.1,<1.11.0,>=1.7.4->spacy>=2.0.18->fastai==1.0.58) (4.5.0)\n",
            "Requirement already satisfied: idna<4,>=2.5 in c:\\users\\user\\anaconda3\\lib\\site-packages (from requests->fastai==1.0.58) (3.2)\n",
            "Requirement already satisfied: certifi>=2017.4.17 in c:\\users\\user\\anaconda3\\lib\\site-packages (from requests->fastai==1.0.58) (2021.10.8)\n",
            "Requirement already satisfied: charset-normalizer~=2.0.0 in c:\\users\\user\\anaconda3\\lib\\site-packages (from requests->fastai==1.0.58) (2.0.4)\n",
            "Requirement already satisfied: urllib3<1.27,>=1.21.1 in c:\\users\\user\\anaconda3\\lib\\site-packages (from requests->fastai==1.0.58) (1.26.7)\n",
            "Requirement already satisfied: confection<1.0.0,>=0.0.1 in c:\\users\\user\\anaconda3\\lib\\site-packages (from thinc<8.2.0,>=8.1.8->spacy>=2.0.18->fastai==1.0.58) (0.0.4)\n",
            "Requirement already satisfied: blis<0.8.0,>=0.7.8 in c:\\users\\user\\anaconda3\\lib\\site-packages (from thinc<8.2.0,>=8.1.8->spacy>=2.0.18->fastai==1.0.58) (0.7.9)\n",
            "Requirement already satisfied: filelock in c:\\users\\user\\anaconda3\\lib\\site-packages (from torch>=1.0.0->fastai==1.0.58) (3.3.1)\n",
            "Requirement already satisfied: networkx in c:\\users\\user\\anaconda3\\lib\\site-packages (from torch>=1.0.0->fastai==1.0.58) (2.6.3)\n",
            "Requirement already satisfied: sympy in c:\\users\\user\\anaconda3\\lib\\site-packages (from torch>=1.0.0->fastai==1.0.58) (1.9)\n",
            "Requirement already satisfied: colorama in c:\\users\\user\\anaconda3\\lib\\site-packages (from tqdm<5.0.0,>=4.38.0->spacy>=2.0.18->fastai==1.0.58) (0.4.6)\n",
            "Requirement already satisfied: click<9.0.0,>=7.1.1 in c:\\users\\user\\anaconda3\\lib\\site-packages (from typer<0.8.0,>=0.3.0->spacy>=2.0.18->fastai==1.0.58) (8.0.3)\n",
            "Requirement already satisfied: soupsieve>1.2 in c:\\users\\user\\anaconda3\\lib\\site-packages (from beautifulsoup4->fastai==1.0.58) (2.2.1)\n",
            "Requirement already satisfied: MarkupSafe>=0.23 in c:\\users\\user\\anaconda3\\lib\\site-packages (from jinja2->spacy>=2.0.18->fastai==1.0.58) (1.1.1)\n",
            "Requirement already satisfied: cycler>=0.10 in c:\\users\\user\\anaconda3\\lib\\site-packages (from matplotlib->fastai==1.0.58) (0.10.0)\n",
            "Requirement already satisfied: python-dateutil>=2.7 in c:\\users\\user\\anaconda3\\lib\\site-packages (from matplotlib->fastai==1.0.58) (2.8.2)\n",
            "Requirement already satisfied: kiwisolver>=1.0.1 in c:\\users\\user\\anaconda3\\lib\\site-packages (from matplotlib->fastai==1.0.58) (1.3.1)\n",
            "Requirement already satisfied: six in c:\\users\\user\\anaconda3\\lib\\site-packages (from cycler>=0.10->matplotlib->fastai==1.0.58) (1.16.0)\n",
            "Requirement already satisfied: pytz>=2017.3 in c:\\users\\user\\anaconda3\\lib\\site-packages (from pandas->fastai==1.0.58) (2021.3)\n",
            "Requirement already satisfied: mpmath>=0.19 in c:\\users\\user\\anaconda3\\lib\\site-packages (from sympy->torch>=1.0.0->fastai==1.0.58) (1.2.1)\n"
          ]
        },
        {
          "name": "stderr",
          "output_type": "stream",
          "text": [
            "ERROR: Could not find a version that satisfies the requirement torch==1.4.0 (from versions: 1.7.1, 1.8.0, 1.8.1, 1.9.0, 1.9.1, 1.10.0, 1.10.1, 1.10.2, 1.11.0, 1.12.0, 1.12.1, 1.13.0, 1.13.1, 2.0.0)\n",
            "ERROR: No matching distribution found for torch==1.4.0\n",
            "ERROR: Could not find a version that satisfies the requirement torchvision==0.5.0 (from versions: 0.1.6, 0.1.7, 0.1.8, 0.1.9, 0.2.0, 0.2.1, 0.2.2, 0.2.2.post2, 0.2.2.post3, 0.9.0, 0.9.1, 0.10.0, 0.10.1, 0.11.0, 0.11.1, 0.11.2, 0.11.3, 0.12.0, 0.13.0, 0.13.1, 0.14.0, 0.14.1, 0.15.0, 0.15.1)\n",
            "ERROR: No matching distribution found for torchvision==0.5.0\n"
          ]
        }
      ],
      "source": [
        "!pip install fastai==1.0.58\n",
        "!pip install torch==1.4.0\n",
        "!pip install torchvision==0.5.0"
      ]
    },
    {
      "cell_type": "code",
      "execution_count": 16,
      "metadata": {
        "id": "ZPAD--_jGWY8"
      },
      "outputs": [],
      "source": [
        "import numpy as np\n",
        "import pandas as pd\n",
        "import warnings\n",
        "warnings.filterwarnings('ignore')"
      ]
    },
    {
      "cell_type": "markdown",
      "metadata": {
        "id": "kqVPOzsLGWY-"
      },
      "source": [
        "Importing the FastAI libraries:"
      ]
    },
    {
      "cell_type": "code",
      "execution_count": 17,
      "metadata": {
        "colab": {
          "base_uri": "https://localhost:8080/"
        },
        "id": "QldOebBMtkbf",
        "outputId": "08f00713-1ec2-4887-b314-c7e08aa0e33f"
      },
      "outputs": [
        {
          "name": "stdout",
          "output_type": "stream",
          "text": [
            "Package                            Version\n",
            "---------------------------------- --------------------\n",
            "alabaster                          0.7.12\n",
            "anaconda-client                    1.9.0\n",
            "anaconda-navigator                 2.1.1\n",
            "anaconda-project                   0.10.1\n",
            "anyio                              2.2.0\n",
            "appdirs                            1.4.4\n",
            "argh                               0.26.2\n",
            "argon2-cffi                        20.1.0\n",
            "arrow                              0.13.1\n",
            "asn1crypto                         1.4.0\n",
            "astroid                            2.6.6\n",
            "astropy                            4.3.1\n",
            "async-generator                    1.10\n",
            "atomicwrites                       1.4.0\n",
            "attrs                              21.2.0\n",
            "autopep8                           1.5.7\n",
            "Babel                              2.9.1\n",
            "backcall                           0.2.0\n",
            "backports.functools-lru-cache      1.6.4\n",
            "backports.shutil-get-terminal-size 1.0.0\n",
            "backports.tempfile                 1.0\n",
            "backports.weakref                  1.0.post1\n",
            "bcrypt                             3.2.0\n",
            "beautifulsoup4                     4.10.0\n",
            "binaryornot                        0.4.4\n",
            "bitarray                           2.3.0\n",
            "bkcharts                           0.2\n",
            "black                              19.10b0\n",
            "bleach                             4.0.0\n",
            "blis                               0.7.9\n",
            "bokeh                              2.4.1\n",
            "boto                               2.49.0\n",
            "Bottleneck                         1.3.2\n",
            "brotlipy                           0.7.0\n",
            "cached-property                    1.5.2\n",
            "catalogue                          2.0.8\n",
            "certifi                            2021.10.8\n",
            "cffi                               1.14.6\n",
            "chardet                            4.0.0\n",
            "charset-normalizer                 2.0.4\n",
            "click                              8.0.3\n",
            "cloudpickle                        2.0.0\n",
            "clyent                             1.2.2\n",
            "colorama                           0.4.6\n",
            "comtypes                           1.1.10\n",
            "conda                              4.10.3\n",
            "conda-build                        3.21.6\n",
            "conda-content-trust                0+unknown\n",
            "conda-pack                         0.6.0\n",
            "conda-package-handling             1.7.3\n",
            "conda-repo-cli                     1.0.4\n",
            "conda-token                        0.3.0\n",
            "conda-verify                       3.4.2\n",
            "confection                         0.0.4\n",
            "contextlib2                        0.6.0.post1\n",
            "cookiecutter                       1.7.2\n",
            "cryptography                       3.4.8\n",
            "cycler                             0.10.0\n",
            "cymem                              2.0.7\n",
            "Cython                             0.29.24\n",
            "cytoolz                            0.11.0\n",
            "daal4py                            2021.3.0\n",
            "dask                               2021.10.0\n",
            "debugpy                            1.4.1\n",
            "decorator                          5.1.0\n",
            "defusedxml                         0.7.1\n",
            "diff-match-patch                   20200713\n",
            "distributed                        2021.10.0\n",
            "docutils                           0.17.1\n",
            "entrypoints                        0.3\n",
            "et-xmlfile                         1.1.0\n",
            "fastai                             1.0.58\n",
            "fastcache                          1.1.0\n",
            "fastprogress                       1.0.3\n",
            "filelock                           3.3.1\n",
            "flake8                             3.9.2\n",
            "Flask                              1.1.2\n",
            "fonttools                          4.25.0\n",
            "fsspec                             2021.10.1\n",
            "future                             0.18.2\n",
            "gevent                             21.8.0\n",
            "glob2                              0.7\n",
            "greenlet                           1.1.1\n",
            "h5py                               3.2.1\n",
            "HeapDict                           1.0.1\n",
            "html5lib                           1.1\n",
            "idna                               3.2\n",
            "imagecodecs                        2021.8.26\n",
            "imageio                            2.9.0\n",
            "imagesize                          1.2.0\n",
            "importlib-metadata                 4.8.1\n",
            "inflection                         0.5.1\n",
            "iniconfig                          1.1.1\n",
            "intervaltree                       3.1.0\n",
            "ipykernel                          6.4.1\n",
            "ipython                            7.29.0\n",
            "ipython-genutils                   0.2.0\n",
            "ipywidgets                         7.6.5\n",
            "isort                              5.9.3\n",
            "itsdangerous                       2.0.1\n",
            "jdcal                              1.4.1\n",
            "jedi                               0.18.0\n",
            "Jinja2                             2.11.3\n",
            "jinja2-time                        0.2.0\n",
            "joblib                             1.1.0\n",
            "json5                              0.9.6\n",
            "jsonschema                         3.2.0\n",
            "jupyter                            1.0.0\n",
            "jupyter-client                     6.1.12\n",
            "jupyter-console                    6.4.0\n",
            "jupyter-core                       4.8.1\n",
            "jupyter-server                     1.4.1\n",
            "jupyterlab                         3.2.1\n",
            "jupyterlab-pygments                0.1.2\n",
            "jupyterlab-server                  2.8.2\n",
            "jupyterlab-widgets                 1.0.0\n",
            "keyring                            23.1.0\n",
            "kiwisolver                         1.3.1\n",
            "langcodes                          3.3.0\n",
            "lazy-object-proxy                  1.6.0\n",
            "libarchive-c                       2.9\n",
            "llvmlite                           0.37.0\n",
            "locket                             0.2.1\n",
            "lxml                               4.6.3\n",
            "MarkupSafe                         1.1.1\n",
            "matplotlib                         3.4.3\n",
            "matplotlib-inline                  0.1.2\n",
            "mccabe                             0.6.1\n",
            "menuinst                           1.4.18\n",
            "mistune                            0.8.4\n",
            "mkl-fft                            1.3.1\n",
            "mkl-random                         1.2.2\n",
            "mkl-service                        2.4.0\n",
            "mock                               4.0.3\n",
            "more-itertools                     8.10.0\n",
            "mpmath                             1.2.1\n",
            "msgpack                            1.0.2\n",
            "multipledispatch                   0.6.0\n",
            "munkres                            1.1.4\n",
            "murmurhash                         1.0.9\n",
            "mypy-extensions                    0.4.3\n",
            "navigator-updater                  0.2.1\n",
            "nbclassic                          0.2.6\n",
            "nbclient                           0.5.3\n",
            "nbconvert                          6.1.0\n",
            "nbformat                           5.1.3\n",
            "nest-asyncio                       1.5.1\n",
            "networkx                           2.6.3\n",
            "nltk                               3.6.5\n",
            "nose                               1.3.7\n",
            "notebook                           6.4.5\n",
            "numba                              0.54.1\n",
            "numexpr                            2.7.3\n",
            "numpy                              1.20.3\n",
            "numpydoc                           1.1.0\n",
            "nvidia-ml-py3                      7.352.0\n",
            "olefile                            0.46\n",
            "opencv-python                      4.7.0.72\n",
            "openpyxl                           3.0.9\n",
            "packaging                          21.0\n",
            "pandas                             1.3.4\n",
            "pandocfilters                      1.4.3\n",
            "paramiko                           2.7.2\n",
            "parso                              0.8.2\n",
            "partd                              1.2.0\n",
            "path                               16.0.0\n",
            "pathlib2                           2.3.6\n",
            "pathspec                           0.7.0\n",
            "pathy                              0.10.1\n",
            "patsy                              0.5.2\n",
            "pep8                               1.7.1\n",
            "pexpect                            4.8.0\n",
            "pickleshare                        0.7.5\n",
            "Pillow                             8.4.0\n",
            "pip                                21.2.4\n",
            "pkginfo                            1.7.1\n",
            "pluggy                             0.13.1\n",
            "ply                                3.11\n",
            "poyo                               0.5.0\n",
            "preshed                            3.0.8\n",
            "prometheus-client                  0.11.0\n",
            "prompt-toolkit                     3.0.20\n",
            "psutil                             5.8.0\n",
            "ptyprocess                         0.7.0\n",
            "py                                 1.10.0\n",
            "pycodestyle                        2.7.0\n",
            "pycosat                            0.6.3\n",
            "pycparser                          2.20\n",
            "pycurl                             7.44.1\n",
            "pydantic                           1.10.7\n",
            "pydocstyle                         6.1.1\n",
            "pyerfa                             2.0.0\n",
            "pyflakes                           2.3.1\n",
            "Pygments                           2.10.0\n",
            "PyJWT                              2.1.0\n",
            "pylint                             2.9.6\n",
            "pyls-spyder                        0.4.0\n",
            "PyNaCl                             1.4.0\n",
            "pyodbc                             4.0.0-unsupported\n",
            "pyOpenSSL                          21.0.0\n",
            "pyparsing                          3.0.4\n",
            "pyreadline                         2.1\n",
            "pyrsistent                         0.18.0\n",
            "PySocks                            1.7.1\n",
            "pytest                             6.2.4\n",
            "python-dateutil                    2.8.2\n",
            "python-lsp-black                   1.0.0\n",
            "python-lsp-jsonrpc                 1.0.0\n",
            "python-lsp-server                  1.2.4\n",
            "python-slugify                     5.0.2\n",
            "pytz                               2021.3\n",
            "PyWavelets                         1.1.1\n",
            "pywin32                            228\n",
            "pywin32-ctypes                     0.2.0\n",
            "pywinpty                           0.5.7\n",
            "PyYAML                             6.0\n",
            "pyzmq                              22.2.1\n",
            "QDarkStyle                         3.0.2\n",
            "qstylizer                          0.1.10\n",
            "QtAwesome                          1.0.2\n",
            "qtconsole                          5.1.1\n",
            "QtPy                               1.10.0\n",
            "regex                              2021.8.3\n",
            "requests                           2.26.0\n",
            "rope                               0.19.0\n",
            "Rtree                              0.9.7\n",
            "ruamel-yaml-conda                  0.15.100\n",
            "scikit-image                       0.18.3\n",
            "scikit-learn                       0.24.2\n",
            "scikit-learn-intelex               2021.20210714.120553\n",
            "scipy                              1.7.1\n",
            "seaborn                            0.11.2\n",
            "Send2Trash                         1.8.0\n",
            "setuptools                         58.0.4\n",
            "simplegeneric                      0.8.1\n",
            "singledispatch                     3.7.0\n",
            "sip                                4.19.13\n",
            "six                                1.16.0\n",
            "smart-open                         6.3.0\n",
            "sniffio                            1.2.0\n",
            "snowballstemmer                    2.1.0\n",
            "sortedcollections                  2.1.0\n",
            "sortedcontainers                   2.4.0\n",
            "soupsieve                          2.2.1\n",
            "spacy                              3.5.2\n",
            "spacy-legacy                       3.0.12\n",
            "spacy-loggers                      1.0.4\n",
            "Sphinx                             4.2.0\n",
            "sphinxcontrib-applehelp            1.0.2\n",
            "sphinxcontrib-devhelp              1.0.2\n",
            "sphinxcontrib-htmlhelp             2.0.0\n",
            "sphinxcontrib-jsmath               1.0.1\n",
            "sphinxcontrib-qthelp               1.0.3\n",
            "sphinxcontrib-serializinghtml      1.1.5\n",
            "sphinxcontrib-websupport           1.2.4\n",
            "spyder                             5.1.5\n",
            "spyder-kernels                     2.1.3\n",
            "SQLAlchemy                         1.4.22\n",
            "srsly                              2.4.6\n",
            "statsmodels                        0.12.2\n",
            "sympy                              1.9\n",
            "tables                             3.6.1\n",
            "TBB                                0.2\n",
            "tblib                              1.7.0\n",
            "terminado                          0.9.4\n",
            "testpath                           0.5.0\n",
            "text-unidecode                     1.3\n",
            "textdistance                       4.2.1\n",
            "thinc                              8.1.9\n",
            "threadpoolctl                      2.2.0\n",
            "three-merge                        0.1.1\n",
            "tifffile                           2021.7.2\n",
            "tinycss                            0.4\n",
            "toml                               0.10.2\n",
            "toolz                              0.11.1\n",
            "torch                              2.0.0\n",
            "torchvision                        0.15.1\n",
            "tornado                            6.1\n",
            "tqdm                               4.62.3\n",
            "traitlets                          5.1.0\n",
            "typed-ast                          1.4.3\n",
            "typer                              0.7.0\n",
            "typing_extensions                  4.5.0\n",
            "ujson                              4.0.2\n",
            "unicodecsv                         0.14.1\n",
            "Unidecode                          1.2.0\n",
            "urllib3                            1.26.7\n",
            "wasabi                             1.1.1\n",
            "watchdog                           2.1.3\n",
            "wcwidth                            0.2.5\n",
            "webencodings                       0.5.1\n",
            "Werkzeug                           2.0.2\n",
            "wheel                              0.37.0\n",
            "whichcraft                         0.6.1\n",
            "widgetsnbextension                 3.5.1\n",
            "win-inet-pton                      1.1.0\n",
            "win-unicode-console                0.5\n",
            "wincertstore                       0.2\n",
            "wrapt                              1.12.1\n",
            "xlrd                               2.0.1\n",
            "XlsxWriter                         3.0.1\n",
            "xlwings                            0.24.9\n",
            "xlwt                               1.3.0\n",
            "xmltodict                          0.12.0\n",
            "yapf                               0.31.0\n",
            "zict                               2.0.0\n",
            "zipp                               3.6.0\n",
            "zope.event                         4.5.0\n",
            "zope.interface                     5.4.0\n"
          ]
        }
      ],
      "source": [
        "!pip list"
      ]
    },
    {
      "cell_type": "code",
      "execution_count": 18,
      "metadata": {
        "id": "r1JQ8iKXs0Xm"
      },
      "outputs": [],
      "source": [
        "# from collections.abc import Iterable"
      ]
    },
    {
      "cell_type": "code",
      "execution_count": 72,
      "metadata": {
        "id": "fnhNo0-wGWY_"
      },
      "outputs": [],
      "source": [
        "from fastai.vision import *\n",
        "from fastai.metrics import *\n",
        "from fastai.callbacks.hooks import *\n",
        "from fastai.utils.mem import *"
      ]
    },
    {
      "cell_type": "code",
      "execution_count": 73,
      "metadata": {
        "id": "HgKL5HjatSad"
      },
      "outputs": [],
      "source": [
        "\n",
        "from datetime import datetime\n",
        "from time import time\n",
        "\n",
        "# import numpy as np # linear algebra\n",
        "# import pandas as pd # data processing, CSV file I/O (e.g. pd.read_csv)\n",
        "\n",
        "from tqdm import tqdm\n",
        "\n",
        "import matplotlib\n",
        "import matplotlib.pyplot as plt\n",
        "from matplotlib.lines import Line2D\n",
        "\n",
        "# import warnings\n",
        "\n",
        "import fastai\n",
        "# from fastai.vision import *\n",
        "from fastai.callbacks import *\n",
        "# from fastai.callbacks.hooks import *\n",
        "# from fastai.utils.mem import *"
      ]
    },
    {
      "cell_type": "code",
      "execution_count": 74,
      "metadata": {
        "colab": {
          "base_uri": "https://localhost:8080/"
        },
        "id": "FYGK2-74tkvn",
        "outputId": "4fc4bc73-c838-4310-b217-2a481c8d9911"
      },
      "outputs": [
        {
          "name": "stdout",
          "output_type": "stream",
          "text": [
            "\n",
            "\n",
            "```text\n",
            "=== Software === \n",
            "python       : 3.8.16\n",
            "fastai       : 1.0.58\n",
            "fastprogress : 1.0.3\n",
            "torch        : 1.13.1+cu116\n",
            "torch cuda   : 11.6 / is **Not available** \n",
            "\n",
            "=== Hardware === \n",
            "No GPUs available \n",
            "\n",
            "=== Environment === \n",
            "platform     : Linux-5.19.0-35-generic-x86_64-with-glibc2.35\n",
            "distro       : Ubuntu 22.04 Jammy Jellyfish\n",
            "conda env    : Unknown\n",
            "python       : /bin/python3.8\n",
            "sys.path     : /home/yasaisen/Desktop/09_research/09_research_main/lab_07\n",
            "/usr/lib/python38.zip\n",
            "/usr/lib/python3.8\n",
            "/usr/lib/python3.8/lib-dynload\n",
            "\n",
            "/home/yasaisen/.local/lib/python3.8/site-packages\n",
            "/usr/local/lib/python3.8/dist-packages\n",
            "/usr/lib/python3/dist-packages\n",
            "no supported gpus found on this system\n",
            "```\n",
            "\n",
            "Please make sure to include opening/closing ``` when you paste into forums/github to make the reports appear formatted as code sections.\n",
            "\n"
          ]
        },
        {
          "name": "stderr",
          "output_type": "stream",
          "text": [
            "/home/yasaisen/.local/lib/python3.8/site-packages/torch/cuda/__init__.py:497: UserWarning: Can't initialize NVML\n",
            "  warnings.warn(\"Can't initialize NVML\")\n"
          ]
        }
      ],
      "source": [
        "from fastai.utils.show_install import show_install; show_install()"
      ]
    },
    {
      "cell_type": "markdown",
      "metadata": {
        "id": "mV-3osIVGWZA"
      },
      "source": [
        "# Dataset"
      ]
    },
    {
      "cell_type": "code",
      "execution_count": 22,
      "metadata": {
        "id": "ZEvggolFoRbH"
      },
      "outputs": [],
      "source": [
        "def checkpath(path):\n",
        "    if not os.path.exists(path):\n",
        "        os.makedirs(path)"
      ]
    },
    {
      "cell_type": "code",
      "execution_count": 23,
      "metadata": {
        "id": "Mk9yJ8_JRapL"
      },
      "outputs": [],
      "source": [
        "# model\n",
        "\n",
        "mVersion = 'M6.0.0'\n",
        "\n",
        "root_folder = os.path.abspath(os.path.join(ROOT_PATH, mVersion))\n",
        "\n",
        "model_DIR = os.path.abspath(os.path.join(root_folder, 'model'))\n",
        "checkpath(model_DIR)"
      ]
    },
    {
      "cell_type": "code",
      "execution_count": 24,
      "metadata": {},
      "outputs": [
        {
          "data": {
            "text/plain": [
              "'C:\\\\Users\\\\user\\\\Desktop\\\\M_v_6.0.0\\\\model\\\\M6.0.0'"
            ]
          },
          "execution_count": 24,
          "metadata": {},
          "output_type": "execute_result"
        }
      ],
      "source": [
        "root_folder"
      ]
    },
    {
      "cell_type": "code",
      "execution_count": 25,
      "metadata": {
        "id": "aHNV9CYSn5NF"
      },
      "outputs": [],
      "source": [
        "# dataset\n",
        "\n",
        "# dVersion = 'C2.9.3'\n",
        "\n",
        "root_folder = os.path.abspath(os.path.join(ROOT_PATH, 'forstartdata'))\n",
        "\n",
        "classescsv_path = os.path.join(root_folder, 'classes.csv')\n",
        "# classescsv_path = os.path.join(root_folder, 'classes_all_classes.csv')"
      ]
    },
    {
      "cell_type": "code",
      "execution_count": 26,
      "metadata": {
        "id": "t8BMCWM_GWZF"
      },
      "outputs": [],
      "source": [
        "size = 540\n",
        "bs = 2"
      ]
    },
    {
      "cell_type": "markdown",
      "metadata": {
        "id": "GCAZFrjkGWZG"
      },
      "source": [
        "The classes are stored in a csv so taking a look at it:"
      ]
    },
    {
      "cell_type": "code",
      "execution_count": 27,
      "metadata": {
        "colab": {
          "base_uri": "https://localhost:8080/",
          "height": 175
        },
        "id": "iIuyZDZkGWZG",
        "outputId": "79c76543-6321-42d7-9f51-21b1121dc939"
      },
      "outputs": [
        {
          "data": {
            "text/html": [
              "<div>\n",
              "<style scoped>\n",
              "    .dataframe tbody tr th:only-of-type {\n",
              "        vertical-align: middle;\n",
              "    }\n",
              "\n",
              "    .dataframe tbody tr th {\n",
              "        vertical-align: top;\n",
              "    }\n",
              "\n",
              "    .dataframe thead th {\n",
              "        text-align: right;\n",
              "    }\n",
              "</style>\n",
              "<table border=\"1\" class=\"dataframe\">\n",
              "  <thead>\n",
              "    <tr style=\"text-align: right;\">\n",
              "      <th></th>\n",
              "      <th>_id</th>\n",
              "      <th>_class</th>\n",
              "      <th>_name</th>\n",
              "    </tr>\n",
              "  </thead>\n",
              "  <tbody>\n",
              "    <tr>\n",
              "      <th>0</th>\n",
              "      <td>0</td>\n",
              "      <td>ground</td>\n",
              "      <td>ground</td>\n",
              "    </tr>\n",
              "    <tr>\n",
              "      <th>1</th>\n",
              "      <td>1</td>\n",
              "      <td>frontglottis</td>\n",
              "      <td>frontglottis</td>\n",
              "    </tr>\n",
              "    <tr>\n",
              "      <th>2</th>\n",
              "      <td>2</td>\n",
              "      <td>vfright</td>\n",
              "      <td>vfright</td>\n",
              "    </tr>\n",
              "    <tr>\n",
              "      <th>3</th>\n",
              "      <td>3</td>\n",
              "      <td>vfleft</td>\n",
              "      <td>vfleft</td>\n",
              "    </tr>\n",
              "  </tbody>\n",
              "</table>\n",
              "</div>"
            ],
            "text/plain": [
              "   _id        _class         _name\n",
              "0    0        ground        ground\n",
              "1    1  frontglottis  frontglottis\n",
              "2    2       vfright       vfright\n",
              "3    3        vfleft        vfleft"
            ]
          },
          "execution_count": 27,
          "metadata": {},
          "output_type": "execute_result"
        }
      ],
      "source": [
        "classescsv = pd.read_csv(classescsv_path)\n",
        "\n",
        "classescsv.head()"
      ]
    },
    {
      "cell_type": "markdown",
      "metadata": {
        "id": "RyhVQT5PGWZH"
      },
      "source": [
        "I will now seperate out the _class since it contains the classes and turn it into a list:"
      ]
    },
    {
      "cell_type": "code",
      "execution_count": 28,
      "metadata": {
        "id": "WL0zK3aXGWZH"
      },
      "outputs": [
        {
          "data": {
            "text/plain": [
              "['ground', 'frontglottis', 'vfright', 'vfleft']"
            ]
          },
          "execution_count": 28,
          "metadata": {},
          "output_type": "execute_result"
        }
      ],
      "source": [
        "classes = list(classescsv['_class'])\n",
        "classes"
      ]
    },
    {
      "cell_type": "markdown",
      "metadata": {
        "id": "MZ4xwLDQGWZH"
      },
      "source": [
        "Finally defining the data our model will run on:"
      ]
    },
    {
      "cell_type": "code",
      "execution_count": 29,
      "metadata": {
        "id": "UKBfBZc8dW9U"
      },
      "outputs": [],
      "source": [
        "trainpath = os.path.join(root_folder, 'train_for_base_imgs\\\\')\n",
        "# trainpath_rgb = os.path.join(root_folder, 'train_for_base_imgs_rgb/')\n",
        "trainlabel = os.path.join(root_folder, 'train_for_base_mask\\\\')\n",
        "\n",
        "# trainpath_ = os.path.join(root_folder, 'train_for_step_imgs/')\n",
        "# trainpath_rgb_ = os.path.join(root_folder, 'train_for_step_imgs_rgb/')\n",
        "# trainlabel_ = os.path.join(root_folder, 'train_for_step_mask/')\n",
        "\n",
        "validpath = os.path.join(root_folder, 'valid_imgs\\\\')\n",
        "# validpath_rgb = os.path.join(root_folder, 'valid_imgs_rgb/')\n",
        "validlabel = os.path.join(root_folder, 'valid_mask\\\\')\n",
        "\n",
        "# testpath = os.path.join(root_folder, 'test_imgs/')\n",
        "# testpath_rgb = os.path.join(root_folder, 'test_imgs_rgb/')\n",
        "# testlabel = os.path.join(root_folder, 'test_mask/')"
      ]
    },
    {
      "cell_type": "code",
      "execution_count": 30,
      "metadata": {
        "id": "FFYEtOEunS-j"
      },
      "outputs": [],
      "source": [
        "def transform(self, tfms:Optional[Tuple[TfmList,TfmList]]=(None,None), **kwargs):\n",
        "    if not tfms: tfms=(None,None)\n",
        "    assert is_listy(tfms) and len(tfms) == 2\n",
        "    self.train.transform(tfms[0], **kwargs)\n",
        "    self.valid.transform(tfms[1], **kwargs)\n",
        "    kwargs['tfm_y'] = False # Test data has no labels\n",
        "    if self.test: self.test.transform(tfms[1], **kwargs)\n",
        "    return self\n",
        "\n",
        "fastai.data_block.ItemLists.transform = transform"
      ]
    },
    {
      "cell_type": "code",
      "execution_count": 31,
      "metadata": {
        "id": "2J0ZF8FHupSV"
      },
      "outputs": [],
      "source": [
        "def get_mask(imgs_name):\n",
        "  if str(imgs_name).split('\\\\')[-2] == 'train_for_base_imgs' :\n",
        "    return trainlabel\n",
        "  else:\n",
        "    return validlabel"
      ]
    },
    {
      "cell_type": "code",
      "execution_count": 32,
      "metadata": {
        "id": "-7VmqHtIw9O_"
      },
      "outputs": [],
      "source": [
        "get_z = lambda x: get_mask(x) + (x.stem.replace(x.stem.split('_B')[-1], 'RRR')).replace('BRRR', 'C4.png')\n",
        "# # get_z = lambda x: get_mask(x) + (x.stem.replace(x.stem.split('_B')[-1], 'RRR')).replace('BRRR', 'C12.png')"
      ]
    },
    {
      "cell_type": "code",
      "execution_count": 33,
      "metadata": {
        "id": "sgM9n-1QyT0z"
      },
      "outputs": [],
      "source": [
        "# NEW_DATA_PATH = os.path.join(ROOT_PATH, 'data')\n",
        "\n",
        "# new_train_for_base_mask_DIR = os.path.join(NEW_DATA_PATH, 'train_for_base_mask')\n",
        "# new_train_for_base_jpgs_DIR = os.path.join(NEW_DATA_PATH, 'train_for_base_imgs')\n",
        "# new_train_for_base_jpgs_rgb_DIR = os.path.join(NEW_DATA_PATH, 'train_for_base_imgs_rgb')\n",
        "\n",
        "# new_train_for_step_mask_DIR = os.path.join(NEW_DATA_PATH, 'train_for_step_mask')\n",
        "# new_train_for_step_jpgs_DIR = os.path.join(NEW_DATA_PATH, 'train_for_step_imgs')\n",
        "# new_train_for_step_jpgs_rgb_DIR = os.path.join(NEW_DATA_PATH, 'train_for_step_imgs_rgb')\n",
        "\n",
        "# new_valid_mask_DIR = os.path.join(NEW_DATA_PATH, 'valid_mask')\n",
        "# new_valid_jpgs_DIR = os.path.join(NEW_DATA_PATH, 'valid_imgs')\n",
        "# new_valid_jpgs_rgb_DIR = os.path.join(NEW_DATA_PATH, 'valid_imgs_rgb')\n",
        "\n",
        "# new_test_mask_DIR = os.path.join(NEW_DATA_PATH, 'test_mask')\n",
        "# new_test_jpgs_DIR = os.path.join(NEW_DATA_PATH, 'test_imgs')\n",
        "# new_test_jpgs_rgb_DIR = os.path.join(NEW_DATA_PATH, 'test_imgs_rgb')\n",
        "\n",
        "# checkpath(new_train_for_base_mask_DIR)\n",
        "# checkpath(new_train_for_base_jpgs_DIR)\n",
        "# checkpath(new_train_for_base_jpgs_rgb_DIR)\n",
        "\n",
        "# checkpath(new_train_for_step_mask_DIR)  \n",
        "# checkpath(new_train_for_step_jpgs_DIR)\n",
        "# checkpath(new_train_for_step_jpgs_rgb_DIR)\n",
        "\n",
        "# checkpath(new_valid_mask_DIR)\n",
        "# checkpath(new_valid_jpgs_DIR)\n",
        "# checkpath(new_valid_jpgs_rgb_DIR)\n",
        "\n",
        "# checkpath(new_test_mask_DIR)\n",
        "# checkpath(new_test_jpgs_DIR)\n",
        "# checkpath(new_test_jpgs_rgb_DIR)"
      ]
    },
    {
      "cell_type": "code",
      "execution_count": 34,
      "metadata": {
        "colab": {
          "base_uri": "https://localhost:8080/",
          "height": 432
        },
        "id": "4dqVK4BXTBW6",
        "outputId": "88d4517a-6c07-46bf-86fd-00f5e3581972"
      },
      "outputs": [],
      "source": [
        "data = (SegmentationItemList.from_folder(root_folder)\n",
        "        .split_by_folder(train='train_for_base_imgs', valid='valid_imgs')\n",
        "        # .split_by_rand_pct(.2)\n",
        "        .label_from_func(get_z, classes=classes)\n",
        "        # .transform(get_transforms(), size=size, tfm_y=True)\n",
        "        .databunch(bs=bs)\n",
        "        # .normalize(imagenet_stats)\n",
        "       )"
      ]
    },
    {
      "cell_type": "code",
      "execution_count": 35,
      "metadata": {
        "id": "7uKJU45GjJIW"
      },
      "outputs": [],
      "source": [
        "# data"
      ]
    },
    {
      "cell_type": "markdown",
      "metadata": {
        "id": "HM3MnpvsGWZI"
      },
      "source": [
        "Taking a look at an image with its mask:"
      ]
    },
    {
      "cell_type": "code",
      "execution_count": 36,
      "metadata": {
        "id": "vIcrqzyypL8k"
      },
      "outputs": [],
      "source": [
        "# data.show_batch(2, figsize=(6,6))"
      ]
    },
    {
      "cell_type": "markdown",
      "metadata": {
        "id": "egMiUL5lGWZJ"
      },
      "source": [
        "Defining and downloading the UNet:"
      ]
    },
    {
      "cell_type": "markdown",
      "metadata": {
        "id": "IP9sHYl5plW3"
      },
      "source": [
        "# Model"
      ]
    },
    {
      "cell_type": "code",
      "execution_count": 37,
      "metadata": {
        "id": "HMiPJOcU3p9C"
      },
      "outputs": [],
      "source": [
        "def cust_accuracy(input:Tensor, targs:Tensor)->Rank0Tensor:\n",
        "    \"Computes accuracy with `targs` when `input` is bs * n_classes.\"\n",
        "    n = targs.shape[0]\n",
        "    input = input.argmax(dim=1).view(n,-1)\n",
        "    targs = targs.view(n,-1)\n",
        "    return (input==targs).float().mean()"
      ]
    },
    {
      "cell_type": "code",
      "execution_count": 38,
      "metadata": {
        "id": "EZVPu1Fd1sdn"
      },
      "outputs": [],
      "source": [
        "# Return Jaccard index, or Intersection over Union (IoU) value\n",
        "def IoU(preds:Tensor, targs:Tensor, eps:float=1e-8):\n",
        "    \"\"\"Computes the Jaccard loss, a.k.a the IoU loss.\n",
        "    Notes: [Batch size,Num classes,Height,Width]\n",
        "    Args:\n",
        "        targs: a tensor of shape [B, H, W] or [B, 1, H, W].\n",
        "        preds: a tensor of shape [B, C, H, W]. Corresponds to\n",
        "            the raw output or logits of the model. (prediction)\n",
        "        eps: added to the denominator for numerical stability.\n",
        "    Returns:\n",
        "        iou: the average class intersection over union value \n",
        "             for multi-class image segmentation\n",
        "    \"\"\"\n",
        "    num_classes = preds.shape[1]\n",
        "    \n",
        "    # Single class segmentation?\n",
        "    if num_classes == 1:\n",
        "        true_1_hot = torch.eye(num_classes + 1)[targs.squeeze(1)]\n",
        "        true_1_hot = true_1_hot.permute(0, 3, 1, 2).float()\n",
        "        true_1_hot_f = true_1_hot[:, 0:1, :, :]\n",
        "        true_1_hot_s = true_1_hot[:, 1:2, :, :]\n",
        "        true_1_hot = torch.cat([true_1_hot_s, true_1_hot_f], dim=1)\n",
        "        pos_prob = torch.sigmoid(preds)\n",
        "        neg_prob = 1 - pos_prob\n",
        "        probas = torch.cat([pos_prob, neg_prob], dim=1)\n",
        "        \n",
        "    # Multi-class segmentation\n",
        "    else:\n",
        "        # Convert target to one-hot encoding\n",
        "        # true_1_hot = torch.eye(num_classes)[torch.squeeze(targs,1)]\n",
        "        true_1_hot = torch.eye(num_classes)[targs.squeeze(1)]\n",
        "        \n",
        "        # Permute [B,H,W,C] to [B,C,H,W]\n",
        "        true_1_hot = true_1_hot.permute(0, 3, 1, 2).float()\n",
        "        \n",
        "        # Take softmax along class dimension; all class probs add to 1 (per pixel)\n",
        "        probas = F.softmax(preds, dim=1)\n",
        "        \n",
        "    true_1_hot = true_1_hot.type(preds.type())\n",
        "    \n",
        "    # Sum probabilities by class and across batch images\n",
        "    dims = (0,) + tuple(range(2, targs.ndimension()))\n",
        "    intersection = torch.sum(probas * true_1_hot, dims) # [class0,class1,class2,...]\n",
        "    cardinality = torch.sum(probas + true_1_hot, dims)  # [class0,class1,class2,...]\n",
        "    union = cardinality - intersection\n",
        "    iou = (intersection / (union + eps)).mean()   # find mean of class IoU values\n",
        "    return iou"
      ]
    },
    {
      "cell_type": "code",
      "execution_count": 39,
      "metadata": {
        "id": "FltEf6HXcHyd"
      },
      "outputs": [],
      "source": [
        "def dice(input:Tensor, targs:Tensor, eps:float=1e-8)->Rank0Tensor:\n",
        "    input = input.clone()\n",
        "    targs = targs.clone()\n",
        "    n = targs.shape[0]\n",
        "    input = torch.softmax(input, dim=1).argmax(dim=1)\n",
        "    input = input.view(n, -1)\n",
        "    targs = targs.view(n, -1)\n",
        "    input[input == 0] = -999\n",
        "    intersect = (input == targs).sum().float()\n",
        "    union = input[input > 0].sum().float() + targs[targs > 0].sum().float()\n",
        "    del input, targs\n",
        "    gc.collect()\n",
        "    return ((2.0 * intersect + eps) / (union + eps)).mean()"
      ]
    },
    {
      "cell_type": "code",
      "execution_count": 40,
      "metadata": {
        "id": "y8aw3nal3Eog"
      },
      "outputs": [],
      "source": [
        "def fmt_now():\n",
        "    return datetime.today().strftime('%Y%m%d-%H%M%S')"
      ]
    },
    {
      "cell_type": "code",
      "execution_count": 41,
      "metadata": {
        "id": "YX0tLArXo97v"
      },
      "outputs": [],
      "source": [
        "class FocalLoss(nn.Module):\n",
        "    def __init__(self, gamma):\n",
        "        super().__init__()\n",
        "        self.gamma = gamma\n",
        "        \n",
        "    def forward(self, input, target):\n",
        "        if not (target.size() == input.size()):\n",
        "            raise ValueError(\"Target size ({}) must be the same as input size ({})\"\n",
        "                             .format(target.size(), input.size()))\n",
        "\n",
        "        max_val = (-input).clamp(min=0)\n",
        "        loss = input - input * target + max_val + \\\n",
        "            ((-max_val).exp() + (-input - max_val).exp()).log()\n",
        "\n",
        "        invprobs = F.logsigmoid(-input * (target * 2.0 - 1.0))\n",
        "        loss = (invprobs * self.gamma).exp() * loss\n",
        "        \n",
        "        return loss.mean()"
      ]
    },
    {
      "cell_type": "code",
      "execution_count": 42,
      "metadata": {
        "id": "W6SertJ7UXzz"
      },
      "outputs": [],
      "source": [
        "from torch import nn\n",
        "import torch.nn.functional as F\n",
        "\n",
        "class FocalLoss_C(nn.Module):\n",
        "    def __init__(self, alpha=1, gamma=2, logits=False, reduction='elementwise_mean'):\n",
        "        super(FocalLoss, self).__init__()\n",
        "        self.alpha = alpha\n",
        "        self.gamma = gamma\n",
        "        self.logits = logits\n",
        "        self.reduction = reduction\n",
        "\n",
        "    def forward(self, inputs, targets):\n",
        "        if self.logits:\n",
        "            BCE_loss = F.binary_cross_entropy_with_logits(inputs, targets, reduction='none')\n",
        "        else:\n",
        "            BCE_loss = F.binary_cross_entropy(inputs, targets, reduction='none')\n",
        "        pt = torch.exp(-BCE_loss)\n",
        "        F_loss = self.alpha * (1-pt)**self.gamma * BCE_loss\n",
        "\n",
        "        if self.reduction is None:\n",
        "            return F_loss\n",
        "        else:\n",
        "            return torch.mean(F_loss)"
      ]
    },
    {
      "cell_type": "code",
      "execution_count": 43,
      "metadata": {
        "id": "q0xSvycvpBHI"
      },
      "outputs": [],
      "source": [
        "class MixedLoss(nn.Module):\n",
        "    def __init__(self, alpha, gamma):\n",
        "        super().__init__()\n",
        "        self.alpha = alpha\n",
        "        self.focal = FocalLoss(gamma)\n",
        "        \n",
        "    def forward(self, input, target):\n",
        "        loss = self.alpha*self.focal(input, target) - torch.log(dice_loss(input, target))\n",
        "        return loss.mean()"
      ]
    },
    {
      "cell_type": "code",
      "execution_count": 44,
      "metadata": {
        "id": "Bf1oIBaxpGZI"
      },
      "outputs": [],
      "source": [
        "metrics = [dice, IoU]\n",
        "\n",
        "callback_fns = [\n",
        "    ShowGraph,\n",
        "    # partial(SaveModelCallback, every='epoch', name=f\"{fmt_now()}_unet_resnet34\"),   \n",
        "    # stop training if metric no longer improve\n",
        "    # partial(EarlyStoppingCallback, monitor='IoU', min_delta=0.01, patience=2),\n",
        "]\n",
        "\n",
        "learner = unet_learner(data, models.resnet34, metrics=metrics, wd=1e-2, callback_fns=callback_fns)\n",
        "learner.model_dir = model_DIR"
      ]
    },
    {
      "cell_type": "code",
      "execution_count": 45,
      "metadata": {
        "colab": {
          "base_uri": "https://localhost:8080/",
          "height": 35
        },
        "id": "R-si_OQ1bN_V",
        "outputId": "098a6bfe-3f77-482a-cc88-4f328e27e737"
      },
      "outputs": [
        {
          "data": {
            "text/plain": [
              "'C:\\\\Users\\\\user\\\\Desktop\\\\M_v_6.0.0\\\\model\\\\M6.0.0\\\\model'"
            ]
          },
          "execution_count": 45,
          "metadata": {},
          "output_type": "execute_result"
        }
      ],
      "source": [
        "model_DIR"
      ]
    },
    {
      "cell_type": "code",
      "execution_count": 46,
      "metadata": {
        "id": "4jHElGe_cUNq"
      },
      "outputs": [],
      "source": [
        "# model.pth"
      ]
    },
    {
      "cell_type": "code",
      "execution_count": 47,
      "metadata": {
        "colab": {
          "base_uri": "https://localhost:8080/",
          "height": 345
        },
        "id": "Nzwp6vVKbsu5",
        "outputId": "5de93964-386c-4d27-eca8-79b764819341"
      },
      "outputs": [],
      "source": [
        "# learner = load_learner(model_DIR)"
      ]
    },
    {
      "cell_type": "code",
      "execution_count": 48,
      "metadata": {
        "colab": {
          "base_uri": "https://localhost:8080/",
          "height": 165
        },
        "id": "HEAAVa-IbD5v",
        "outputId": "89f754e8-8b18-44fa-b1f6-b51cd473438a"
      },
      "outputs": [],
      "source": [
        "# learner = unet_learner().load(model_DIR)"
      ]
    },
    {
      "cell_type": "code",
      "execution_count": 49,
      "metadata": {
        "id": "S8LE1SsRpNje"
      },
      "outputs": [],
      "source": [
        "# learner.loss_func = FocalLoss_C()"
      ]
    },
    {
      "cell_type": "code",
      "execution_count": 50,
      "metadata": {
        "id": "GByIV09NpGZI"
      },
      "outputs": [
        {
          "data": {
            "text/plain": [
              "FlattenedLoss of CrossEntropyLoss()"
            ]
          },
          "execution_count": 50,
          "metadata": {},
          "output_type": "execute_result"
        }
      ],
      "source": [
        "learner.loss_func"
      ]
    },
    {
      "cell_type": "code",
      "execution_count": 51,
      "metadata": {
        "id": "v5DNQyOBgO6u"
      },
      "outputs": [],
      "source": [
        "# print(learner)"
      ]
    },
    {
      "cell_type": "code",
      "execution_count": 52,
      "metadata": {
        "id": "IXjDYV9KSTFh"
      },
      "outputs": [],
      "source": [
        "# learner.load(model_DIR)"
      ]
    },
    {
      "cell_type": "code",
      "execution_count": 53,
      "metadata": {},
      "outputs": [
        {
          "data": {
            "text/plain": [
              "'C:\\\\Users\\\\user\\\\Desktop\\\\M_v_6.0.0\\\\model\\\\M6.0.0\\\\model'"
            ]
          },
          "execution_count": 53,
          "metadata": {},
          "output_type": "execute_result"
        }
      ],
      "source": [
        "model_DIR"
      ]
    },
    {
      "cell_type": "code",
      "execution_count": 54,
      "metadata": {},
      "outputs": [
        {
          "data": {
            "text/plain": [
              "'C:\\\\Users\\\\user\\\\Desktop\\\\M_v_6.0.0\\\\model.pth'"
            ]
          },
          "execution_count": 54,
          "metadata": {},
          "output_type": "execute_result"
        }
      ],
      "source": [
        "model_DIR.replace('\\\\M6.0.0\\\\model', '.pth')"
      ]
    },
    {
      "cell_type": "code",
      "execution_count": 55,
      "metadata": {
        "id": "ZVHUdhEasb-S"
      },
      "outputs": [
        {
          "data": {
            "text/plain": [
              "Learner(data=ImageDataBunch;\n",
              "\n",
              "Train: LabelList (9 items)\n",
              "x: SegmentationItemList\n",
              "Image (3, 1080, 1080),Image (3, 1080, 1080),Image (3, 1080, 1080),Image (3, 1080, 1080),Image (3, 1080, 1080)\n",
              "y: SegmentationLabelList\n",
              "ImageSegment (1, 1080, 1080),ImageSegment (1, 1080, 1080),ImageSegment (1, 1080, 1080),ImageSegment (1, 1080, 1080),ImageSegment (1, 1080, 1080)\n",
              "Path: C:\\Users\\user\\Desktop\\M_v_6.0.0\\model\\forstartdata;\n",
              "\n",
              "Valid: LabelList (3 items)\n",
              "x: SegmentationItemList\n",
              "Image (3, 1080, 1080),Image (3, 1080, 1080),Image (3, 1080, 1080)\n",
              "y: SegmentationLabelList\n",
              "ImageSegment (1, 1080, 1080),ImageSegment (1, 1080, 1080),ImageSegment (1, 1080, 1080)\n",
              "Path: C:\\Users\\user\\Desktop\\M_v_6.0.0\\model\\forstartdata;\n",
              "\n",
              "Test: None, model=DynamicUnet(\n",
              "  (layers): ModuleList(\n",
              "    (0): Sequential(\n",
              "      (0): Conv2d(3, 64, kernel_size=(7, 7), stride=(2, 2), padding=(3, 3), bias=False)\n",
              "      (1): BatchNorm2d(64, eps=1e-05, momentum=0.1, affine=True, track_running_stats=True)\n",
              "      (2): ReLU(inplace=True)\n",
              "      (3): MaxPool2d(kernel_size=3, stride=2, padding=1, dilation=1, ceil_mode=False)\n",
              "      (4): Sequential(\n",
              "        (0): BasicBlock(\n",
              "          (conv1): Conv2d(64, 64, kernel_size=(3, 3), stride=(1, 1), padding=(1, 1), bias=False)\n",
              "          (bn1): BatchNorm2d(64, eps=1e-05, momentum=0.1, affine=True, track_running_stats=True)\n",
              "          (relu): ReLU(inplace=True)\n",
              "          (conv2): Conv2d(64, 64, kernel_size=(3, 3), stride=(1, 1), padding=(1, 1), bias=False)\n",
              "          (bn2): BatchNorm2d(64, eps=1e-05, momentum=0.1, affine=True, track_running_stats=True)\n",
              "        )\n",
              "        (1): BasicBlock(\n",
              "          (conv1): Conv2d(64, 64, kernel_size=(3, 3), stride=(1, 1), padding=(1, 1), bias=False)\n",
              "          (bn1): BatchNorm2d(64, eps=1e-05, momentum=0.1, affine=True, track_running_stats=True)\n",
              "          (relu): ReLU(inplace=True)\n",
              "          (conv2): Conv2d(64, 64, kernel_size=(3, 3), stride=(1, 1), padding=(1, 1), bias=False)\n",
              "          (bn2): BatchNorm2d(64, eps=1e-05, momentum=0.1, affine=True, track_running_stats=True)\n",
              "        )\n",
              "        (2): BasicBlock(\n",
              "          (conv1): Conv2d(64, 64, kernel_size=(3, 3), stride=(1, 1), padding=(1, 1), bias=False)\n",
              "          (bn1): BatchNorm2d(64, eps=1e-05, momentum=0.1, affine=True, track_running_stats=True)\n",
              "          (relu): ReLU(inplace=True)\n",
              "          (conv2): Conv2d(64, 64, kernel_size=(3, 3), stride=(1, 1), padding=(1, 1), bias=False)\n",
              "          (bn2): BatchNorm2d(64, eps=1e-05, momentum=0.1, affine=True, track_running_stats=True)\n",
              "        )\n",
              "      )\n",
              "      (5): Sequential(\n",
              "        (0): BasicBlock(\n",
              "          (conv1): Conv2d(64, 128, kernel_size=(3, 3), stride=(2, 2), padding=(1, 1), bias=False)\n",
              "          (bn1): BatchNorm2d(128, eps=1e-05, momentum=0.1, affine=True, track_running_stats=True)\n",
              "          (relu): ReLU(inplace=True)\n",
              "          (conv2): Conv2d(128, 128, kernel_size=(3, 3), stride=(1, 1), padding=(1, 1), bias=False)\n",
              "          (bn2): BatchNorm2d(128, eps=1e-05, momentum=0.1, affine=True, track_running_stats=True)\n",
              "          (downsample): Sequential(\n",
              "            (0): Conv2d(64, 128, kernel_size=(1, 1), stride=(2, 2), bias=False)\n",
              "            (1): BatchNorm2d(128, eps=1e-05, momentum=0.1, affine=True, track_running_stats=True)\n",
              "          )\n",
              "        )\n",
              "        (1): BasicBlock(\n",
              "          (conv1): Conv2d(128, 128, kernel_size=(3, 3), stride=(1, 1), padding=(1, 1), bias=False)\n",
              "          (bn1): BatchNorm2d(128, eps=1e-05, momentum=0.1, affine=True, track_running_stats=True)\n",
              "          (relu): ReLU(inplace=True)\n",
              "          (conv2): Conv2d(128, 128, kernel_size=(3, 3), stride=(1, 1), padding=(1, 1), bias=False)\n",
              "          (bn2): BatchNorm2d(128, eps=1e-05, momentum=0.1, affine=True, track_running_stats=True)\n",
              "        )\n",
              "        (2): BasicBlock(\n",
              "          (conv1): Conv2d(128, 128, kernel_size=(3, 3), stride=(1, 1), padding=(1, 1), bias=False)\n",
              "          (bn1): BatchNorm2d(128, eps=1e-05, momentum=0.1, affine=True, track_running_stats=True)\n",
              "          (relu): ReLU(inplace=True)\n",
              "          (conv2): Conv2d(128, 128, kernel_size=(3, 3), stride=(1, 1), padding=(1, 1), bias=False)\n",
              "          (bn2): BatchNorm2d(128, eps=1e-05, momentum=0.1, affine=True, track_running_stats=True)\n",
              "        )\n",
              "        (3): BasicBlock(\n",
              "          (conv1): Conv2d(128, 128, kernel_size=(3, 3), stride=(1, 1), padding=(1, 1), bias=False)\n",
              "          (bn1): BatchNorm2d(128, eps=1e-05, momentum=0.1, affine=True, track_running_stats=True)\n",
              "          (relu): ReLU(inplace=True)\n",
              "          (conv2): Conv2d(128, 128, kernel_size=(3, 3), stride=(1, 1), padding=(1, 1), bias=False)\n",
              "          (bn2): BatchNorm2d(128, eps=1e-05, momentum=0.1, affine=True, track_running_stats=True)\n",
              "        )\n",
              "      )\n",
              "      (6): Sequential(\n",
              "        (0): BasicBlock(\n",
              "          (conv1): Conv2d(128, 256, kernel_size=(3, 3), stride=(2, 2), padding=(1, 1), bias=False)\n",
              "          (bn1): BatchNorm2d(256, eps=1e-05, momentum=0.1, affine=True, track_running_stats=True)\n",
              "          (relu): ReLU(inplace=True)\n",
              "          (conv2): Conv2d(256, 256, kernel_size=(3, 3), stride=(1, 1), padding=(1, 1), bias=False)\n",
              "          (bn2): BatchNorm2d(256, eps=1e-05, momentum=0.1, affine=True, track_running_stats=True)\n",
              "          (downsample): Sequential(\n",
              "            (0): Conv2d(128, 256, kernel_size=(1, 1), stride=(2, 2), bias=False)\n",
              "            (1): BatchNorm2d(256, eps=1e-05, momentum=0.1, affine=True, track_running_stats=True)\n",
              "          )\n",
              "        )\n",
              "        (1): BasicBlock(\n",
              "          (conv1): Conv2d(256, 256, kernel_size=(3, 3), stride=(1, 1), padding=(1, 1), bias=False)\n",
              "          (bn1): BatchNorm2d(256, eps=1e-05, momentum=0.1, affine=True, track_running_stats=True)\n",
              "          (relu): ReLU(inplace=True)\n",
              "          (conv2): Conv2d(256, 256, kernel_size=(3, 3), stride=(1, 1), padding=(1, 1), bias=False)\n",
              "          (bn2): BatchNorm2d(256, eps=1e-05, momentum=0.1, affine=True, track_running_stats=True)\n",
              "        )\n",
              "        (2): BasicBlock(\n",
              "          (conv1): Conv2d(256, 256, kernel_size=(3, 3), stride=(1, 1), padding=(1, 1), bias=False)\n",
              "          (bn1): BatchNorm2d(256, eps=1e-05, momentum=0.1, affine=True, track_running_stats=True)\n",
              "          (relu): ReLU(inplace=True)\n",
              "          (conv2): Conv2d(256, 256, kernel_size=(3, 3), stride=(1, 1), padding=(1, 1), bias=False)\n",
              "          (bn2): BatchNorm2d(256, eps=1e-05, momentum=0.1, affine=True, track_running_stats=True)\n",
              "        )\n",
              "        (3): BasicBlock(\n",
              "          (conv1): Conv2d(256, 256, kernel_size=(3, 3), stride=(1, 1), padding=(1, 1), bias=False)\n",
              "          (bn1): BatchNorm2d(256, eps=1e-05, momentum=0.1, affine=True, track_running_stats=True)\n",
              "          (relu): ReLU(inplace=True)\n",
              "          (conv2): Conv2d(256, 256, kernel_size=(3, 3), stride=(1, 1), padding=(1, 1), bias=False)\n",
              "          (bn2): BatchNorm2d(256, eps=1e-05, momentum=0.1, affine=True, track_running_stats=True)\n",
              "        )\n",
              "        (4): BasicBlock(\n",
              "          (conv1): Conv2d(256, 256, kernel_size=(3, 3), stride=(1, 1), padding=(1, 1), bias=False)\n",
              "          (bn1): BatchNorm2d(256, eps=1e-05, momentum=0.1, affine=True, track_running_stats=True)\n",
              "          (relu): ReLU(inplace=True)\n",
              "          (conv2): Conv2d(256, 256, kernel_size=(3, 3), stride=(1, 1), padding=(1, 1), bias=False)\n",
              "          (bn2): BatchNorm2d(256, eps=1e-05, momentum=0.1, affine=True, track_running_stats=True)\n",
              "        )\n",
              "        (5): BasicBlock(\n",
              "          (conv1): Conv2d(256, 256, kernel_size=(3, 3), stride=(1, 1), padding=(1, 1), bias=False)\n",
              "          (bn1): BatchNorm2d(256, eps=1e-05, momentum=0.1, affine=True, track_running_stats=True)\n",
              "          (relu): ReLU(inplace=True)\n",
              "          (conv2): Conv2d(256, 256, kernel_size=(3, 3), stride=(1, 1), padding=(1, 1), bias=False)\n",
              "          (bn2): BatchNorm2d(256, eps=1e-05, momentum=0.1, affine=True, track_running_stats=True)\n",
              "        )\n",
              "      )\n",
              "      (7): Sequential(\n",
              "        (0): BasicBlock(\n",
              "          (conv1): Conv2d(256, 512, kernel_size=(3, 3), stride=(2, 2), padding=(1, 1), bias=False)\n",
              "          (bn1): BatchNorm2d(512, eps=1e-05, momentum=0.1, affine=True, track_running_stats=True)\n",
              "          (relu): ReLU(inplace=True)\n",
              "          (conv2): Conv2d(512, 512, kernel_size=(3, 3), stride=(1, 1), padding=(1, 1), bias=False)\n",
              "          (bn2): BatchNorm2d(512, eps=1e-05, momentum=0.1, affine=True, track_running_stats=True)\n",
              "          (downsample): Sequential(\n",
              "            (0): Conv2d(256, 512, kernel_size=(1, 1), stride=(2, 2), bias=False)\n",
              "            (1): BatchNorm2d(512, eps=1e-05, momentum=0.1, affine=True, track_running_stats=True)\n",
              "          )\n",
              "        )\n",
              "        (1): BasicBlock(\n",
              "          (conv1): Conv2d(512, 512, kernel_size=(3, 3), stride=(1, 1), padding=(1, 1), bias=False)\n",
              "          (bn1): BatchNorm2d(512, eps=1e-05, momentum=0.1, affine=True, track_running_stats=True)\n",
              "          (relu): ReLU(inplace=True)\n",
              "          (conv2): Conv2d(512, 512, kernel_size=(3, 3), stride=(1, 1), padding=(1, 1), bias=False)\n",
              "          (bn2): BatchNorm2d(512, eps=1e-05, momentum=0.1, affine=True, track_running_stats=True)\n",
              "        )\n",
              "        (2): BasicBlock(\n",
              "          (conv1): Conv2d(512, 512, kernel_size=(3, 3), stride=(1, 1), padding=(1, 1), bias=False)\n",
              "          (bn1): BatchNorm2d(512, eps=1e-05, momentum=0.1, affine=True, track_running_stats=True)\n",
              "          (relu): ReLU(inplace=True)\n",
              "          (conv2): Conv2d(512, 512, kernel_size=(3, 3), stride=(1, 1), padding=(1, 1), bias=False)\n",
              "          (bn2): BatchNorm2d(512, eps=1e-05, momentum=0.1, affine=True, track_running_stats=True)\n",
              "        )\n",
              "      )\n",
              "    )\n",
              "    (1): BatchNorm2d(512, eps=1e-05, momentum=0.1, affine=True, track_running_stats=True)\n",
              "    (2): ReLU()\n",
              "    (3): Sequential(\n",
              "      (0): Sequential(\n",
              "        (0): Conv2d(512, 1024, kernel_size=(3, 3), stride=(1, 1), padding=(1, 1))\n",
              "        (1): ReLU(inplace=True)\n",
              "      )\n",
              "      (1): Sequential(\n",
              "        (0): Conv2d(1024, 512, kernel_size=(3, 3), stride=(1, 1), padding=(1, 1))\n",
              "        (1): ReLU(inplace=True)\n",
              "      )\n",
              "    )\n",
              "    (4): UnetBlock(\n",
              "      (shuf): PixelShuffle_ICNR(\n",
              "        (conv): Sequential(\n",
              "          (0): Conv2d(512, 1024, kernel_size=(1, 1), stride=(1, 1))\n",
              "        )\n",
              "        (shuf): PixelShuffle(upscale_factor=2)\n",
              "        (pad): ReplicationPad2d((1, 0, 1, 0))\n",
              "        (blur): AvgPool2d(kernel_size=2, stride=1, padding=0)\n",
              "        (relu): ReLU(inplace=True)\n",
              "      )\n",
              "      (bn): BatchNorm2d(256, eps=1e-05, momentum=0.1, affine=True, track_running_stats=True)\n",
              "      (conv1): Sequential(\n",
              "        (0): Conv2d(512, 512, kernel_size=(3, 3), stride=(1, 1), padding=(1, 1))\n",
              "        (1): ReLU(inplace=True)\n",
              "      )\n",
              "      (conv2): Sequential(\n",
              "        (0): Conv2d(512, 512, kernel_size=(3, 3), stride=(1, 1), padding=(1, 1))\n",
              "        (1): ReLU(inplace=True)\n",
              "      )\n",
              "      (relu): ReLU()\n",
              "    )\n",
              "    (5): UnetBlock(\n",
              "      (shuf): PixelShuffle_ICNR(\n",
              "        (conv): Sequential(\n",
              "          (0): Conv2d(512, 1024, kernel_size=(1, 1), stride=(1, 1))\n",
              "        )\n",
              "        (shuf): PixelShuffle(upscale_factor=2)\n",
              "        (pad): ReplicationPad2d((1, 0, 1, 0))\n",
              "        (blur): AvgPool2d(kernel_size=2, stride=1, padding=0)\n",
              "        (relu): ReLU(inplace=True)\n",
              "      )\n",
              "      (bn): BatchNorm2d(128, eps=1e-05, momentum=0.1, affine=True, track_running_stats=True)\n",
              "      (conv1): Sequential(\n",
              "        (0): Conv2d(384, 384, kernel_size=(3, 3), stride=(1, 1), padding=(1, 1))\n",
              "        (1): ReLU(inplace=True)\n",
              "      )\n",
              "      (conv2): Sequential(\n",
              "        (0): Conv2d(384, 384, kernel_size=(3, 3), stride=(1, 1), padding=(1, 1))\n",
              "        (1): ReLU(inplace=True)\n",
              "      )\n",
              "      (relu): ReLU()\n",
              "    )\n",
              "    (6): UnetBlock(\n",
              "      (shuf): PixelShuffle_ICNR(\n",
              "        (conv): Sequential(\n",
              "          (0): Conv2d(384, 768, kernel_size=(1, 1), stride=(1, 1))\n",
              "        )\n",
              "        (shuf): PixelShuffle(upscale_factor=2)\n",
              "        (pad): ReplicationPad2d((1, 0, 1, 0))\n",
              "        (blur): AvgPool2d(kernel_size=2, stride=1, padding=0)\n",
              "        (relu): ReLU(inplace=True)\n",
              "      )\n",
              "      (bn): BatchNorm2d(64, eps=1e-05, momentum=0.1, affine=True, track_running_stats=True)\n",
              "      (conv1): Sequential(\n",
              "        (0): Conv2d(256, 256, kernel_size=(3, 3), stride=(1, 1), padding=(1, 1))\n",
              "        (1): ReLU(inplace=True)\n",
              "      )\n",
              "      (conv2): Sequential(\n",
              "        (0): Conv2d(256, 256, kernel_size=(3, 3), stride=(1, 1), padding=(1, 1))\n",
              "        (1): ReLU(inplace=True)\n",
              "      )\n",
              "      (relu): ReLU()\n",
              "    )\n",
              "    (7): UnetBlock(\n",
              "      (shuf): PixelShuffle_ICNR(\n",
              "        (conv): Sequential(\n",
              "          (0): Conv2d(256, 512, kernel_size=(1, 1), stride=(1, 1))\n",
              "        )\n",
              "        (shuf): PixelShuffle(upscale_factor=2)\n",
              "        (pad): ReplicationPad2d((1, 0, 1, 0))\n",
              "        (blur): AvgPool2d(kernel_size=2, stride=1, padding=0)\n",
              "        (relu): ReLU(inplace=True)\n",
              "      )\n",
              "      (bn): BatchNorm2d(64, eps=1e-05, momentum=0.1, affine=True, track_running_stats=True)\n",
              "      (conv1): Sequential(\n",
              "        (0): Conv2d(192, 96, kernel_size=(3, 3), stride=(1, 1), padding=(1, 1))\n",
              "        (1): ReLU(inplace=True)\n",
              "      )\n",
              "      (conv2): Sequential(\n",
              "        (0): Conv2d(96, 96, kernel_size=(3, 3), stride=(1, 1), padding=(1, 1))\n",
              "        (1): ReLU(inplace=True)\n",
              "      )\n",
              "      (relu): ReLU()\n",
              "    )\n",
              "    (8): PixelShuffle_ICNR(\n",
              "      (conv): Sequential(\n",
              "        (0): Conv2d(96, 384, kernel_size=(1, 1), stride=(1, 1))\n",
              "      )\n",
              "      (shuf): PixelShuffle(upscale_factor=2)\n",
              "      (pad): ReplicationPad2d((1, 0, 1, 0))\n",
              "      (blur): AvgPool2d(kernel_size=2, stride=1, padding=0)\n",
              "      (relu): ReLU(inplace=True)\n",
              "    )\n",
              "    (9): MergeLayer()\n",
              "    (10): SequentialEx(\n",
              "      (layers): ModuleList(\n",
              "        (0-1): 2 x Sequential(\n",
              "          (0): Conv2d(99, 99, kernel_size=(3, 3), stride=(1, 1), padding=(1, 1))\n",
              "          (1): ReLU(inplace=True)\n",
              "        )\n",
              "        (2): MergeLayer()\n",
              "      )\n",
              "    )\n",
              "    (11): Sequential(\n",
              "      (0): Conv2d(99, 4, kernel_size=(1, 1), stride=(1, 1))\n",
              "    )\n",
              "  )\n",
              "), opt_func=functools.partial(<class 'torch.optim.adam.Adam'>, betas=(0.9, 0.99)), loss_func=FlattenedLoss of CrossEntropyLoss(), metrics=[<function dice at 0x00000270E7D76AF0>, <function IoU at 0x00000270E7D768B0>], true_wd=True, bn_wd=True, wd=0.01, train_bn=True, path=WindowsPath('C:/Users/user/Desktop/M_v_6.0.0/model/forstartdata'), model_dir='C:\\\\Users\\\\user\\\\Desktop\\\\M_v_6.0.0\\\\model\\\\M6.0.0\\\\model', callback_fns=[functools.partial(<class 'fastai.basic_train.Recorder'>, add_time=True, silent=False), <class 'fastai.train.ShowGraph'>], callbacks=[], layer_groups=[Sequential(\n",
              "  (0): Conv2d(3, 64, kernel_size=(7, 7), stride=(2, 2), padding=(3, 3), bias=False)\n",
              "  (1): BatchNorm2d(64, eps=1e-05, momentum=0.1, affine=True, track_running_stats=True)\n",
              "  (2): ReLU(inplace=True)\n",
              "  (3): MaxPool2d(kernel_size=3, stride=2, padding=1, dilation=1, ceil_mode=False)\n",
              "  (4): Conv2d(64, 64, kernel_size=(3, 3), stride=(1, 1), padding=(1, 1), bias=False)\n",
              "  (5): BatchNorm2d(64, eps=1e-05, momentum=0.1, affine=True, track_running_stats=True)\n",
              "  (6): ReLU(inplace=True)\n",
              "  (7): Conv2d(64, 64, kernel_size=(3, 3), stride=(1, 1), padding=(1, 1), bias=False)\n",
              "  (8): BatchNorm2d(64, eps=1e-05, momentum=0.1, affine=True, track_running_stats=True)\n",
              "  (9): Conv2d(64, 64, kernel_size=(3, 3), stride=(1, 1), padding=(1, 1), bias=False)\n",
              "  (10): BatchNorm2d(64, eps=1e-05, momentum=0.1, affine=True, track_running_stats=True)\n",
              "  (11): ReLU(inplace=True)\n",
              "  (12): Conv2d(64, 64, kernel_size=(3, 3), stride=(1, 1), padding=(1, 1), bias=False)\n",
              "  (13): BatchNorm2d(64, eps=1e-05, momentum=0.1, affine=True, track_running_stats=True)\n",
              "  (14): Conv2d(64, 64, kernel_size=(3, 3), stride=(1, 1), padding=(1, 1), bias=False)\n",
              "  (15): BatchNorm2d(64, eps=1e-05, momentum=0.1, affine=True, track_running_stats=True)\n",
              "  (16): ReLU(inplace=True)\n",
              "  (17): Conv2d(64, 64, kernel_size=(3, 3), stride=(1, 1), padding=(1, 1), bias=False)\n",
              "  (18): BatchNorm2d(64, eps=1e-05, momentum=0.1, affine=True, track_running_stats=True)\n",
              "  (19): Conv2d(64, 128, kernel_size=(3, 3), stride=(2, 2), padding=(1, 1), bias=False)\n",
              "  (20): BatchNorm2d(128, eps=1e-05, momentum=0.1, affine=True, track_running_stats=True)\n",
              "  (21): ReLU(inplace=True)\n",
              "  (22): Conv2d(128, 128, kernel_size=(3, 3), stride=(1, 1), padding=(1, 1), bias=False)\n",
              "  (23): BatchNorm2d(128, eps=1e-05, momentum=0.1, affine=True, track_running_stats=True)\n",
              "  (24): Conv2d(64, 128, kernel_size=(1, 1), stride=(2, 2), bias=False)\n",
              "  (25): BatchNorm2d(128, eps=1e-05, momentum=0.1, affine=True, track_running_stats=True)\n",
              "  (26): Conv2d(128, 128, kernel_size=(3, 3), stride=(1, 1), padding=(1, 1), bias=False)\n",
              "  (27): BatchNorm2d(128, eps=1e-05, momentum=0.1, affine=True, track_running_stats=True)\n",
              "  (28): ReLU(inplace=True)\n",
              "  (29): Conv2d(128, 128, kernel_size=(3, 3), stride=(1, 1), padding=(1, 1), bias=False)\n",
              "  (30): BatchNorm2d(128, eps=1e-05, momentum=0.1, affine=True, track_running_stats=True)\n",
              "  (31): Conv2d(128, 128, kernel_size=(3, 3), stride=(1, 1), padding=(1, 1), bias=False)\n",
              "  (32): BatchNorm2d(128, eps=1e-05, momentum=0.1, affine=True, track_running_stats=True)\n",
              "  (33): ReLU(inplace=True)\n",
              "  (34): Conv2d(128, 128, kernel_size=(3, 3), stride=(1, 1), padding=(1, 1), bias=False)\n",
              "  (35): BatchNorm2d(128, eps=1e-05, momentum=0.1, affine=True, track_running_stats=True)\n",
              "  (36): Conv2d(128, 128, kernel_size=(3, 3), stride=(1, 1), padding=(1, 1), bias=False)\n",
              "  (37): BatchNorm2d(128, eps=1e-05, momentum=0.1, affine=True, track_running_stats=True)\n",
              "  (38): ReLU(inplace=True)\n",
              "  (39): Conv2d(128, 128, kernel_size=(3, 3), stride=(1, 1), padding=(1, 1), bias=False)\n",
              "  (40): BatchNorm2d(128, eps=1e-05, momentum=0.1, affine=True, track_running_stats=True)\n",
              "), Sequential(\n",
              "  (0): Conv2d(128, 256, kernel_size=(3, 3), stride=(2, 2), padding=(1, 1), bias=False)\n",
              "  (1): BatchNorm2d(256, eps=1e-05, momentum=0.1, affine=True, track_running_stats=True)\n",
              "  (2): ReLU(inplace=True)\n",
              "  (3): Conv2d(256, 256, kernel_size=(3, 3), stride=(1, 1), padding=(1, 1), bias=False)\n",
              "  (4): BatchNorm2d(256, eps=1e-05, momentum=0.1, affine=True, track_running_stats=True)\n",
              "  (5): Conv2d(128, 256, kernel_size=(1, 1), stride=(2, 2), bias=False)\n",
              "  (6): BatchNorm2d(256, eps=1e-05, momentum=0.1, affine=True, track_running_stats=True)\n",
              "  (7): Conv2d(256, 256, kernel_size=(3, 3), stride=(1, 1), padding=(1, 1), bias=False)\n",
              "  (8): BatchNorm2d(256, eps=1e-05, momentum=0.1, affine=True, track_running_stats=True)\n",
              "  (9): ReLU(inplace=True)\n",
              "  (10): Conv2d(256, 256, kernel_size=(3, 3), stride=(1, 1), padding=(1, 1), bias=False)\n",
              "  (11): BatchNorm2d(256, eps=1e-05, momentum=0.1, affine=True, track_running_stats=True)\n",
              "  (12): Conv2d(256, 256, kernel_size=(3, 3), stride=(1, 1), padding=(1, 1), bias=False)\n",
              "  (13): BatchNorm2d(256, eps=1e-05, momentum=0.1, affine=True, track_running_stats=True)\n",
              "  (14): ReLU(inplace=True)\n",
              "  (15): Conv2d(256, 256, kernel_size=(3, 3), stride=(1, 1), padding=(1, 1), bias=False)\n",
              "  (16): BatchNorm2d(256, eps=1e-05, momentum=0.1, affine=True, track_running_stats=True)\n",
              "  (17): Conv2d(256, 256, kernel_size=(3, 3), stride=(1, 1), padding=(1, 1), bias=False)\n",
              "  (18): BatchNorm2d(256, eps=1e-05, momentum=0.1, affine=True, track_running_stats=True)\n",
              "  (19): ReLU(inplace=True)\n",
              "  (20): Conv2d(256, 256, kernel_size=(3, 3), stride=(1, 1), padding=(1, 1), bias=False)\n",
              "  (21): BatchNorm2d(256, eps=1e-05, momentum=0.1, affine=True, track_running_stats=True)\n",
              "  (22): Conv2d(256, 256, kernel_size=(3, 3), stride=(1, 1), padding=(1, 1), bias=False)\n",
              "  (23): BatchNorm2d(256, eps=1e-05, momentum=0.1, affine=True, track_running_stats=True)\n",
              "  (24): ReLU(inplace=True)\n",
              "  (25): Conv2d(256, 256, kernel_size=(3, 3), stride=(1, 1), padding=(1, 1), bias=False)\n",
              "  (26): BatchNorm2d(256, eps=1e-05, momentum=0.1, affine=True, track_running_stats=True)\n",
              "  (27): Conv2d(256, 256, kernel_size=(3, 3), stride=(1, 1), padding=(1, 1), bias=False)\n",
              "  (28): BatchNorm2d(256, eps=1e-05, momentum=0.1, affine=True, track_running_stats=True)\n",
              "  (29): ReLU(inplace=True)\n",
              "  (30): Conv2d(256, 256, kernel_size=(3, 3), stride=(1, 1), padding=(1, 1), bias=False)\n",
              "  (31): BatchNorm2d(256, eps=1e-05, momentum=0.1, affine=True, track_running_stats=True)\n",
              "  (32): Conv2d(256, 512, kernel_size=(3, 3), stride=(2, 2), padding=(1, 1), bias=False)\n",
              "  (33): BatchNorm2d(512, eps=1e-05, momentum=0.1, affine=True, track_running_stats=True)\n",
              "  (34): ReLU(inplace=True)\n",
              "  (35): Conv2d(512, 512, kernel_size=(3, 3), stride=(1, 1), padding=(1, 1), bias=False)\n",
              "  (36): BatchNorm2d(512, eps=1e-05, momentum=0.1, affine=True, track_running_stats=True)\n",
              "  (37): Conv2d(256, 512, kernel_size=(1, 1), stride=(2, 2), bias=False)\n",
              "  (38): BatchNorm2d(512, eps=1e-05, momentum=0.1, affine=True, track_running_stats=True)\n",
              "  (39): Conv2d(512, 512, kernel_size=(3, 3), stride=(1, 1), padding=(1, 1), bias=False)\n",
              "  (40): BatchNorm2d(512, eps=1e-05, momentum=0.1, affine=True, track_running_stats=True)\n",
              "  (41): ReLU(inplace=True)\n",
              "  (42): Conv2d(512, 512, kernel_size=(3, 3), stride=(1, 1), padding=(1, 1), bias=False)\n",
              "  (43): BatchNorm2d(512, eps=1e-05, momentum=0.1, affine=True, track_running_stats=True)\n",
              "  (44): Conv2d(512, 512, kernel_size=(3, 3), stride=(1, 1), padding=(1, 1), bias=False)\n",
              "  (45): BatchNorm2d(512, eps=1e-05, momentum=0.1, affine=True, track_running_stats=True)\n",
              "  (46): ReLU(inplace=True)\n",
              "  (47): Conv2d(512, 512, kernel_size=(3, 3), stride=(1, 1), padding=(1, 1), bias=False)\n",
              "  (48): BatchNorm2d(512, eps=1e-05, momentum=0.1, affine=True, track_running_stats=True)\n",
              "), Sequential(\n",
              "  (0): BatchNorm2d(512, eps=1e-05, momentum=0.1, affine=True, track_running_stats=True)\n",
              "  (1): ReLU()\n",
              "  (2): Conv2d(512, 1024, kernel_size=(3, 3), stride=(1, 1), padding=(1, 1))\n",
              "  (3): ReLU(inplace=True)\n",
              "  (4): Conv2d(1024, 512, kernel_size=(3, 3), stride=(1, 1), padding=(1, 1))\n",
              "  (5): ReLU(inplace=True)\n",
              "  (6): Conv2d(512, 1024, kernel_size=(1, 1), stride=(1, 1))\n",
              "  (7): PixelShuffle(upscale_factor=2)\n",
              "  (8): ReplicationPad2d((1, 0, 1, 0))\n",
              "  (9): AvgPool2d(kernel_size=2, stride=1, padding=0)\n",
              "  (10): ReLU(inplace=True)\n",
              "  (11): BatchNorm2d(256, eps=1e-05, momentum=0.1, affine=True, track_running_stats=True)\n",
              "  (12): Conv2d(512, 512, kernel_size=(3, 3), stride=(1, 1), padding=(1, 1))\n",
              "  (13): ReLU(inplace=True)\n",
              "  (14): Conv2d(512, 512, kernel_size=(3, 3), stride=(1, 1), padding=(1, 1))\n",
              "  (15): ReLU(inplace=True)\n",
              "  (16): ReLU()\n",
              "  (17): Conv2d(512, 1024, kernel_size=(1, 1), stride=(1, 1))\n",
              "  (18): PixelShuffle(upscale_factor=2)\n",
              "  (19): ReplicationPad2d((1, 0, 1, 0))\n",
              "  (20): AvgPool2d(kernel_size=2, stride=1, padding=0)\n",
              "  (21): ReLU(inplace=True)\n",
              "  (22): BatchNorm2d(128, eps=1e-05, momentum=0.1, affine=True, track_running_stats=True)\n",
              "  (23): Conv2d(384, 384, kernel_size=(3, 3), stride=(1, 1), padding=(1, 1))\n",
              "  (24): ReLU(inplace=True)\n",
              "  (25): Conv2d(384, 384, kernel_size=(3, 3), stride=(1, 1), padding=(1, 1))\n",
              "  (26): ReLU(inplace=True)\n",
              "  (27): ReLU()\n",
              "  (28): Conv2d(384, 768, kernel_size=(1, 1), stride=(1, 1))\n",
              "  (29): PixelShuffle(upscale_factor=2)\n",
              "  (30): ReplicationPad2d((1, 0, 1, 0))\n",
              "  (31): AvgPool2d(kernel_size=2, stride=1, padding=0)\n",
              "  (32): ReLU(inplace=True)\n",
              "  (33): BatchNorm2d(64, eps=1e-05, momentum=0.1, affine=True, track_running_stats=True)\n",
              "  (34): Conv2d(256, 256, kernel_size=(3, 3), stride=(1, 1), padding=(1, 1))\n",
              "  (35): ReLU(inplace=True)\n",
              "  (36): Conv2d(256, 256, kernel_size=(3, 3), stride=(1, 1), padding=(1, 1))\n",
              "  (37): ReLU(inplace=True)\n",
              "  (38): ReLU()\n",
              "  (39): Conv2d(256, 512, kernel_size=(1, 1), stride=(1, 1))\n",
              "  (40): PixelShuffle(upscale_factor=2)\n",
              "  (41): ReplicationPad2d((1, 0, 1, 0))\n",
              "  (42): AvgPool2d(kernel_size=2, stride=1, padding=0)\n",
              "  (43): ReLU(inplace=True)\n",
              "  (44): BatchNorm2d(64, eps=1e-05, momentum=0.1, affine=True, track_running_stats=True)\n",
              "  (45): Conv2d(192, 96, kernel_size=(3, 3), stride=(1, 1), padding=(1, 1))\n",
              "  (46): ReLU(inplace=True)\n",
              "  (47): Conv2d(96, 96, kernel_size=(3, 3), stride=(1, 1), padding=(1, 1))\n",
              "  (48): ReLU(inplace=True)\n",
              "  (49): ReLU()\n",
              "  (50): Conv2d(96, 384, kernel_size=(1, 1), stride=(1, 1))\n",
              "  (51): PixelShuffle(upscale_factor=2)\n",
              "  (52): ReplicationPad2d((1, 0, 1, 0))\n",
              "  (53): AvgPool2d(kernel_size=2, stride=1, padding=0)\n",
              "  (54): ReLU(inplace=True)\n",
              "  (55): MergeLayer()\n",
              "  (56): Conv2d(99, 99, kernel_size=(3, 3), stride=(1, 1), padding=(1, 1))\n",
              "  (57): ReLU(inplace=True)\n",
              "  (58): Conv2d(99, 99, kernel_size=(3, 3), stride=(1, 1), padding=(1, 1))\n",
              "  (59): ReLU(inplace=True)\n",
              "  (60): MergeLayer()\n",
              "  (61): Conv2d(99, 4, kernel_size=(1, 1), stride=(1, 1))\n",
              ")], add_time=True, silent=False)"
            ]
          },
          "execution_count": 55,
          "metadata": {},
          "output_type": "execute_result"
        }
      ],
      "source": [
        "learner.load('C:\\\\Users\\\\user\\\\Desktop\\\\M_v_6.0.0\\\\model')"
      ]
    },
    {
      "cell_type": "code",
      "execution_count": 56,
      "metadata": {},
      "outputs": [],
      "source": [
        "torch.save({'state_dict': learner.model.state_dict(), 'model': learner.model,}, 'C:\\\\Users\\\\user\\\\Desktop\\\\M6.0.0.pt')"
      ]
    },
    {
      "cell_type": "code",
      "execution_count": 45,
      "metadata": {
        "id": "V24jWtfZZqK-"
      },
      "outputs": [],
      "source": [
        "# learner.summary()"
      ]
    },
    {
      "cell_type": "markdown",
      "metadata": {
        "id": "nhOBZX7SGWZK"
      },
      "source": [
        "# Train"
      ]
    },
    {
      "cell_type": "markdown",
      "metadata": {
        "id": "0cxAg4rMGWZK"
      },
      "source": [
        "Training the data:"
      ]
    },
    {
      "cell_type": "code",
      "execution_count": 46,
      "metadata": {
        "id": "B9zNGbD-U4RK"
      },
      "outputs": [],
      "source": [
        "# learner.lr_find()\n",
        "# learner.recorder.plot(skip_end=10, suggestion=True)"
      ]
    },
    {
      "cell_type": "code",
      "execution_count": 47,
      "metadata": {
        "id": "qLeBnq8VGWZK"
      },
      "outputs": [],
      "source": [
        "# learner.fit_one_cycle(40, max_lr=slice(1e-3, 1e-5))"
      ]
    },
    {
      "cell_type": "code",
      "execution_count": 48,
      "metadata": {
        "id": "m6PBVCNobiXf"
      },
      "outputs": [],
      "source": [
        "# learner.recorder.plot_losses()\n",
        "# learner.recorder.plot_metrics()"
      ]
    },
    {
      "cell_type": "markdown",
      "metadata": {
        "id": "wGexijwmGWZK"
      },
      "source": [
        "Since the both the losses seem small enough, lets predict:"
      ]
    },
    {
      "cell_type": "code",
      "execution_count": 49,
      "metadata": {
        "id": "advFmtFNQsa9"
      },
      "outputs": [],
      "source": [
        "# learner.save(model_DIR)"
      ]
    },
    {
      "cell_type": "markdown",
      "metadata": {
        "id": "h89oPJAqp1bt"
      },
      "source": [
        "# Predictions"
      ]
    },
    {
      "cell_type": "code",
      "execution_count": 50,
      "metadata": {
        "id": "F7xjC8rrGWZK"
      },
      "outputs": [],
      "source": [
        "# learner.show_results(figsize=(15,15))"
      ]
    },
    {
      "cell_type": "markdown",
      "metadata": {
        "id": "AjvoOQ5jGWZL"
      },
      "source": [
        "On the left is the actual images while on the left is the predictions! They look almost identical and thereby here I conclude this notebook.\n",
        "\n",
        "If you liked this notebook, an upvote would be of tremendous help as I trot forward with my infatuation with Deep Learning :)"
      ]
    },
    {
      "cell_type": "markdown",
      "metadata": {
        "id": "Ep-yM8HNA_Hc"
      },
      "source": [
        "# Evaluation"
      ]
    },
    {
      "cell_type": "code",
      "execution_count": 51,
      "metadata": {
        "id": "5Vzf6IcvCmV4"
      },
      "outputs": [],
      "source": [
        "# trainpath = os.path.join(root_folder, 'train_for_base_imgs/')\n",
        "# trainpath_rgb = os.path.join(root_folder, 'train_for_base_imgs_rgb/')\n",
        "# trainlabel = os.path.join(root_folder, 'train_for_base_mask/')\n",
        "\n",
        "# trainpath_ = os.path.join(root_folder, 'train_for_step_imgs/')\n",
        "# trainpath_rgb_ = os.path.join(root_folder, 'train_for_step_imgs_rgb/')\n",
        "# trainlabel_ = os.path.join(root_folder, 'train_for_step_mask/')\n",
        "\n",
        "# validpath = os.path.join(root_folder, 'valid_imgs/')\n",
        "# validpath_rgb = os.path.join(root_folder, 'valid_imgs_rgb/')\n",
        "# validlabel = os.path.join(root_folder, 'valid_mask/')\n",
        "\n",
        "# testpath = os.path.join(root_folder, 'test_imgs/')\n",
        "# testpath_rgb = os.path.join(root_folder, 'test_imgs_rgb/')\n",
        "# testlabel = os.path.join(root_folder, 'test_mask/')"
      ]
    },
    {
      "cell_type": "code",
      "execution_count": 52,
      "metadata": {},
      "outputs": [],
      "source": [
        "# !pip install opencv-python"
      ]
    },
    {
      "cell_type": "code",
      "execution_count": 53,
      "metadata": {
        "id": "C1cwJ8yO_pXA"
      },
      "outputs": [],
      "source": [
        "import cv2\n",
        "import seaborn as sn\n",
        "from numpy.lib.function_base import average\n",
        "from skimage.transform import resize"
      ]
    },
    {
      "cell_type": "code",
      "execution_count": 54,
      "metadata": {
        "id": "JsXqMQcH_pXG"
      },
      "outputs": [],
      "source": [
        "# def confusion_matrix(now_imgs_DIR, now_mask_DIR, confusion_matrix):\n",
        "\n",
        "#   _SIZE = 540\n",
        "\n",
        "#   # confusion_matrix = np.zeros((12,12))\n",
        "\n",
        "#   img = open_image(now_imgs_DIR)\n",
        "#   mask = cv2.imread(now_mask_DIR)\n",
        "#   # print(now_imgs_DIR.replace('/content/drive/My Drive/09_research_main/lab_01/data/dataset_C_v_2.6.1', ''))\n",
        "\n",
        "#   # img.show(figsize=(6,6))\n",
        "#   # plt.show()\n",
        "#   # plt.imshow(mask*40)\n",
        "#   # plt.show()\n",
        "\n",
        "#   mask = cv2.resize(mask, (_SIZE,_SIZE))\n",
        "#   mask = cv2.cvtColor(mask, cv2.COLOR_BGR2GRAY)\n",
        "\n",
        "#   pred, pred_idx, probs = learner.predict(img)\n",
        "\n",
        "#   # plt.imshow((pred_idx.numpy()*40).reshape((_SIZE,_SIZE)))\n",
        "#   # plt.show()\n",
        "\n",
        "#   prediction = pred_idx.numpy()\n",
        "#   prediction = prediction.reshape((_SIZE,_SIZE))\n",
        "\n",
        "#   for i in range(0, mask.shape[0]):#-\n",
        "#     for j in range(0, mask.shape[1]):#|\n",
        "#       # print(prediction[i][j].item(),mask[i][j].item())\n",
        "#       confusion_matrix[prediction[i][j].item()][mask[i][j].item()] += 1\n",
        "\n",
        "#   # print(confusion_matrix)\n",
        "#   return confusion_matrix"
      ]
    },
    {
      "cell_type": "code",
      "execution_count": 55,
      "metadata": {
        "id": "Dt3_on5Z_pXH"
      },
      "outputs": [],
      "source": [
        "# def get_confusion_matrix(imgs_dir, label_dir, CLASSES):\n",
        "#   LEN = len(CLASSES)\n",
        "#   cm = np.zeros((LEN,LEN))\n",
        "\n",
        "#   for get_to_name_path in os.listdir(imgs_dir):\n",
        "#     now_imgs_DIR = os.path.join(imgs_dir,  get_to_name_path)\n",
        "#     now_mask_DIR = os.path.join(label_dir, (get_to_name_path.replace(get_to_name_path.split('_')[-1], 'RRR')).replace('_RRR', '.png'))\n",
        "\n",
        "#     cm = confusion_matrix(now_imgs_DIR, now_mask_DIR, cm)\n",
        "#   return cm"
      ]
    },
    {
      "cell_type": "code",
      "execution_count": 56,
      "metadata": {
        "id": "SP4ARCQl_pXH"
      },
      "outputs": [],
      "source": [
        "# def print_cm(GET_CM, CLASSES):\n",
        "\n",
        "#   df_cm = pd.DataFrame(GET_CM, index = [i for i in CLASSES], columns = [i for i in CLASSES])\n",
        "#   plt.figure(figsize = (15,12))\n",
        "#   sn.heatmap(df_cm, annot=True)"
      ]
    },
    {
      "cell_type": "code",
      "execution_count": 57,
      "metadata": {
        "id": "eRQWLas0_pXH"
      },
      "outputs": [],
      "source": [
        "# def IoU_computer(a, CLASSES):\n",
        "#   LEN = len(CLASSES)\n",
        "#   IoUstr = []\n",
        "#   IoU = []\n",
        "\n",
        "#   for i in range(1, LEN):\n",
        "#     temp = 0\n",
        "#     for j in range(1, LEN):\n",
        "#       temp += a[j][i] + a[i][j]\n",
        "#     IoUstr += [str(a[i][i])+'/'+str(temp-a[i][i])]\n",
        "#     IoU += [a[i][i]/(temp-a[i][i])]\n",
        "\n",
        "#   ALL_IoU = average(IoU)\n",
        "\n",
        "#   print(IoUstr)\n",
        "#   print(IoU)\n",
        "#   print(f'IoU = {ALL_IoU:.2f}')"
      ]
    },
    {
      "cell_type": "code",
      "execution_count": 58,
      "metadata": {
        "id": "LxaihMl4YpYl"
      },
      "outputs": [],
      "source": [
        "# def evaluation(imgs_dir, label_dir, classes):\n",
        "#   cm = get_confusion_matrix(imgs_dir, label_dir, classes)\n",
        "\n",
        "#   acm = cm\n",
        "#   acm[0][0] = 50\n",
        "\n",
        "#   print_cm(cm, classes)\n",
        "#   IoU_computer(cm, classes)"
      ]
    },
    {
      "cell_type": "code",
      "execution_count": 59,
      "metadata": {
        "id": "MoYQmhq3V1pA"
      },
      "outputs": [],
      "source": [
        "# maim step test for acc & cm\n",
        "\n",
        "# evaluation(trainpath_, trainlabel_, classes)"
      ]
    },
    {
      "cell_type": "code",
      "execution_count": 60,
      "metadata": {
        "id": "4DUjzCp_Zy9R"
      },
      "outputs": [],
      "source": [
        "# maim valid test for acc & cm\n",
        "\n",
        "# evaluation(validpath, validlabel, classes)"
      ]
    },
    {
      "cell_type": "code",
      "execution_count": 61,
      "metadata": {
        "id": "RAybfKnqppjY"
      },
      "outputs": [],
      "source": [
        "# maim test test for acc & cm\n",
        "\n",
        "# evaluation(testpath, testlabel, classes)"
      ]
    },
    {
      "cell_type": "markdown",
      "metadata": {
        "id": "mmSsSpGhA1Hf"
      },
      "source": [
        "#Export step dataset"
      ]
    },
    {
      "cell_type": "code",
      "execution_count": 62,
      "metadata": {},
      "outputs": [
        {
          "data": {
            "text/plain": [
              "'C:\\\\Users\\\\user\\\\Desktop\\\\M_v_6.0.0\\\\model'"
            ]
          },
          "execution_count": 62,
          "metadata": {},
          "output_type": "execute_result"
        }
      ],
      "source": [
        "ROOT_PATH"
      ]
    },
    {
      "cell_type": "code",
      "execution_count": 63,
      "metadata": {
        "id": "TRCxlUTTpR79"
      },
      "outputs": [],
      "source": [
        "# # Export dataset version\n",
        "\n",
        "Version = 'data/dataset_for_step_' + mVersion + '_' + '_D2.0.0'\n",
        "\n",
        "bindingset_dir = os.path.abspath(os.path.join(ROOT_PATH, Version))\n",
        "\n",
        "# step_train_bindingset_dir =             os.path.join(bindingset_dir, 'step_train/step_train')\n",
        "# step_train_focused_bindingset_dir =     os.path.join(bindingset_dir, 'step_train/step_train_focused')\n",
        "# step_train_rgb_bindingset_dir =         os.path.join(bindingset_dir, 'step_train/step_train_rgb')\n",
        "# step_train_rgb_focused_bindingset_dir = os.path.join(bindingset_dir, 'step_train/step_train_rgb_focused')\n",
        "# step_train_pred_idx_bindingset_dir =    os.path.join(bindingset_dir, 'step_train/step_train_pred_idx')\n",
        "# step_train_tensor_bindingset_dir =      os.path.join(bindingset_dir, 'step_train/step_train_tensor')\n",
        "\n",
        "# step_valid_bindingset_dir =             os.path.join(bindingset_dir, 'step_valid/step_valid')\n",
        "# step_valid_focused_bindingset_dir =     os.path.join(bindingset_dir, 'step_valid/step_valid_focused')\n",
        "# step_valid_rgb_bindingset_dir =         os.path.join(bindingset_dir, 'step_valid/step_valid_rgb')\n",
        "# step_valid_rgb_focused_bindingset_dir = os.path.join(bindingset_dir, 'step_valid/step_valid_rgb_focused')\n",
        "# step_valid_pred_idx_bindingset_dir =    os.path.join(bindingset_dir, 'step_valid/step_valid_pred_idx')\n",
        "# step_valid_tensor_bindingset_dir =      os.path.join(bindingset_dir, 'step_valid/step_valid_tensor')\n",
        "\n",
        "# valid_bindingset_dir =                  os.path.join(bindingset_dir, 'valid/valid')\n",
        "# valid_focused_bindingset_dir =          os.path.join(bindingset_dir, 'valid/valid_focused')\n",
        "# valid_rgb_bindingset_dir =              os.path.join(bindingset_dir, 'valid/valid_rgb')\n",
        "# valid_rgb_focused_bindingset_dir =      os.path.join(bindingset_dir, 'valid/valid_rgb_focused')\n",
        "# valid_pred_idx_bindingset_dir =         os.path.join(bindingset_dir, 'valid/valid_pred_idx')\n",
        "# valid_tensor_bindingset_dir =           os.path.join(bindingset_dir, 'valid/valid_tensor')\n",
        "\n",
        "# test_bindingset_dir =                   os.path.join(bindingset_dir, 'test/test')\n",
        "# test_focused_bindingset_dir =           os.path.join(bindingset_dir, 'test/test_focused')\n",
        "# test_rgb_bindingset_dir =               os.path.join(bindingset_dir, 'test/test_rgb')\n",
        "test_rgb_focused_bindingset_dir =       os.path.join(bindingset_dir, 'test\\\\test_rgb_focused')\n",
        "# test_pred_idx_bindingset_dir =          os.path.join(bindingset_dir, 'test/test_pred_idx')\n",
        "# test_tensor_bindingset_dir =            os.path.join(bindingset_dir, 'test/test_tensor')\n",
        "\n",
        "\n",
        "# checkpath(step_train_bindingset_dir)\n",
        "# checkpath(step_train_focused_bindingset_dir)\n",
        "# checkpath(step_train_rgb_bindingset_dir)\n",
        "# checkpath(step_train_rgb_focused_bindingset_dir)\n",
        "# checkpath(step_train_pred_idx_bindingset_dir)\n",
        "# checkpath(step_train_tensor_bindingset_dir)\n",
        "\n",
        "# checkpath(step_valid_bindingset_dir)\n",
        "# checkpath(step_valid_focused_bindingset_dir)\n",
        "# checkpath(step_valid_rgb_bindingset_dir)\n",
        "# checkpath(step_valid_rgb_focused_bindingset_dir)\n",
        "# checkpath(step_valid_pred_idx_bindingset_dir)\n",
        "# checkpath(step_valid_tensor_bindingset_dir)\n",
        "\n",
        "# checkpath(valid_bindingset_dir)\n",
        "# checkpath(valid_focused_bindingset_dir)\n",
        "# checkpath(valid_rgb_bindingset_dir)\n",
        "# checkpath(valid_rgb_focused_bindingset_dir)\n",
        "# checkpath(valid_pred_idx_bindingset_dir)\n",
        "# checkpath(valid_tensor_bindingset_dir)\n",
        "\n",
        "# checkpath(test_bindingset_dir)\n",
        "# checkpath(test_focused_bindingset_dir)\n",
        "# checkpath(test_rgb_bindingset_dir)\n",
        "# checkpath(test_rgb_focused_bindingset_dir)\n",
        "# checkpath(test_pred_idx_bindingset_dir)\n",
        "# checkpath(test_tensor_bindingset_dir)"
      ]
    },
    {
      "cell_type": "markdown",
      "metadata": {
        "id": "cSlx90ezKGgY"
      },
      "source": [
        "##Export non-tensor"
      ]
    },
    {
      "cell_type": "code",
      "execution_count": 64,
      "metadata": {
        "id": "u97HwUM8uVok"
      },
      "outputs": [],
      "source": [
        "def mask_cutter(img_DIR):\n",
        "  img = cv2.imread(img_DIR)\n",
        "  pred_idx = learner.predict(open_image(img_DIR))[1].numpy()\n",
        "\n",
        "  mask_ = resize(pred_idx.reshape((540, 540)), (1080, 1080))\n",
        "  # print(mask_[0][0])\n",
        "\n",
        "  for i in range(0, mask_.shape[0]):\n",
        "    for j in range(0, mask_.shape[1]):\n",
        "      if mask_[i][j] <= 5.5e-20:#5.421010862427522e-20\n",
        "        img[i][j][0] = 255\n",
        "        img[i][j][1] = 255\n",
        "        img[i][j][2] = 255\n",
        "\n",
        "  # img = resize(img, (540, 540))\n",
        "  # plt.figure()\n",
        "  # plt.imshow(img)\n",
        "  # plt.show()\n",
        "\n",
        "  return img"
      ]
    },
    {
      "cell_type": "code",
      "execution_count": 65,
      "metadata": {
        "id": "3UJtznGwyWbI"
      },
      "outputs": [],
      "source": [
        "def fixfix(x,y,w,h):\n",
        "  if w >= h:\n",
        "    y = int(y - (h / 4))\n",
        "    if y < 0 : y = 0\n",
        "    h = w\n",
        "    if y + h > 1080 : y = 1080 - h\n",
        "  else:\n",
        "    x = int(x - (w / 4))\n",
        "    if x < 0 : x = 0\n",
        "    w = h\n",
        "    if x + w > 1080 : x = 1080 - w\n",
        "  return x,y,w,h"
      ]
    },
    {
      "cell_type": "code",
      "execution_count": 66,
      "metadata": {},
      "outputs": [],
      "source": [
        "from matplotlib import pyplot as plt"
      ]
    },
    {
      "cell_type": "code",
      "execution_count": 67,
      "metadata": {
        "id": "_WxJCgGPIXo4"
      },
      "outputs": [],
      "source": [
        "def mask_cutter_v_2(img_DIR):\n",
        "  img = cv2.imread(img_DIR)\n",
        "  pred_idx = learner.predict(open_image(img_DIR))[1].numpy()\n",
        "\n",
        "  # print(type(pred_idx), pred_idx.shape)\n",
        "\n",
        "  # pred_idx = np.array(pred_idx)\n",
        "\n",
        "  print(type(pred_idx), pred_idx.shape)\n",
        "\n",
        "  # mask_ = resize(pred_idx.reshape((1080, 1080)), (1080, 1080))\n",
        "  mask_ = pred_idx\n",
        "\n",
        "  plt.imshow(pred_idx, interpolation='nearest')\n",
        "  plt.show()\n",
        "\n",
        "  # for i in range(0, mask_.shape[0]):\n",
        "  #   for j in range(0, mask_.shape[1]):\n",
        "  #     if mask_[i][j].all() <= 5.5e-20:\n",
        "  #       img[i][j][0] = 255\n",
        "  #       img[i][j][1] = 255\n",
        "  #       img[i][j][2] = 255\n",
        "  \n",
        "  # original = img.copy()\n",
        "\n",
        "  # gray = cv2.cvtColor(img, cv2.COLOR_BGR2GRAY)\n",
        "  # thresh = cv2.threshold(gray, 0, 255, cv2.THRESH_BINARY_INV + cv2.THRESH_OTSU)[1]\n",
        "\n",
        "  # max = 0\n",
        "  # cnts = cv2.findContours(thresh, cv2.RETR_EXTERNAL, cv2.CHAIN_APPROX_SIMPLE)\n",
        "  # cnts = cnts[0] if len(cnts) == 2 else cnts[1]\n",
        "  # # print(cnts)\n",
        "  # for c in cnts:\n",
        "  #     x,y,w,h = cv2.boundingRect(c)\n",
        "  #     if h > max : \n",
        "  #       max = h\n",
        "  #       max_index = c\n",
        "\n",
        "  # new_img = resize(original, (540, 540))\n",
        "  # try:\n",
        "  #   x,y,w,h = cv2.boundingRect(max_index)\n",
        "  # except UnboundLocalError:\n",
        "  #   print('Jumping over ' + img_DIR)\n",
        "  #   return original\n",
        "\n",
        "  # x,y,w,h = fixfix(x,y,w,h)\n",
        "\n",
        "  # # cv2.rectangle(img, (x, y), (x + w, y + h), (0,0,255), 2)\n",
        "  # new_img = resize(original[y:y+h, x:x+w], (540, 540))\n",
        "\n",
        "  # new_img = new_img*255\n",
        "\n",
        "  # # plt.figure()\n",
        "  # # plt.imshow(new_img)\n",
        "  # # plt.show()\n",
        "\n",
        "  # # print(img_DIR.split('/')[-1], np.unique(new_img), x, y, w, h)\n",
        "\n",
        "  return new_img"
      ]
    },
    {
      "cell_type": "code",
      "execution_count": 68,
      "metadata": {
        "id": "-N8uRadHZvPU"
      },
      "outputs": [],
      "source": [
        "# # run & save bindingset_v_2_trainmaker\n",
        "\n",
        "# kokocounter = 0\n",
        "\n",
        "# for imgs_name in os.listdir(trainpath_):\n",
        "#   print(imgs_name.split('.')[0] + '_' + mVersion + '_gs_COid' +  str(kokocounter) + '.png', kokocounter)\n",
        "\n",
        "#   if kokocounter%10 == 0:\n",
        "#     cv2.imwrite(os.path.join(step_valid_bindingset_dir,             imgs_name.split('.')[0] + '_' + mVersion + '_gs_COid' +  str(kokocounter) + '.png'), mask_cutter(    os.path.join(trainpath_,     imgs_name)))\n",
        "#     cv2.imwrite(os.path.join(step_valid_focused_bindingset_dir,     imgs_name.split('.')[0] + '_' + mVersion + '_gs_CFid' +  str(kokocounter) + '.png'), mask_cutter_v_2(os.path.join(trainpath_,     imgs_name)))\n",
        "#     if imgs_name.split('_B')[1] == 'n00.png':\n",
        "#       cv2.imwrite(os.path.join(step_valid_rgb_bindingset_dir,         imgs_name.split('.')[0] + '_' + mVersion + '_rgb_COid' + str(kokocounter) + '.png'), mask_cutter(    os.path.join(trainpath_rgb_, imgs_name.split('_B')[0] + '_Bnrgb.png')))\n",
        "#       cv2.imwrite(os.path.join(step_valid_rgb_focused_bindingset_dir, imgs_name.split('.')[0] + '_' + mVersion + '_rgb_CFid' + str(kokocounter) + '.png'), mask_cutter_v_2(os.path.join(trainpath_rgb_, imgs_name.split('_B')[0] + '_Bnrgb.png')))\n",
        "#       np.save(os.path.join(step_valid_pred_idx_bindingset_dir,        imgs_name.split('.')[0] + '_' + mVersion + '_pm_COid' +  str(kokocounter)), learner.predict(open_image(os.path.join(trainpath_, imgs_name)))[1].numpy().reshape((540, 540)))\n",
        "#   else:\n",
        "#     cv2.imwrite(os.path.join(step_train_bindingset_dir,             imgs_name.split('.')[0] + '_' + mVersion + '_gs_COid' +  str(kokocounter) + '.png'), mask_cutter(    os.path.join(trainpath_,     imgs_name)))\n",
        "#     cv2.imwrite(os.path.join(step_train_focused_bindingset_dir,     imgs_name.split('.')[0] + '_' + mVersion + '_gs_CFid' +  str(kokocounter) + '.png'), mask_cutter_v_2(os.path.join(trainpath_,     imgs_name)))\n",
        "#     if imgs_name.split('_B')[1] == 'n00.png':\n",
        "#       cv2.imwrite(os.path.join(step_train_rgb_bindingset_dir,         imgs_name.split('.')[0] + '_' + mVersion + '_rgb_COid' + str(kokocounter) + '.png'), mask_cutter(    os.path.join(trainpath_rgb_, imgs_name.split('_B')[0] + '_Bnrgb.png')))\n",
        "#       cv2.imwrite(os.path.join(step_train_rgb_focused_bindingset_dir, imgs_name.split('.')[0] + '_' + mVersion + '_rgb_CFid' + str(kokocounter) + '.png'), mask_cutter_v_2(os.path.join(trainpath_rgb_, imgs_name.split('_B')[0] + '_Bnrgb.png')))\n",
        "#       np.save(os.path.join(step_train_pred_idx_bindingset_dir,        imgs_name.split('.')[0] + '_' + mVersion + '_pm_COid' +  str(kokocounter)), learner.predict(open_image(os.path.join(trainpath_, imgs_name)))[1].numpy().reshape((540, 540)))\n",
        "\n",
        "#   kokocounter += 1\n",
        "  \n",
        "# print('\\n\\nSuccessfully Completed!!!\\n\\n')#797"
      ]
    },
    {
      "cell_type": "code",
      "execution_count": 69,
      "metadata": {
        "id": "SWvZROPYp4aH"
      },
      "outputs": [],
      "source": [
        "# # run & save bindingset_v_2_trainmaker\n",
        "\n",
        "# kokocounter = 0\n",
        "\n",
        "# for imgs_name in os.listdir(trainpath_):\n",
        "#   print(imgs_name.split('.')[0] + '_' + mVersion + '_gs_COid' +  str(kokocounter) + '.png', kokocounter)\n",
        "\n",
        "#   cv2.imwrite(os.path.join(step_train_bindingset_dir,             imgs_name.split('.')[0] + '_' + mVersion + '_gs_COid' +  str(kokocounter) + '.png'), mask_cutter(    os.path.join(trainpath_,     imgs_name)))\n",
        "#   cv2.imwrite(os.path.join(step_train_focused_bindingset_dir,     imgs_name.split('.')[0] + '_' + mVersion + '_gs_CFid' +  str(kokocounter) + '.png'), mask_cutter_v_2(os.path.join(trainpath_,     imgs_name)))\n",
        "#   if imgs_name.split('_B')[1] == 'n00.png':\n",
        "#     cv2.imwrite(os.path.join(step_train_rgb_bindingset_dir,         imgs_name.split('.')[0] + '_' + mVersion + '_rgb_COid' + str(kokocounter) + '.png'), mask_cutter(    os.path.join(trainpath_rgb_, imgs_name.split('_B')[0] + '_Bnrgb.png')))\n",
        "#     cv2.imwrite(os.path.join(step_train_rgb_focused_bindingset_dir, imgs_name.split('.')[0] + '_' + mVersion + '_rgb_CFid' + str(kokocounter) + '.png'), mask_cutter_v_2(os.path.join(trainpath_rgb_, imgs_name.split('_B')[0] + '_Bnrgb.png')))\n",
        "#     np.save(os.path.join(step_train_pred_idx_bindingset_dir,        imgs_name.split('.')[0] + '_' + mVersion + '_pm_COid' +  str(kokocounter)), learner.predict(open_image(os.path.join(trainpath_, imgs_name)))[1].numpy().reshape((540, 540)))\n",
        "\n",
        "#   kokocounter += 1\n",
        "  \n",
        "# print('\\n\\nSuccessfully Completed!!!\\n\\n')#797"
      ]
    },
    {
      "cell_type": "code",
      "execution_count": 70,
      "metadata": {
        "id": "4GbolQI1hCzB"
      },
      "outputs": [],
      "source": [
        "# # run & save bindingset_v_2_validmaker\n",
        "\n",
        "# kokocounter = 0\n",
        "\n",
        "# for imgs_name in os.listdir(validpath):\n",
        "#   print(imgs_name.split('.')[0] + '_' + mVersion + '_gs_COid' +  str(kokocounter) + '.png', kokocounter)\n",
        "\n",
        "#   cv2.imwrite(os.path.join(valid_bindingset_dir,             imgs_name.split('.')[0] + '_' + mVersion + '_gs_COid' +  str(kokocounter) + '.png'), mask_cutter(    os.path.join(validpath,     imgs_name)))\n",
        "#   cv2.imwrite(os.path.join(valid_focused_bindingset_dir,     imgs_name.split('.')[0] + '_' + mVersion + '_gs_CFid' +  str(kokocounter) + '.png'), mask_cutter_v_2(os.path.join(validpath,     imgs_name)))\n",
        "#   if imgs_name.split('_B')[1] == 'n00.png':\n",
        "#     cv2.imwrite(os.path.join(valid_rgb_bindingset_dir,         imgs_name.split('.')[0] + '_' + mVersion + '_rgb_COid' + str(kokocounter) + '.png'), mask_cutter(    os.path.join(validpath_rgb, imgs_name.split('_B')[0] + '_Bnrgb.png')))\n",
        "#     cv2.imwrite(os.path.join(valid_rgb_focused_bindingset_dir, imgs_name.split('.')[0] + '_' + mVersion + '_rgb_CFid' + str(kokocounter) + '.png'), mask_cutter_v_2(os.path.join(validpath_rgb, imgs_name.split('_B')[0] + '_Bnrgb.png')))\n",
        "#     np.save(os.path.join(valid_pred_idx_bindingset_dir,        imgs_name.split('.')[0] + '_' + mVersion + '_pm_COid' +  str(kokocounter)), learner.predict(open_image(os.path.join(validpath, imgs_name)))[1].numpy().reshape((540, 540)))\n",
        "\n",
        "#   kokocounter += 1\n",
        "  \n",
        "# print('\\n\\nSuccessfully Completed!!!\\n\\n')#797"
      ]
    },
    {
      "cell_type": "code",
      "execution_count": 71,
      "metadata": {},
      "outputs": [],
      "source": [
        "testpath = 'C:\\\\Users\\\\user\\\\Desktop\\\\M_v_6.0.0\\\\model\\\\dataset_C_v_3.0.1\\\\test_imgs_rgb'"
      ]
    },
    {
      "cell_type": "code",
      "execution_count": 72,
      "metadata": {
        "id": "e1m8qCKCLrUq"
      },
      "outputs": [
        {
          "name": "stdout",
          "output_type": "stream",
          "text": [
            "C:\\Users\\user\\Desktop\\M_v_6.0.0\\model\\data\\dataset_for_step_M6.0.0__D2.0.0\\test\\test_rgb_focused\\TEST_TEST_G1_Lid0_LRid598_Gid1028_Bnrgb_M6.0.0_rgb_CFid0.png\n",
            "<class 'numpy.ndarray'> (1, 1080, 1080)\n"
          ]
        },
        {
          "ename": "",
          "evalue": "",
          "output_type": "error",
          "traceback": [
            "\u001b[1;31mCanceled future for execute_request message before replies were done"
          ]
        },
        {
          "ename": "",
          "evalue": "",
          "output_type": "error",
          "traceback": [
            "\u001b[1;31mThe Kernel crashed while executing code in the the current cell or a previous cell. Please review the code in the cell(s) to identify a possible cause of the failure. Click <a href='https://aka.ms/vscodeJupyterKernelCrash'>here</a> for more info. View Jupyter <a href='command:jupyter.viewOutput'>log</a> for further details."
          ]
        }
      ],
      "source": [
        "# run & save bindingset_v_2_testmaker\n",
        "\n",
        "kokocounter = 0\n",
        "\n",
        "for imgs_name in os.listdir(testpath):\n",
        "  # print(imgs_name.split('.')[0] + '_' + mVersion + '_gs_COid' +  str(kokocounter) + '.png', kokocounter)\n",
        "\n",
        "  # cv2.imwrite(os.path.join(test_bindingset_dir,             imgs_name.split('.')[0] + '_' + mVersion + '_gs_COid' +  str(kokocounter) + '.png'), mask_cutter(    os.path.join(testpath,     imgs_name)))\n",
        "  # cv2.imwrite(os.path.join(test_focused_bindingset_dir,     imgs_name.split('.')[0] + '_' + mVersion + '_gs_CFid' +  str(kokocounter) + '.png'), mask_cutter_v_2(os.path.join(testpath,     imgs_name)))\n",
        "  # if imgs_name.split('_B')[1] == 'n00.png':\n",
        "    # cv2.imwrite(os.path.join(test_rgb_bindingset_dir,         imgs_name.split('.')[0] + '_' + mVersion + '_rgb_COid' + str(kokocounter) + '.png'), mask_cutter(    os.path.join(testpath_rgb, imgs_name.split('_B')[0] + '_Bnrgb.png')))\n",
        "  name = os.path.join(test_rgb_focused_bindingset_dir, imgs_name.split('.')[0] + '_' + mVersion + '_rgb_CFid' + str(kokocounter) + '.png')\n",
        "  print(name)\n",
        "  cv2.imwrite(name, mask_cutter_v_2(os.path.join(testpath, imgs_name)))\n",
        "    # np.save(os.path.join(test_pred_idx_bindingset_dir,        imgs_name.split('.')[0] + '_' + mVersion + '_pm_COid' +  str(kokocounter)), learner.predict(open_image(os.path.join(testpath, imgs_name)))[1].numpy().reshape((540, 540)))\n",
        "  kokocounter += 1\n",
        "  \n",
        "print('\\n\\nSuccessfully Completed!!!\\n\\n')#797"
      ]
    },
    {
      "cell_type": "code",
      "execution_count": null,
      "metadata": {
        "id": "ntsudh2tO8gt"
      },
      "outputs": [],
      "source": [
        "# END HERE np.load('my_array.npy')"
      ]
    },
    {
      "cell_type": "markdown",
      "metadata": {
        "id": "U7Y_A7NrBTcE"
      },
      "source": [
        "##Export tensor"
      ]
    },
    {
      "cell_type": "code",
      "execution_count": null,
      "metadata": {
        "id": "fQnMk_LExyLR"
      },
      "outputs": [],
      "source": [
        "# # run & save bindingset_v_3_trainmaker\n",
        "\n",
        "# kokocounter = 0\n",
        "\n",
        "# for imgs_name in os.listdir(trainpath_):\n",
        "#   print(imgs_name.split('.')[0] + '_' + mVersion + '_tensor_COid' +  str(kokocounter) + '.pt', kokocounter)\n",
        "\n",
        "#   if kokocounter%10 == 0:\n",
        "#     torch.save(learner.predict(open_image(os.path.join(trainpath_, imgs_name)))[2], os.path.join(step_valid_tensor_bindingset_dir, imgs_name.split('.')[0] + '_' + mVersion + '_tensor_COid' +  str(kokocounter) + '.pt'))\n",
        "#   else:\n",
        "#     torch.save(learner.predict(open_image(os.path.join(trainpath_, imgs_name)))[2], os.path.join(step_train_tensor_bindingset_dir, imgs_name.split('.')[0] + '_' + mVersion + '_tensor_COid' +  str(kokocounter) + '.pt'))\n",
        "\n",
        "#   kokocounter += 1\n",
        "  \n",
        "# print('\\n\\nSuccessfully Completed!!!\\n\\n')#797"
      ]
    },
    {
      "cell_type": "code",
      "execution_count": null,
      "metadata": {
        "id": "zgox-gA7906b"
      },
      "outputs": [],
      "source": [
        "# # run & save bindingset_v_3_validmaker\n",
        "\n",
        "# kokocounter = 0\n",
        "\n",
        "# for imgs_name in os.listdir(trainpath_):\n",
        "#   print(imgs_name.split('.')[0] + '_' + mVersion + '_tensor_COid' +  str(kokocounter) + '.pt', kokocounter)\n",
        "\n",
        "#   torch.save(learner.predict(open_image(os.path.join(validpath, imgs_name)))[2], os.path.join(valid_tensor_bindingset_dir, imgs_name.split('.')[0] + '_' + mVersion + '_tensor_COid' +  str(kokocounter) + '.pt'))\n",
        "\n",
        "#   kokocounter += 1\n",
        "  \n",
        "# print('\\n\\nSuccessfully Completed!!!\\n\\n')#797"
      ]
    },
    {
      "cell_type": "code",
      "execution_count": null,
      "metadata": {
        "id": "wp15VGUt-HQY"
      },
      "outputs": [],
      "source": [
        "# # run & save bindingset_v_3_testmaker\n",
        "\n",
        "# kokocounter = 0\n",
        "\n",
        "# for imgs_name in os.listdir(trainpath_):\n",
        "#   print(imgs_name.split('.')[0] + '_' + mVersion + '_tensor_COid' +  str(kokocounter) + '.pt', kokocounter)\n",
        "\n",
        "#   torch.save(learner.predict(open_image(os.path.join(testpath, imgs_name)))[2], os.path.join(test_tensor_bindingset_dir, imgs_name.split('.')[0] + '_' + mVersion + '_tensor_COid' +  str(kokocounter) + '.pt'))\n",
        "\n",
        "#   kokocounter += 1\n",
        "  \n",
        "# print('\\n\\nSuccessfully Completed!!!\\n\\n')#797"
      ]
    },
    {
      "cell_type": "code",
      "execution_count": null,
      "metadata": {
        "id": "30oXE_Us-vNT"
      },
      "outputs": [],
      "source": [
        "# END HERE"
      ]
    }
  ],
  "metadata": {
    "accelerator": "GPU",
    "colab": {
      "machine_shape": "hm",
      "provenance": []
    },
    "gpuClass": "premium",
    "kernelspec": {
      "display_name": "Python 3",
      "language": "python",
      "name": "python3"
    },
    "language_info": {
      "codemirror_mode": {
        "name": "ipython",
        "version": 3
      },
      "file_extension": ".py",
      "mimetype": "text/x-python",
      "name": "python",
      "nbconvert_exporter": "python",
      "pygments_lexer": "ipython3",
      "version": "3.8.16"
    }
  },
  "nbformat": 4,
  "nbformat_minor": 0
}
