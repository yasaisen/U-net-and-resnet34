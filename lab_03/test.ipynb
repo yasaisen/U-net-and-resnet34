{
 "cells": [
  {
   "cell_type": "code",
   "execution_count": null,
   "metadata": {},
   "outputs": [],
   "source": [
    "import os\n",
    "import cv2\n",
    "import matplotlib.pyplot as plt"
   ]
  },
  {
   "cell_type": "code",
   "execution_count": null,
   "metadata": {},
   "outputs": [],
   "source": [
    "root_dir = '/home/yasaisen/Desktop/09_research/09_research_main/lab_03'"
   ]
  },
  {
   "cell_type": "code",
   "execution_count": null,
   "metadata": {},
   "outputs": [],
   "source": [
    "# mask fit check\n",
    "\n",
    "mask_DIR = os.path.join(root_dir, 'RSLN_R_G13_Lid187_LRid623_Gid9037_C4.png')\n",
    "\n",
    "\n",
    "for get_file_name in os.listdir(jpgs_DIR):\n",
    "  print('Now looking ' + get_file_name)\n",
    "\n",
    "  mask = cv2.imread(os.path.join(mask_DIR, get_file_name))\n",
    "  img = cv2.imread(os.path.join(jpgs_DIR, get_file_name))\n",
    "\n",
    "  plt.imshow(img)\n",
    "  plt.show()\n",
    "\n",
    "  mask = mask*50\n",
    "  plt.imshow(mask)\n",
    "  plt.show()\n",
    "\n",
    "  res = cv2.addWeighted(img, 0.5, mask, 0.5, 0)\n",
    "  plt.imshow(res)\n",
    "  plt.show()"
   ]
  }
 ],
 "metadata": {
  "language_info": {
   "name": "python"
  },
  "orig_nbformat": 4
 },
 "nbformat": 4,
 "nbformat_minor": 2
}
