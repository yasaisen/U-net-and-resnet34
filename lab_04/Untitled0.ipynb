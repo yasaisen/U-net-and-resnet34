{
  "cells": [
    {
      "cell_type": "code",
      "execution_count": 1,
      "metadata": {
        "id": "wgSy13FL1wWO"
      },
      "outputs": [
        {
          "name": "stdout",
          "output_type": "stream",
          "text": [
            "結束\n"
          ]
        }
      ],
      "source": [
        "import os\n",
        "import cv2\n",
        "#最終影像使用的處理方式\n",
        "save_path = \"/home/yasaisen/Desktop/09_research/09_research_main/lab_04/save/\" # 保存文件的路径\n",
        "path = \"/home/yasaisen/Desktop/09_research/09_research_main/lab_04/jpgs\"  # 原文件的路径\n",
        "#path = sorted(path)\n",
        "#path.sort(key=lambda x:int(x.split('.')[0]))\n",
        "j = 0\n",
        "for info in sorted(os.listdir(path)):\n",
        "    domain = os.path.abspath(path)\n",
        "    info1 = os.path.join(domain,info)\n",
        "    image = cv2.imread(info1, cv2.IMREAD_ANYCOLOR)\n",
        "    cv2.imshow('original',image)\n",
        "    cv2.waitKey(1000)\n",
        "\n",
        "#image = cv2.imread(r'C:/pythonwork/Untitled Folder/test/', cv2.IMREAD_ANYCOLOR)\n",
        "\n",
        "    dst = cv2.GaussianBlur(image, (9,9), 0.0)\n",
        "    cv2.imshow(\"image\", image)\n",
        "    cv2.imshow(\"GaussBlur\", dst)\n",
        "    i = j\n",
        "    i = i+1\n",
        "    #cv2.imwrite(save_path + '0'+str(i) + '.png', dst)\n",
        "    cv2.imwrite(save_path + info, dst)\n",
        "    j= i\n",
        "print(\"結束\")\n",
        "cv2.waitKey(0)\n",
        "#cv2.destroyAllWindows()\n",
        "#cv2.release()"
      ]
    },
    {
      "cell_type": "code",
      "execution_count": null,
      "metadata": {
        "id": "bXuCvFmG_KTk"
      },
      "outputs": [],
      "source": [
        "#影片分針處理\n",
        "import cv2\n",
        " \n",
        "cap = cv2.VideoCapture('C:/pythonwork/Untitled Folder/RSLN_video/26-1327743-20161215.mp4')\n",
        "c = 1\n",
        "frameRate = 1  \n",
        " \n",
        "while(True):\n",
        "\tret, frame = cap.read()\n",
        "\tif ret:\n",
        "\t\tif(c % frameRate == 0):\n",
        "\t\t\tprint(\"開始截取影片第：\" + str(c) + \" 帧\")\n",
        "\t\t\t\n",
        "\t\t\tcv2.imwrite(\"C:/pythonwork/Untitled Folder/RSLN_cutdata/26-1327743-20161215/\" + str(c) + '.png', frame)  \n",
        "\t\tc += 1\n",
        "\t\tcv2.waitKey(0)\n",
        "\telse:\n",
        "\t\tprint(\"所有帧都已经保存完成\")\n",
        "\t\tbreak\n",
        "cap.release()"
      ]
    }
  ],
  "metadata": {
    "colab": {
      "collapsed_sections": [],
      "provenance": []
    },
    "interpreter": {
      "hash": "31f2aee4e71d21fbe5cf8b01ff0e069b9275f58929596ceb00d14d90e3e16cd6"
    },
    "kernelspec": {
      "display_name": "Python 3.6.9 64-bit",
      "language": "python",
      "name": "python3"
    },
    "language_info": {
      "codemirror_mode": {
        "name": "ipython",
        "version": 3
      },
      "file_extension": ".py",
      "mimetype": "text/x-python",
      "name": "python",
      "nbconvert_exporter": "python",
      "pygments_lexer": "ipython3",
      "version": "3.6.9"
    }
  },
  "nbformat": 4,
  "nbformat_minor": 0
}
