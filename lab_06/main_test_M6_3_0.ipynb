{
  "cells": [
    {
      "cell_type": "markdown",
      "metadata": {
        "id": "klOpaiNfGWY8"
      },
      "source": [
        "# Libraries"
      ]
    },
    {
      "cell_type": "code",
      "execution_count": 65,
      "metadata": {
        "colab": {
          "base_uri": "https://localhost:8080/"
        },
        "id": "PHWgEA0e0B5z",
        "outputId": "d3cc3e45-223d-48f7-c26b-2c8a427a5758"
      },
      "outputs": [
        {
          "output_type": "stream",
          "name": "stdout",
          "text": [
            "Fri Apr 28 05:48:29 2023       \n",
            "+-----------------------------------------------------------------------------+\n",
            "| NVIDIA-SMI 525.85.12    Driver Version: 525.85.12    CUDA Version: 12.0     |\n",
            "|-------------------------------+----------------------+----------------------+\n",
            "| GPU  Name        Persistence-M| Bus-Id        Disp.A | Volatile Uncorr. ECC |\n",
            "| Fan  Temp  Perf  Pwr:Usage/Cap|         Memory-Usage | GPU-Util  Compute M. |\n",
            "|                               |                      |               MIG M. |\n",
            "|===============================+======================+======================|\n",
            "|   0  Tesla T4            Off  | 00000000:00:04.0 Off |                    0 |\n",
            "| N/A   40C    P8     9W /  70W |      3MiB / 15360MiB |      0%      Default |\n",
            "|                               |                      |                  N/A |\n",
            "+-------------------------------+----------------------+----------------------+\n",
            "                                                                               \n",
            "+-----------------------------------------------------------------------------+\n",
            "| Processes:                                                                  |\n",
            "|  GPU   GI   CI        PID   Type   Process name                  GPU Memory |\n",
            "|        ID   ID                                                   Usage      |\n",
            "|=============================================================================|\n",
            "|  No running processes found                                                 |\n",
            "+-----------------------------------------------------------------------------+\n"
          ]
        }
      ],
      "source": [
        "!nvidia-smi"
      ]
    },
    {
      "cell_type": "code",
      "execution_count": 66,
      "metadata": {
        "colab": {
          "base_uri": "https://localhost:8080/"
        },
        "id": "pxV4okRH0AVG",
        "outputId": "b36287d0-789d-4eb9-f9f2-958a61fb3113"
      },
      "outputs": [
        {
          "output_type": "stream",
          "name": "stdout",
          "text": [
            "Drive already mounted at /content/drive; to attempt to forcibly remount, call drive.mount(\"/content/drive\", force_remount=True).\n"
          ]
        }
      ],
      "source": [
        "from google.colab import drive\n",
        "\n",
        "drive.mount('/content/drive')\n",
        "ROOT_PATH = '/content/drive/My Drive/09_research_main/lab_04'"
      ]
    },
    {
      "cell_type": "code",
      "execution_count": 67,
      "metadata": {
        "colab": {
          "base_uri": "https://localhost:8080/"
        },
        "id": "4j3GoLY7n5T9",
        "outputId": "68be445f-5b6b-4da6-807e-a2170e3016af"
      },
      "outputs": [
        {
          "output_type": "stream",
          "name": "stdout",
          "text": [
            "Looking in indexes: https://pypi.org/simple, https://us-python.pkg.dev/colab-wheels/public/simple/\n",
            "Requirement already satisfied: fastai==1.0.58 in /usr/local/lib/python3.10/dist-packages (1.0.58)\n",
            "Requirement already satisfied: torchvision in /usr/local/lib/python3.10/dist-packages (from fastai==1.0.58) (0.15.1+cu118)\n",
            "Requirement already satisfied: Pillow in /usr/local/lib/python3.10/dist-packages (from fastai==1.0.58) (8.4.0)\n",
            "Requirement already satisfied: beautifulsoup4 in /usr/local/lib/python3.10/dist-packages (from fastai==1.0.58) (4.11.2)\n",
            "Requirement already satisfied: fastprogress>=0.1.19 in /usr/local/lib/python3.10/dist-packages (from fastai==1.0.58) (1.0.3)\n",
            "Requirement already satisfied: packaging in /usr/local/lib/python3.10/dist-packages (from fastai==1.0.58) (23.1)\n",
            "Requirement already satisfied: numpy>=1.15 in /usr/local/lib/python3.10/dist-packages (from fastai==1.0.58) (1.22.4)\n",
            "Requirement already satisfied: matplotlib in /usr/local/lib/python3.10/dist-packages (from fastai==1.0.58) (3.7.1)\n",
            "Requirement already satisfied: bottleneck in /usr/local/lib/python3.10/dist-packages (from fastai==1.0.58) (1.3.7)\n",
            "Requirement already satisfied: pandas in /usr/local/lib/python3.10/dist-packages (from fastai==1.0.58) (1.5.3)\n",
            "Requirement already satisfied: pyyaml in /usr/local/lib/python3.10/dist-packages (from fastai==1.0.58) (6.0)\n",
            "Requirement already satisfied: spacy>=2.0.18 in /usr/local/lib/python3.10/dist-packages (from fastai==1.0.58) (3.5.2)\n",
            "Requirement already satisfied: numexpr in /usr/local/lib/python3.10/dist-packages (from fastai==1.0.58) (2.8.4)\n",
            "Requirement already satisfied: requests in /usr/local/lib/python3.10/dist-packages (from fastai==1.0.58) (2.27.1)\n",
            "Requirement already satisfied: nvidia-ml-py3 in /usr/local/lib/python3.10/dist-packages (from fastai==1.0.58) (7.352.0)\n",
            "Requirement already satisfied: scipy in /usr/local/lib/python3.10/dist-packages (from fastai==1.0.58) (1.10.1)\n",
            "Requirement already satisfied: torch>=1.0.0 in /usr/local/lib/python3.10/dist-packages (from fastai==1.0.58) (2.0.0+cu118)\n",
            "Requirement already satisfied: cymem<2.1.0,>=2.0.2 in /usr/local/lib/python3.10/dist-packages (from spacy>=2.0.18->fastai==1.0.58) (2.0.7)\n",
            "Requirement already satisfied: pydantic!=1.8,!=1.8.1,<1.11.0,>=1.7.4 in /usr/local/lib/python3.10/dist-packages (from spacy>=2.0.18->fastai==1.0.58) (1.10.7)\n",
            "Requirement already satisfied: murmurhash<1.1.0,>=0.28.0 in /usr/local/lib/python3.10/dist-packages (from spacy>=2.0.18->fastai==1.0.58) (1.0.9)\n",
            "Requirement already satisfied: spacy-loggers<2.0.0,>=1.0.0 in /usr/local/lib/python3.10/dist-packages (from spacy>=2.0.18->fastai==1.0.58) (1.0.4)\n",
            "Requirement already satisfied: setuptools in /usr/local/lib/python3.10/dist-packages (from spacy>=2.0.18->fastai==1.0.58) (67.7.2)\n",
            "Requirement already satisfied: langcodes<4.0.0,>=3.2.0 in /usr/local/lib/python3.10/dist-packages (from spacy>=2.0.18->fastai==1.0.58) (3.3.0)\n",
            "Requirement already satisfied: srsly<3.0.0,>=2.4.3 in /usr/local/lib/python3.10/dist-packages (from spacy>=2.0.18->fastai==1.0.58) (2.4.6)\n",
            "Requirement already satisfied: thinc<8.2.0,>=8.1.8 in /usr/local/lib/python3.10/dist-packages (from spacy>=2.0.18->fastai==1.0.58) (8.1.9)\n",
            "Requirement already satisfied: wasabi<1.2.0,>=0.9.1 in /usr/local/lib/python3.10/dist-packages (from spacy>=2.0.18->fastai==1.0.58) (1.1.1)\n",
            "Requirement already satisfied: smart-open<7.0.0,>=5.2.1 in /usr/local/lib/python3.10/dist-packages (from spacy>=2.0.18->fastai==1.0.58) (6.3.0)\n",
            "Requirement already satisfied: tqdm<5.0.0,>=4.38.0 in /usr/local/lib/python3.10/dist-packages (from spacy>=2.0.18->fastai==1.0.58) (4.65.0)\n",
            "Requirement already satisfied: spacy-legacy<3.1.0,>=3.0.11 in /usr/local/lib/python3.10/dist-packages (from spacy>=2.0.18->fastai==1.0.58) (3.0.12)\n",
            "Requirement already satisfied: pathy>=0.10.0 in /usr/local/lib/python3.10/dist-packages (from spacy>=2.0.18->fastai==1.0.58) (0.10.1)\n",
            "Requirement already satisfied: typer<0.8.0,>=0.3.0 in /usr/local/lib/python3.10/dist-packages (from spacy>=2.0.18->fastai==1.0.58) (0.7.0)\n",
            "Requirement already satisfied: catalogue<2.1.0,>=2.0.6 in /usr/local/lib/python3.10/dist-packages (from spacy>=2.0.18->fastai==1.0.58) (2.0.8)\n",
            "Requirement already satisfied: preshed<3.1.0,>=3.0.2 in /usr/local/lib/python3.10/dist-packages (from spacy>=2.0.18->fastai==1.0.58) (3.0.8)\n",
            "Requirement already satisfied: jinja2 in /usr/local/lib/python3.10/dist-packages (from spacy>=2.0.18->fastai==1.0.58) (3.1.2)\n",
            "Requirement already satisfied: urllib3<1.27,>=1.21.1 in /usr/local/lib/python3.10/dist-packages (from requests->fastai==1.0.58) (1.26.15)\n",
            "Requirement already satisfied: certifi>=2017.4.17 in /usr/local/lib/python3.10/dist-packages (from requests->fastai==1.0.58) (2022.12.7)\n",
            "Requirement already satisfied: charset-normalizer~=2.0.0 in /usr/local/lib/python3.10/dist-packages (from requests->fastai==1.0.58) (2.0.12)\n",
            "Requirement already satisfied: idna<4,>=2.5 in /usr/local/lib/python3.10/dist-packages (from requests->fastai==1.0.58) (3.4)\n",
            "Requirement already satisfied: networkx in /usr/local/lib/python3.10/dist-packages (from torch>=1.0.0->fastai==1.0.58) (3.1)\n",
            "Requirement already satisfied: triton==2.0.0 in /usr/local/lib/python3.10/dist-packages (from torch>=1.0.0->fastai==1.0.58) (2.0.0)\n",
            "Requirement already satisfied: typing-extensions in /usr/local/lib/python3.10/dist-packages (from torch>=1.0.0->fastai==1.0.58) (4.5.0)\n",
            "Requirement already satisfied: sympy in /usr/local/lib/python3.10/dist-packages (from torch>=1.0.0->fastai==1.0.58) (1.11.1)\n",
            "Requirement already satisfied: filelock in /usr/local/lib/python3.10/dist-packages (from torch>=1.0.0->fastai==1.0.58) (3.12.0)\n",
            "Requirement already satisfied: lit in /usr/local/lib/python3.10/dist-packages (from triton==2.0.0->torch>=1.0.0->fastai==1.0.58) (16.0.2)\n",
            "Requirement already satisfied: cmake in /usr/local/lib/python3.10/dist-packages (from triton==2.0.0->torch>=1.0.0->fastai==1.0.58) (3.25.2)\n",
            "Requirement already satisfied: soupsieve>1.2 in /usr/local/lib/python3.10/dist-packages (from beautifulsoup4->fastai==1.0.58) (2.4.1)\n",
            "Requirement already satisfied: pyparsing>=2.3.1 in /usr/local/lib/python3.10/dist-packages (from matplotlib->fastai==1.0.58) (3.0.9)\n",
            "Requirement already satisfied: kiwisolver>=1.0.1 in /usr/local/lib/python3.10/dist-packages (from matplotlib->fastai==1.0.58) (1.4.4)\n",
            "Requirement already satisfied: contourpy>=1.0.1 in /usr/local/lib/python3.10/dist-packages (from matplotlib->fastai==1.0.58) (1.0.7)\n",
            "Requirement already satisfied: fonttools>=4.22.0 in /usr/local/lib/python3.10/dist-packages (from matplotlib->fastai==1.0.58) (4.39.3)\n",
            "Requirement already satisfied: cycler>=0.10 in /usr/local/lib/python3.10/dist-packages (from matplotlib->fastai==1.0.58) (0.11.0)\n",
            "Requirement already satisfied: python-dateutil>=2.7 in /usr/local/lib/python3.10/dist-packages (from matplotlib->fastai==1.0.58) (2.8.2)\n",
            "Requirement already satisfied: pytz>=2020.1 in /usr/local/lib/python3.10/dist-packages (from pandas->fastai==1.0.58) (2022.7.1)\n",
            "Requirement already satisfied: six>=1.5 in /usr/local/lib/python3.10/dist-packages (from python-dateutil>=2.7->matplotlib->fastai==1.0.58) (1.16.0)\n",
            "Requirement already satisfied: blis<0.8.0,>=0.7.8 in /usr/local/lib/python3.10/dist-packages (from thinc<8.2.0,>=8.1.8->spacy>=2.0.18->fastai==1.0.58) (0.7.9)\n",
            "Requirement already satisfied: confection<1.0.0,>=0.0.1 in /usr/local/lib/python3.10/dist-packages (from thinc<8.2.0,>=8.1.8->spacy>=2.0.18->fastai==1.0.58) (0.0.4)\n",
            "Requirement already satisfied: click<9.0.0,>=7.1.1 in /usr/local/lib/python3.10/dist-packages (from typer<0.8.0,>=0.3.0->spacy>=2.0.18->fastai==1.0.58) (8.1.3)\n",
            "Requirement already satisfied: MarkupSafe>=2.0 in /usr/local/lib/python3.10/dist-packages (from jinja2->spacy>=2.0.18->fastai==1.0.58) (2.1.2)\n",
            "Requirement already satisfied: mpmath>=0.19 in /usr/local/lib/python3.10/dist-packages (from sympy->torch>=1.0.0->fastai==1.0.58) (1.3.0)\n",
            "Looking in indexes: https://pypi.org/simple, https://us-python.pkg.dev/colab-wheels/public/simple/\n",
            "\u001b[31mERROR: Could not find a version that satisfies the requirement torch==1.4.0 (from versions: 1.11.0, 1.12.0, 1.12.1, 1.13.0, 1.13.1, 2.0.0)\u001b[0m\u001b[31m\n",
            "\u001b[0m\u001b[31mERROR: No matching distribution found for torch==1.4.0\u001b[0m\u001b[31m\n",
            "\u001b[0mLooking in indexes: https://pypi.org/simple, https://us-python.pkg.dev/colab-wheels/public/simple/\n",
            "\u001b[31mERROR: Could not find a version that satisfies the requirement torchvision==0.5.0 (from versions: 0.1.6, 0.1.7, 0.1.8, 0.1.9, 0.2.0, 0.2.1, 0.2.2, 0.2.2.post2, 0.2.2.post3, 0.12.0, 0.13.0, 0.13.1, 0.14.0, 0.14.1, 0.15.0, 0.15.1)\u001b[0m\u001b[31m\n",
            "\u001b[0m\u001b[31mERROR: No matching distribution found for torchvision==0.5.0\u001b[0m\u001b[31m\n",
            "\u001b[0m"
          ]
        }
      ],
      "source": [
        "!pip install fastai==1.0.58\n",
        "!pip install torch==1.4.0\n",
        "!pip install torchvision==0.5.0"
      ]
    },
    {
      "cell_type": "code",
      "execution_count": 68,
      "metadata": {
        "id": "ZPAD--_jGWY8"
      },
      "outputs": [],
      "source": [
        "import numpy as np\n",
        "import pandas as pd\n",
        "import warnings\n",
        "warnings.filterwarnings('ignore')"
      ]
    },
    {
      "cell_type": "markdown",
      "metadata": {
        "id": "kqVPOzsLGWY-"
      },
      "source": [
        "Importing the FastAI libraries:"
      ]
    },
    {
      "cell_type": "code",
      "source": [
        "!pip list"
      ],
      "metadata": {
        "colab": {
          "base_uri": "https://localhost:8080/"
        },
        "id": "QldOebBMtkbf",
        "outputId": "08f00713-1ec2-4887-b314-c7e08aa0e33f"
      },
      "execution_count": 69,
      "outputs": [
        {
          "output_type": "stream",
          "name": "stdout",
          "text": [
            "Package                       Version\n",
            "----------------------------- --------------------\n",
            "absl-py                       1.4.0\n",
            "alabaster                     0.7.13\n",
            "albumentations                1.2.1\n",
            "altair                        4.2.2\n",
            "anyio                         3.6.2\n",
            "appdirs                       1.4.4\n",
            "argon2-cffi                   21.3.0\n",
            "argon2-cffi-bindings          21.2.0\n",
            "arviz                         0.15.1\n",
            "astropy                       5.2.2\n",
            "astunparse                    1.6.3\n",
            "attrs                         23.1.0\n",
            "audioread                     3.0.0\n",
            "autograd                      1.5\n",
            "Babel                         2.12.1\n",
            "backcall                      0.2.0\n",
            "beautifulsoup4                4.11.2\n",
            "bleach                        6.0.0\n",
            "blis                          0.7.9\n",
            "blosc2                        2.0.0\n",
            "bokeh                         2.4.3\n",
            "Bottleneck                    1.3.7\n",
            "branca                        0.6.0\n",
            "CacheControl                  0.12.11\n",
            "cached-property               1.5.2\n",
            "cachetools                    5.3.0\n",
            "catalogue                     2.0.8\n",
            "certifi                       2022.12.7\n",
            "cffi                          1.15.1\n",
            "chardet                       4.0.0\n",
            "charset-normalizer            2.0.12\n",
            "chex                          0.1.7\n",
            "click                         8.1.3\n",
            "cloudpickle                   2.2.1\n",
            "cmake                         3.25.2\n",
            "cmdstanpy                     1.1.0\n",
            "colorcet                      3.0.1\n",
            "colorlover                    0.3.0\n",
            "community                     1.0.0b1\n",
            "confection                    0.0.4\n",
            "cons                          0.4.5\n",
            "contextlib2                   0.6.0.post1\n",
            "contourpy                     1.0.7\n",
            "convertdate                   2.4.0\n",
            "cryptography                  40.0.2\n",
            "cufflinks                     0.17.3\n",
            "cupy-cuda11x                  11.0.0\n",
            "cvxopt                        1.3.0\n",
            "cvxpy                         1.3.1\n",
            "cycler                        0.11.0\n",
            "cymem                         2.0.7\n",
            "Cython                        0.29.34\n",
            "dask                          2022.12.1\n",
            "datascience                   0.17.6\n",
            "db-dtypes                     1.1.1\n",
            "dbus-python                   1.2.16\n",
            "debugpy                       1.6.6\n",
            "decorator                     4.4.2\n",
            "defusedxml                    0.7.1\n",
            "distributed                   2022.12.1\n",
            "dlib                          19.24.1\n",
            "dm-tree                       0.1.8\n",
            "docutils                      0.16\n",
            "dopamine-rl                   4.0.6\n",
            "duckdb                        0.7.1\n",
            "earthengine-api               0.1.350\n",
            "easydict                      1.10\n",
            "ecos                          2.0.12\n",
            "editdistance                  0.6.2\n",
            "en-core-web-sm                3.5.0\n",
            "entrypoints                   0.4\n",
            "ephem                         4.1.4\n",
            "et-xmlfile                    1.1.0\n",
            "etils                         1.2.0\n",
            "etuples                       0.3.8\n",
            "exceptiongroup                1.1.1\n",
            "fastai                        1.0.58\n",
            "fastcore                      1.5.29\n",
            "fastdownload                  0.0.7\n",
            "fastjsonschema                2.16.3\n",
            "fastprogress                  1.0.3\n",
            "fastrlock                     0.8.1\n",
            "filelock                      3.12.0\n",
            "firebase-admin                5.3.0\n",
            "Flask                         2.2.4\n",
            "flatbuffers                   23.3.3\n",
            "flax                          0.6.9\n",
            "folium                        0.14.0\n",
            "fonttools                     4.39.3\n",
            "frozendict                    2.3.7\n",
            "fsspec                        2023.4.0\n",
            "future                        0.18.3\n",
            "gast                          0.4.0\n",
            "GDAL                          3.3.2\n",
            "gdown                         4.6.6\n",
            "gensim                        4.3.1\n",
            "geographiclib                 2.0\n",
            "geopy                         2.3.0\n",
            "gin-config                    0.5.0\n",
            "glob2                         0.7\n",
            "google                        2.0.3\n",
            "google-api-core               2.11.0\n",
            "google-api-python-client      2.84.0\n",
            "google-auth                   2.17.3\n",
            "google-auth-httplib2          0.1.0\n",
            "google-auth-oauthlib          1.0.0\n",
            "google-cloud-bigquery         3.9.0\n",
            "google-cloud-bigquery-storage 2.19.1\n",
            "google-cloud-core             2.3.2\n",
            "google-cloud-datastore        2.15.1\n",
            "google-cloud-firestore        2.11.0\n",
            "google-cloud-language         2.9.1\n",
            "google-cloud-storage          2.8.0\n",
            "google-cloud-translate        3.11.1\n",
            "google-colab                  1.0.0\n",
            "google-crc32c                 1.5.0\n",
            "google-pasta                  0.2.0\n",
            "google-resumable-media        2.5.0\n",
            "googleapis-common-protos      1.59.0\n",
            "googledrivedownloader         0.4\n",
            "graphviz                      0.20.1\n",
            "greenlet                      2.0.2\n",
            "grpcio                        1.54.0\n",
            "grpcio-status                 1.48.2\n",
            "gspread                       3.4.2\n",
            "gspread-dataframe             3.0.8\n",
            "gym                           0.25.2\n",
            "gym-notices                   0.0.8\n",
            "h5netcdf                      1.1.0\n",
            "h5py                          3.8.0\n",
            "hijri-converter               2.3.1\n",
            "holidays                      0.23\n",
            "holoviews                     1.15.4\n",
            "html5lib                      1.1\n",
            "httpimport                    1.3.0\n",
            "httplib2                      0.21.0\n",
            "humanize                      4.6.0\n",
            "hyperopt                      0.2.7\n",
            "idna                          3.4\n",
            "imageio                       2.25.1\n",
            "imageio-ffmpeg                0.4.8\n",
            "imagesize                     1.4.1\n",
            "imbalanced-learn              0.10.1\n",
            "imgaug                        0.4.0\n",
            "importlib-metadata            6.6.0\n",
            "importlib-resources           5.12.0\n",
            "imutils                       0.5.4\n",
            "inflect                       6.0.4\n",
            "iniconfig                     2.0.0\n",
            "intel-openmp                  2023.1.0\n",
            "ipykernel                     5.5.6\n",
            "ipython                       7.34.0\n",
            "ipython-genutils              0.2.0\n",
            "ipython-sql                   0.4.1\n",
            "ipywidgets                    7.7.1\n",
            "itsdangerous                  2.1.2\n",
            "jax                           0.4.8\n",
            "jaxlib                        0.4.7+cuda11.cudnn86\n",
            "jieba                         0.42.1\n",
            "Jinja2                        3.1.2\n",
            "joblib                        1.2.0\n",
            "jsonpickle                    3.0.1\n",
            "jsonschema                    4.3.3\n",
            "jupyter-client                6.1.12\n",
            "jupyter-console               6.1.0\n",
            "jupyter_core                  5.3.0\n",
            "jupyter-server                1.24.0\n",
            "jupyterlab-pygments           0.2.2\n",
            "jupyterlab-widgets            3.0.7\n",
            "kaggle                        1.5.13\n",
            "keras                         2.12.0\n",
            "keras-vis                     0.4.1\n",
            "kiwisolver                    1.4.4\n",
            "korean-lunar-calendar         0.3.1\n",
            "langcodes                     3.3.0\n",
            "lazy_loader                   0.2\n",
            "libclang                      16.0.0\n",
            "librosa                       0.10.0.post2\n",
            "lightgbm                      3.3.5\n",
            "lit                           16.0.2\n",
            "llvmlite                      0.39.1\n",
            "locket                        1.0.0\n",
            "logical-unification           0.4.5\n",
            "LunarCalendar                 0.0.9\n",
            "lxml                          4.9.2\n",
            "Markdown                      3.4.3\n",
            "markdown-it-py                2.2.0\n",
            "MarkupSafe                    2.1.2\n",
            "matplotlib                    3.7.1\n",
            "matplotlib-inline             0.1.6\n",
            "matplotlib-venn               0.11.9\n",
            "mdurl                         0.1.2\n",
            "miniKanren                    1.0.3\n",
            "missingno                     0.5.2\n",
            "mistune                       0.8.4\n",
            "mizani                        0.8.1\n",
            "mkl                           2019.0\n",
            "ml-dtypes                     0.1.0\n",
            "mlxtend                       0.14.0\n",
            "more-itertools                9.1.0\n",
            "moviepy                       1.0.3\n",
            "mpmath                        1.3.0\n",
            "msgpack                       1.0.5\n",
            "multipledispatch              0.6.0\n",
            "multitasking                  0.0.11\n",
            "murmurhash                    1.0.9\n",
            "music21                       8.1.0\n",
            "natsort                       8.3.1\n",
            "nbclient                      0.7.4\n",
            "nbconvert                     6.5.4\n",
            "nbformat                      5.8.0\n",
            "nest-asyncio                  1.5.6\n",
            "networkx                      3.1\n",
            "nibabel                       3.0.2\n",
            "nltk                          3.8.1\n",
            "notebook                      6.4.8\n",
            "numba                         0.56.4\n",
            "numexpr                       2.8.4\n",
            "numpy                         1.22.4\n",
            "nvidia-ml-py3                 7.352.0\n",
            "oauth2client                  4.1.3\n",
            "oauthlib                      3.2.2\n",
            "opencv-contrib-python         4.7.0.72\n",
            "opencv-python                 4.7.0.72\n",
            "opencv-python-headless        4.7.0.72\n",
            "openpyxl                      3.0.10\n",
            "opt-einsum                    3.3.0\n",
            "optax                         0.1.5\n",
            "orbax-checkpoint              0.2.1\n",
            "osqp                          0.6.2.post8\n",
            "packaging                     23.1\n",
            "palettable                    3.3.3\n",
            "pandas                        1.5.3\n",
            "pandas-datareader             0.10.0\n",
            "pandas-gbq                    0.17.9\n",
            "pandocfilters                 1.5.0\n",
            "panel                         0.14.4\n",
            "param                         1.13.0\n",
            "parso                         0.8.3\n",
            "partd                         1.4.0\n",
            "pathlib                       1.0.1\n",
            "pathy                         0.10.1\n",
            "patsy                         0.5.3\n",
            "pep517                        0.13.0\n",
            "pexpect                       4.8.0\n",
            "pickleshare                   0.7.5\n",
            "Pillow                        8.4.0\n",
            "pip                           23.0.1\n",
            "pip-tools                     6.6.2\n",
            "platformdirs                  3.3.0\n",
            "plotly                        5.13.1\n",
            "plotnine                      0.10.1\n",
            "pluggy                        1.0.0\n",
            "polars                        0.17.3\n",
            "pooch                         1.6.0\n",
            "portpicker                    1.3.9\n",
            "prefetch-generator            1.0.3\n",
            "preshed                       3.0.8\n",
            "prettytable                   0.7.2\n",
            "proglog                       0.1.10\n",
            "progressbar2                  4.2.0\n",
            "prometheus-client             0.16.0\n",
            "promise                       2.3\n",
            "prompt-toolkit                3.0.38\n",
            "prophet                       1.1.2\n",
            "proto-plus                    1.22.2\n",
            "protobuf                      3.20.3\n",
            "psutil                        5.9.5\n",
            "psycopg2                      2.9.6\n",
            "ptyprocess                    0.7.0\n",
            "py-cpuinfo                    9.0.0\n",
            "py4j                          0.10.9.7\n",
            "pyarrow                       9.0.0\n",
            "pyasn1                        0.5.0\n",
            "pyasn1-modules                0.3.0\n",
            "pycocotools                   2.0.6\n",
            "pycparser                     2.21\n",
            "pyct                          0.5.0\n",
            "pydantic                      1.10.7\n",
            "pydata-google-auth            1.7.0\n",
            "pydot                         1.4.2\n",
            "pydot-ng                      2.0.0\n",
            "pydotplus                     2.0.2\n",
            "PyDrive                       1.3.1\n",
            "pyerfa                        2.0.0.3\n",
            "pygame                        2.3.0\n",
            "Pygments                      2.14.0\n",
            "PyGObject                     3.36.0\n",
            "pymc                          5.1.2\n",
            "PyMeeus                       0.5.12\n",
            "pymystem3                     0.2.0\n",
            "PyOpenGL                      3.1.6\n",
            "pyparsing                     3.0.9\n",
            "pyrsistent                    0.19.3\n",
            "PySocks                       1.7.1\n",
            "pytensor                      2.10.1\n",
            "pytest                        7.2.2\n",
            "python-apt                    0.0.0\n",
            "python-dateutil               2.8.2\n",
            "python-louvain                0.16\n",
            "python-slugify                8.0.1\n",
            "python-utils                  3.5.2\n",
            "pytz                          2022.7.1\n",
            "pytz-deprecation-shim         0.1.0.post0\n",
            "pyviz-comms                   2.2.1\n",
            "PyWavelets                    1.4.1\n",
            "PyYAML                        6.0\n",
            "pyzmq                         23.2.1\n",
            "qdldl                         0.1.7\n",
            "qudida                        0.0.4\n",
            "regex                         2022.10.31\n",
            "requests                      2.27.1\n",
            "requests-oauthlib             1.3.1\n",
            "requests-unixsocket           0.2.0\n",
            "rich                          13.3.4\n",
            "rpy2                          3.5.5\n",
            "rsa                           4.9\n",
            "scikit-image                  0.19.3\n",
            "scikit-learn                  1.2.2\n",
            "scipy                         1.10.1\n",
            "scs                           3.2.3\n",
            "seaborn                       0.12.2\n",
            "Send2Trash                    1.8.0\n",
            "setuptools                    67.7.2\n",
            "shapely                       2.0.1\n",
            "six                           1.16.0\n",
            "sklearn-pandas                2.2.0\n",
            "smart-open                    6.3.0\n",
            "sniffio                       1.3.0\n",
            "snowballstemmer               2.2.0\n",
            "sortedcontainers              2.4.0\n",
            "soundfile                     0.12.1\n",
            "soupsieve                     2.4.1\n",
            "soxr                          0.3.5\n",
            "spacy                         3.5.2\n",
            "spacy-legacy                  3.0.12\n",
            "spacy-loggers                 1.0.4\n",
            "Sphinx                        3.5.4\n",
            "sphinxcontrib-applehelp       1.0.4\n",
            "sphinxcontrib-devhelp         1.0.2\n",
            "sphinxcontrib-htmlhelp        2.0.1\n",
            "sphinxcontrib-jsmath          1.0.1\n",
            "sphinxcontrib-qthelp          1.0.3\n",
            "sphinxcontrib-serializinghtml 1.1.5\n",
            "SQLAlchemy                    2.0.10\n",
            "sqlparse                      0.4.4\n",
            "srsly                         2.4.6\n",
            "statsmodels                   0.13.5\n",
            "sympy                         1.11.1\n",
            "tables                        3.8.0\n",
            "tabulate                      0.8.10\n",
            "tblib                         1.7.0\n",
            "tenacity                      8.2.2\n",
            "tensorboard                   2.12.2\n",
            "tensorboard-data-server       0.7.0\n",
            "tensorboard-plugin-wit        1.8.1\n",
            "tensorflow                    2.12.0\n",
            "tensorflow-datasets           4.8.3\n",
            "tensorflow-estimator          2.12.0\n",
            "tensorflow-gcs-config         2.12.0\n",
            "tensorflow-hub                0.13.0\n",
            "tensorflow-io-gcs-filesystem  0.32.0\n",
            "tensorflow-metadata           1.13.1\n",
            "tensorflow-probability        0.19.0\n",
            "tensorstore                   0.1.36\n",
            "termcolor                     2.3.0\n",
            "terminado                     0.17.1\n",
            "text-unidecode                1.3\n",
            "textblob                      0.17.1\n",
            "tf-slim                       1.1.0\n",
            "thinc                         8.1.9\n",
            "threadpoolctl                 3.1.0\n",
            "tifffile                      2023.4.12\n",
            "tinycss2                      1.2.1\n",
            "toml                          0.10.2\n",
            "tomli                         2.0.1\n",
            "toolz                         0.12.0\n",
            "torch                         2.0.0+cu118\n",
            "torchaudio                    2.0.1+cu118\n",
            "torchdata                     0.6.0\n",
            "torchsummary                  1.5.1\n",
            "torchtext                     0.15.1\n",
            "torchvision                   0.15.1+cu118\n",
            "tornado                       6.2\n",
            "tqdm                          4.65.0\n",
            "traitlets                     5.7.1\n",
            "triton                        2.0.0\n",
            "tweepy                        4.13.0\n",
            "typer                         0.7.0\n",
            "typing_extensions             4.5.0\n",
            "tzdata                        2023.3\n",
            "tzlocal                       4.3\n",
            "uritemplate                   4.1.1\n",
            "urllib3                       1.26.15\n",
            "vega-datasets                 0.9.0\n",
            "wasabi                        1.1.1\n",
            "wcwidth                       0.2.6\n",
            "webcolors                     1.13\n",
            "webencodings                  0.5.1\n",
            "websocket-client              1.5.1\n",
            "Werkzeug                      2.3.0\n",
            "wheel                         0.40.0\n",
            "widgetsnbextension            3.6.4\n",
            "wordcloud                     1.8.2.2\n",
            "wrapt                         1.14.1\n",
            "xarray                        2022.12.0\n",
            "xarray-einstats               0.5.1\n",
            "xgboost                       1.7.5\n",
            "xlrd                          2.0.1\n",
            "yellowbrick                   1.5\n",
            "yfinance                      0.2.18\n",
            "zict                          3.0.0\n",
            "zipp                          3.15.0\n"
          ]
        }
      ]
    },
    {
      "cell_type": "code",
      "source": [
        "# from collections.abc import Iterable"
      ],
      "metadata": {
        "id": "r1JQ8iKXs0Xm"
      },
      "execution_count": 70,
      "outputs": []
    },
    {
      "cell_type": "code",
      "execution_count": 71,
      "metadata": {
        "id": "fnhNo0-wGWY_"
      },
      "outputs": [],
      "source": [
        "from fastai.vision import *\n",
        "from fastai.metrics import *\n",
        "from fastai.callbacks.hooks import *\n",
        "from fastai.utils.mem import *"
      ]
    },
    {
      "cell_type": "code",
      "execution_count": 72,
      "metadata": {
        "id": "HgKL5HjatSad"
      },
      "outputs": [],
      "source": [
        "\n",
        "from datetime import datetime\n",
        "from time import time\n",
        "\n",
        "# import numpy as np # linear algebra\n",
        "# import pandas as pd # data processing, CSV file I/O (e.g. pd.read_csv)\n",
        "\n",
        "from tqdm import tqdm\n",
        "\n",
        "import matplotlib\n",
        "import matplotlib.pyplot as plt\n",
        "from matplotlib.lines import Line2D\n",
        "\n",
        "# import warnings\n",
        "\n",
        "import fastai\n",
        "# from fastai.vision import *\n",
        "from fastai.callbacks import *\n",
        "# from fastai.callbacks.hooks import *\n",
        "# from fastai.utils.mem import *"
      ]
    },
    {
      "cell_type": "code",
      "execution_count": 73,
      "metadata": {
        "colab": {
          "base_uri": "https://localhost:8080/"
        },
        "id": "FYGK2-74tkvn",
        "outputId": "4fc4bc73-c838-4310-b217-2a481c8d9911"
      },
      "outputs": [
        {
          "output_type": "stream",
          "name": "stdout",
          "text": [
            "\n",
            "\n",
            "```text\n",
            "=== Software === \n",
            "python        : 3.10.11\n",
            "fastai        : 1.0.58\n",
            "fastprogress  : 1.0.3\n",
            "torch         : 2.0.0+cu118\n",
            "nvidia driver : 525.85\n",
            "torch cuda    : 11.8 / is available\n",
            "torch cudnn   : 8700 / is enabled\n",
            "\n",
            "=== Hardware === \n",
            "nvidia gpus   : 1\n",
            "torch devices : 1\n",
            "  - gpu0      : 15360MB | Tesla T4\n",
            "\n",
            "=== Environment === \n",
            "platform      : Linux-5.10.147+-x86_64-with-glibc2.31\n",
            "distro        : #1 SMP Sat Dec 10 16:00:40 UTC 2022\n",
            "conda env     : Unknown\n",
            "python        : /usr/bin/python3\n",
            "sys.path      : /content\n",
            "/env/python\n",
            "/usr/lib/python310.zip\n",
            "/usr/lib/python3.10\n",
            "/usr/lib/python3.10/lib-dynload\n",
            "\n",
            "/usr/local/lib/python3.10/dist-packages\n",
            "/usr/lib/python3/dist-packages\n",
            "/usr/local/lib/python3.10/dist-packages/IPython/extensions\n",
            "/root/.ipython\n",
            "```\n",
            "\n",
            "Please make sure to include opening/closing ``` when you paste into forums/github to make the reports appear formatted as code sections.\n",
            "\n",
            "Optional package(s) to enhance the diagnostics can be installed with:\n",
            "pip install distro\n",
            "Once installed, re-run this utility to get the additional information\n"
          ]
        }
      ],
      "source": [
        "from fastai.utils.show_install import show_install; show_install()"
      ]
    },
    {
      "cell_type": "markdown",
      "metadata": {
        "id": "mV-3osIVGWZA"
      },
      "source": [
        "# Dataset"
      ]
    },
    {
      "cell_type": "code",
      "execution_count": 74,
      "metadata": {
        "id": "ZEvggolFoRbH"
      },
      "outputs": [],
      "source": [
        "def checkpath(path):\n",
        "    if not os.path.exists(path):\n",
        "        os.makedirs(path)"
      ]
    },
    {
      "cell_type": "code",
      "execution_count": 75,
      "metadata": {
        "id": "Mk9yJ8_JRapL"
      },
      "outputs": [],
      "source": [
        "# model\n",
        "\n",
        "mVersion = 'M6.0.0'\n",
        "\n",
        "root_folder = os.path.abspath(os.path.join(ROOT_PATH, mVersion))\n",
        "\n",
        "model_DIR = os.path.abspath(os.path.join(root_folder, 'model'))\n",
        "checkpath(model_DIR)"
      ]
    },
    {
      "cell_type": "code",
      "execution_count": 76,
      "metadata": {
        "id": "aHNV9CYSn5NF"
      },
      "outputs": [],
      "source": [
        "# dataset\n",
        "\n",
        "# dVersion = 'C2.9.3'\n",
        "\n",
        "root_folder = os.path.abspath(os.path.join(ROOT_PATH, 'forstartdata'))\n",
        "\n",
        "classescsv_path = os.path.join(root_folder, 'classes.csv')\n",
        "# classescsv_path = os.path.join(root_folder, 'classes_all_classes.csv')"
      ]
    },
    {
      "cell_type": "code",
      "execution_count": 77,
      "metadata": {
        "id": "t8BMCWM_GWZF"
      },
      "outputs": [],
      "source": [
        "size = 540\n",
        "bs = 8"
      ]
    },
    {
      "cell_type": "markdown",
      "metadata": {
        "id": "GCAZFrjkGWZG"
      },
      "source": [
        "The classes are stored in a csv so taking a look at it:"
      ]
    },
    {
      "cell_type": "code",
      "execution_count": 78,
      "metadata": {
        "id": "iIuyZDZkGWZG",
        "colab": {
          "base_uri": "https://localhost:8080/",
          "height": 175
        },
        "outputId": "79c76543-6321-42d7-9f51-21b1121dc939"
      },
      "outputs": [
        {
          "output_type": "execute_result",
          "data": {
            "text/plain": [
              "   _id        _class         _name\n",
              "0    0        ground        ground\n",
              "1    1  frontglottis  frontglottis\n",
              "2    2       vfright       vfright\n",
              "3    3        vfleft        vfleft"
            ],
            "text/html": [
              "\n",
              "  <div id=\"df-954926b5-9450-4288-8897-c00a3a02fe04\">\n",
              "    <div class=\"colab-df-container\">\n",
              "      <div>\n",
              "<style scoped>\n",
              "    .dataframe tbody tr th:only-of-type {\n",
              "        vertical-align: middle;\n",
              "    }\n",
              "\n",
              "    .dataframe tbody tr th {\n",
              "        vertical-align: top;\n",
              "    }\n",
              "\n",
              "    .dataframe thead th {\n",
              "        text-align: right;\n",
              "    }\n",
              "</style>\n",
              "<table border=\"1\" class=\"dataframe\">\n",
              "  <thead>\n",
              "    <tr style=\"text-align: right;\">\n",
              "      <th></th>\n",
              "      <th>_id</th>\n",
              "      <th>_class</th>\n",
              "      <th>_name</th>\n",
              "    </tr>\n",
              "  </thead>\n",
              "  <tbody>\n",
              "    <tr>\n",
              "      <th>0</th>\n",
              "      <td>0</td>\n",
              "      <td>ground</td>\n",
              "      <td>ground</td>\n",
              "    </tr>\n",
              "    <tr>\n",
              "      <th>1</th>\n",
              "      <td>1</td>\n",
              "      <td>frontglottis</td>\n",
              "      <td>frontglottis</td>\n",
              "    </tr>\n",
              "    <tr>\n",
              "      <th>2</th>\n",
              "      <td>2</td>\n",
              "      <td>vfright</td>\n",
              "      <td>vfright</td>\n",
              "    </tr>\n",
              "    <tr>\n",
              "      <th>3</th>\n",
              "      <td>3</td>\n",
              "      <td>vfleft</td>\n",
              "      <td>vfleft</td>\n",
              "    </tr>\n",
              "  </tbody>\n",
              "</table>\n",
              "</div>\n",
              "      <button class=\"colab-df-convert\" onclick=\"convertToInteractive('df-954926b5-9450-4288-8897-c00a3a02fe04')\"\n",
              "              title=\"Convert this dataframe to an interactive table.\"\n",
              "              style=\"display:none;\">\n",
              "        \n",
              "  <svg xmlns=\"http://www.w3.org/2000/svg\" height=\"24px\"viewBox=\"0 0 24 24\"\n",
              "       width=\"24px\">\n",
              "    <path d=\"M0 0h24v24H0V0z\" fill=\"none\"/>\n",
              "    <path d=\"M18.56 5.44l.94 2.06.94-2.06 2.06-.94-2.06-.94-.94-2.06-.94 2.06-2.06.94zm-11 1L8.5 8.5l.94-2.06 2.06-.94-2.06-.94L8.5 2.5l-.94 2.06-2.06.94zm10 10l.94 2.06.94-2.06 2.06-.94-2.06-.94-.94-2.06-.94 2.06-2.06.94z\"/><path d=\"M17.41 7.96l-1.37-1.37c-.4-.4-.92-.59-1.43-.59-.52 0-1.04.2-1.43.59L10.3 9.45l-7.72 7.72c-.78.78-.78 2.05 0 2.83L4 21.41c.39.39.9.59 1.41.59.51 0 1.02-.2 1.41-.59l7.78-7.78 2.81-2.81c.8-.78.8-2.07 0-2.86zM5.41 20L4 18.59l7.72-7.72 1.47 1.35L5.41 20z\"/>\n",
              "  </svg>\n",
              "      </button>\n",
              "      \n",
              "  <style>\n",
              "    .colab-df-container {\n",
              "      display:flex;\n",
              "      flex-wrap:wrap;\n",
              "      gap: 12px;\n",
              "    }\n",
              "\n",
              "    .colab-df-convert {\n",
              "      background-color: #E8F0FE;\n",
              "      border: none;\n",
              "      border-radius: 50%;\n",
              "      cursor: pointer;\n",
              "      display: none;\n",
              "      fill: #1967D2;\n",
              "      height: 32px;\n",
              "      padding: 0 0 0 0;\n",
              "      width: 32px;\n",
              "    }\n",
              "\n",
              "    .colab-df-convert:hover {\n",
              "      background-color: #E2EBFA;\n",
              "      box-shadow: 0px 1px 2px rgba(60, 64, 67, 0.3), 0px 1px 3px 1px rgba(60, 64, 67, 0.15);\n",
              "      fill: #174EA6;\n",
              "    }\n",
              "\n",
              "    [theme=dark] .colab-df-convert {\n",
              "      background-color: #3B4455;\n",
              "      fill: #D2E3FC;\n",
              "    }\n",
              "\n",
              "    [theme=dark] .colab-df-convert:hover {\n",
              "      background-color: #434B5C;\n",
              "      box-shadow: 0px 1px 3px 1px rgba(0, 0, 0, 0.15);\n",
              "      filter: drop-shadow(0px 1px 2px rgba(0, 0, 0, 0.3));\n",
              "      fill: #FFFFFF;\n",
              "    }\n",
              "  </style>\n",
              "\n",
              "      <script>\n",
              "        const buttonEl =\n",
              "          document.querySelector('#df-954926b5-9450-4288-8897-c00a3a02fe04 button.colab-df-convert');\n",
              "        buttonEl.style.display =\n",
              "          google.colab.kernel.accessAllowed ? 'block' : 'none';\n",
              "\n",
              "        async function convertToInteractive(key) {\n",
              "          const element = document.querySelector('#df-954926b5-9450-4288-8897-c00a3a02fe04');\n",
              "          const dataTable =\n",
              "            await google.colab.kernel.invokeFunction('convertToInteractive',\n",
              "                                                     [key], {});\n",
              "          if (!dataTable) return;\n",
              "\n",
              "          const docLinkHtml = 'Like what you see? Visit the ' +\n",
              "            '<a target=\"_blank\" href=https://colab.research.google.com/notebooks/data_table.ipynb>data table notebook</a>'\n",
              "            + ' to learn more about interactive tables.';\n",
              "          element.innerHTML = '';\n",
              "          dataTable['output_type'] = 'display_data';\n",
              "          await google.colab.output.renderOutput(dataTable, element);\n",
              "          const docLink = document.createElement('div');\n",
              "          docLink.innerHTML = docLinkHtml;\n",
              "          element.appendChild(docLink);\n",
              "        }\n",
              "      </script>\n",
              "    </div>\n",
              "  </div>\n",
              "  "
            ]
          },
          "metadata": {},
          "execution_count": 78
        }
      ],
      "source": [
        "classescsv = pd.read_csv(classescsv_path)\n",
        "\n",
        "classescsv.head()"
      ]
    },
    {
      "cell_type": "markdown",
      "metadata": {
        "id": "RyhVQT5PGWZH"
      },
      "source": [
        "I will now seperate out the _class since it contains the classes and turn it into a list:"
      ]
    },
    {
      "cell_type": "code",
      "execution_count": 79,
      "metadata": {
        "id": "WL0zK3aXGWZH"
      },
      "outputs": [],
      "source": [
        "# classes = list(classescsv['_class'])\n",
        "# classes"
      ]
    },
    {
      "cell_type": "markdown",
      "metadata": {
        "id": "MZ4xwLDQGWZH"
      },
      "source": [
        "Finally defining the data our model will run on:"
      ]
    },
    {
      "cell_type": "code",
      "execution_count": 80,
      "metadata": {
        "id": "UKBfBZc8dW9U"
      },
      "outputs": [],
      "source": [
        "# trainpath = os.path.join(root_folder, 'train_for_base_imgs/')\n",
        "# trainpath_rgb = os.path.join(root_folder, 'train_for_base_imgs_rgb/')\n",
        "# trainlabel = os.path.join(root_folder, 'train_for_base_mask/')\n",
        "\n",
        "# trainpath_ = os.path.join(root_folder, 'train_for_step_imgs/')\n",
        "# trainpath_rgb_ = os.path.join(root_folder, 'train_for_step_imgs_rgb/')\n",
        "# trainlabel_ = os.path.join(root_folder, 'train_for_step_mask/')\n",
        "\n",
        "# validpath = os.path.join(root_folder, 'valid_imgs/')\n",
        "# validpath_rgb = os.path.join(root_folder, 'valid_imgs_rgb/')\n",
        "# validlabel = os.path.join(root_folder, 'valid_mask/')\n",
        "\n",
        "# testpath = os.path.join(root_folder, 'test_imgs/')\n",
        "# testpath_rgb = os.path.join(root_folder, 'test_imgs_rgb/')\n",
        "# testlabel = os.path.join(root_folder, 'test_mask/')"
      ]
    },
    {
      "cell_type": "code",
      "execution_count": 81,
      "metadata": {
        "id": "FFYEtOEunS-j"
      },
      "outputs": [],
      "source": [
        "def transform(self, tfms:Optional[Tuple[TfmList,TfmList]]=(None,None), **kwargs):\n",
        "    if not tfms: tfms=(None,None)\n",
        "    assert is_listy(tfms) and len(tfms) == 2\n",
        "    self.train.transform(tfms[0], **kwargs)\n",
        "    self.valid.transform(tfms[1], **kwargs)\n",
        "    kwargs['tfm_y'] = False # Test data has no labels\n",
        "    if self.test: self.test.transform(tfms[1], **kwargs)\n",
        "    return self\n",
        "\n",
        "fastai.data_block.ItemLists.transform = transform"
      ]
    },
    {
      "cell_type": "code",
      "execution_count": 82,
      "metadata": {
        "id": "2J0ZF8FHupSV"
      },
      "outputs": [],
      "source": [
        "def get_mask(imgs_name):\n",
        "  if str(imgs_name).split('/')[-2] == 'train_for_base_imgs' :\n",
        "    return trainlabel\n",
        "  else:\n",
        "    return validlabel"
      ]
    },
    {
      "cell_type": "code",
      "execution_count": 83,
      "metadata": {
        "id": "-7VmqHtIw9O_"
      },
      "outputs": [],
      "source": [
        "# get_z = lambda x: get_mask(x) + (x.stem.replace(x.stem.split('_B')[-1], 'RRR')).replace('BRRR', 'C4.png')\n",
        "# # get_z = lambda x: get_mask(x) + (x.stem.replace(x.stem.split('_B')[-1], 'RRR')).replace('BRRR', 'C12.png')"
      ]
    },
    {
      "cell_type": "code",
      "source": [
        "# NEW_DATA_PATH = os.path.join(ROOT_PATH, 'data')\n",
        "\n",
        "# new_train_for_base_mask_DIR = os.path.join(NEW_DATA_PATH, 'train_for_base_mask')\n",
        "# new_train_for_base_jpgs_DIR = os.path.join(NEW_DATA_PATH, 'train_for_base_imgs')\n",
        "# new_train_for_base_jpgs_rgb_DIR = os.path.join(NEW_DATA_PATH, 'train_for_base_imgs_rgb')\n",
        "\n",
        "# new_train_for_step_mask_DIR = os.path.join(NEW_DATA_PATH, 'train_for_step_mask')\n",
        "# new_train_for_step_jpgs_DIR = os.path.join(NEW_DATA_PATH, 'train_for_step_imgs')\n",
        "# new_train_for_step_jpgs_rgb_DIR = os.path.join(NEW_DATA_PATH, 'train_for_step_imgs_rgb')\n",
        "\n",
        "# new_valid_mask_DIR = os.path.join(NEW_DATA_PATH, 'valid_mask')\n",
        "# new_valid_jpgs_DIR = os.path.join(NEW_DATA_PATH, 'valid_imgs')\n",
        "# new_valid_jpgs_rgb_DIR = os.path.join(NEW_DATA_PATH, 'valid_imgs_rgb')\n",
        "\n",
        "# new_test_mask_DIR = os.path.join(NEW_DATA_PATH, 'test_mask')\n",
        "# new_test_jpgs_DIR = os.path.join(NEW_DATA_PATH, 'test_imgs')\n",
        "# new_test_jpgs_rgb_DIR = os.path.join(NEW_DATA_PATH, 'test_imgs_rgb')\n",
        "\n",
        "# checkpath(new_train_for_base_mask_DIR)\n",
        "# checkpath(new_train_for_base_jpgs_DIR)\n",
        "# checkpath(new_train_for_base_jpgs_rgb_DIR)\n",
        "\n",
        "# checkpath(new_train_for_step_mask_DIR)  \n",
        "# checkpath(new_train_for_step_jpgs_DIR)\n",
        "# checkpath(new_train_for_step_jpgs_rgb_DIR)\n",
        "\n",
        "# checkpath(new_valid_mask_DIR)\n",
        "# checkpath(new_valid_jpgs_DIR)\n",
        "# checkpath(new_valid_jpgs_rgb_DIR)\n",
        "\n",
        "# checkpath(new_test_mask_DIR)\n",
        "# checkpath(new_test_jpgs_DIR)\n",
        "# checkpath(new_test_jpgs_rgb_DIR)"
      ],
      "metadata": {
        "id": "sgM9n-1QyT0z"
      },
      "execution_count": 84,
      "outputs": []
    },
    {
      "cell_type": "code",
      "execution_count": 92,
      "metadata": {
        "id": "4dqVK4BXTBW6",
        "colab": {
          "base_uri": "https://localhost:8080/",
          "height": 432
        },
        "outputId": "88d4517a-6c07-46bf-86fd-00f5e3581972"
      },
      "outputs": [
        {
          "output_type": "error",
          "ename": "AttributeError",
          "evalue": "ignored",
          "traceback": [
            "\u001b[0;31m---------------------------------------------------------------------------\u001b[0m",
            "\u001b[0;31mAttributeError\u001b[0m                            Traceback (most recent call last)",
            "\u001b[0;32m<ipython-input-92-ef37d6f551c0>\u001b[0m in \u001b[0;36m<cell line: 1>\u001b[0;34m()\u001b[0m\n\u001b[0;32m----> 1\u001b[0;31m data = (SegmentationItemList.from_folder(root_folder)\n\u001b[0m\u001b[1;32m      2\u001b[0m         \u001b[0;31m# .split_by_folder(train='train_for_base_imgs', valid='valid_imgs')\u001b[0m\u001b[0;34m\u001b[0m\u001b[0;34m\u001b[0m\u001b[0m\n\u001b[1;32m      3\u001b[0m         \u001b[0;31m# .split_by_rand_pct(.2)\u001b[0m\u001b[0;34m\u001b[0m\u001b[0;34m\u001b[0m\u001b[0m\n\u001b[1;32m      4\u001b[0m         \u001b[0;34m.\u001b[0m\u001b[0mlabel_from_func\u001b[0m\u001b[0;34m(\u001b[0m\u001b[0mget_z\u001b[0m\u001b[0;34m,\u001b[0m \u001b[0mclasses\u001b[0m\u001b[0;34m=\u001b[0m\u001b[0mclasses\u001b[0m\u001b[0;34m)\u001b[0m\u001b[0;34m\u001b[0m\u001b[0;34m\u001b[0m\u001b[0m\n\u001b[1;32m      5\u001b[0m         \u001b[0;31m# .transform(get_transforms(), size=size, tfm_y=True)\u001b[0m\u001b[0;34m\u001b[0m\u001b[0;34m\u001b[0m\u001b[0m\n",
            "\u001b[0;32m/usr/local/lib/python3.10/dist-packages/fastai/vision/data.py\u001b[0m in \u001b[0;36mfrom_folder\u001b[0;34m(cls, path, extensions, **kwargs)\u001b[0m\n\u001b[1;32m    277\u001b[0m         \u001b[0;34m\"Get the list of files in `path` that have an image suffix. `recurse` determines if we search subfolders.\"\u001b[0m\u001b[0;34m\u001b[0m\u001b[0;34m\u001b[0m\u001b[0m\n\u001b[1;32m    278\u001b[0m         \u001b[0mextensions\u001b[0m \u001b[0;34m=\u001b[0m \u001b[0mifnone\u001b[0m\u001b[0;34m(\u001b[0m\u001b[0mextensions\u001b[0m\u001b[0;34m,\u001b[0m \u001b[0mimage_extensions\u001b[0m\u001b[0;34m)\u001b[0m\u001b[0;34m\u001b[0m\u001b[0;34m\u001b[0m\u001b[0m\n\u001b[0;32m--> 279\u001b[0;31m         \u001b[0;32mreturn\u001b[0m \u001b[0msuper\u001b[0m\u001b[0;34m(\u001b[0m\u001b[0;34m)\u001b[0m\u001b[0;34m.\u001b[0m\u001b[0mfrom_folder\u001b[0m\u001b[0;34m(\u001b[0m\u001b[0mpath\u001b[0m\u001b[0;34m=\u001b[0m\u001b[0mpath\u001b[0m\u001b[0;34m,\u001b[0m \u001b[0mextensions\u001b[0m\u001b[0;34m=\u001b[0m\u001b[0mextensions\u001b[0m\u001b[0;34m,\u001b[0m \u001b[0;34m**\u001b[0m\u001b[0mkwargs\u001b[0m\u001b[0;34m)\u001b[0m\u001b[0;34m\u001b[0m\u001b[0;34m\u001b[0m\u001b[0m\n\u001b[0m\u001b[1;32m    280\u001b[0m \u001b[0;34m\u001b[0m\u001b[0m\n\u001b[1;32m    281\u001b[0m     \u001b[0;34m@\u001b[0m\u001b[0mclassmethod\u001b[0m\u001b[0;34m\u001b[0m\u001b[0;34m\u001b[0m\u001b[0m\n",
            "\u001b[0;32m/usr/local/lib/python3.10/dist-packages/fastai/data_block.py\u001b[0m in \u001b[0;36mfrom_folder\u001b[0;34m(cls, path, extensions, recurse, exclude, include, processor, presort, **kwargs)\u001b[0m\n\u001b[1;32m    127\u001b[0m         `recurse` determines if we search subfolders.\"\"\"\n\u001b[1;32m    128\u001b[0m         \u001b[0mpath\u001b[0m \u001b[0;34m=\u001b[0m \u001b[0mPath\u001b[0m\u001b[0;34m(\u001b[0m\u001b[0mpath\u001b[0m\u001b[0;34m)\u001b[0m\u001b[0;34m\u001b[0m\u001b[0;34m\u001b[0m\u001b[0m\n\u001b[0;32m--> 129\u001b[0;31m         return cls(get_files(path, extensions, recurse=recurse, exclude=exclude, include=include, presort=presort), \n\u001b[0m\u001b[1;32m    130\u001b[0m                    path=path, processor=processor, **kwargs)\n\u001b[1;32m    131\u001b[0m \u001b[0;34m\u001b[0m\u001b[0m\n",
            "\u001b[0;32m/usr/local/lib/python3.10/dist-packages/fastai/vision/data.py\u001b[0m in \u001b[0;36m__init__\u001b[0;34m(self, convert_mode, after_open, *args, **kwargs)\u001b[0m\n\u001b[1;32m    258\u001b[0m     \u001b[0m_bunch\u001b[0m\u001b[0;34m,\u001b[0m\u001b[0m_square_show\u001b[0m\u001b[0;34m,\u001b[0m\u001b[0m_square_show_res\u001b[0m \u001b[0;34m=\u001b[0m \u001b[0mImageDataBunch\u001b[0m\u001b[0;34m,\u001b[0m\u001b[0;32mTrue\u001b[0m\u001b[0;34m,\u001b[0m\u001b[0;32mTrue\u001b[0m\u001b[0;34m\u001b[0m\u001b[0;34m\u001b[0m\u001b[0m\n\u001b[1;32m    259\u001b[0m     \u001b[0;32mdef\u001b[0m \u001b[0m__init__\u001b[0m\u001b[0;34m(\u001b[0m\u001b[0mself\u001b[0m\u001b[0;34m,\u001b[0m \u001b[0;34m*\u001b[0m\u001b[0margs\u001b[0m\u001b[0;34m,\u001b[0m \u001b[0mconvert_mode\u001b[0m\u001b[0;34m=\u001b[0m\u001b[0;34m'RGB'\u001b[0m\u001b[0;34m,\u001b[0m \u001b[0mafter_open\u001b[0m\u001b[0;34m:\u001b[0m\u001b[0mCallable\u001b[0m\u001b[0;34m=\u001b[0m\u001b[0;32mNone\u001b[0m\u001b[0;34m,\u001b[0m \u001b[0;34m**\u001b[0m\u001b[0mkwargs\u001b[0m\u001b[0;34m)\u001b[0m\u001b[0;34m:\u001b[0m\u001b[0;34m\u001b[0m\u001b[0;34m\u001b[0m\u001b[0m\n\u001b[0;32m--> 260\u001b[0;31m         \u001b[0msuper\u001b[0m\u001b[0;34m(\u001b[0m\u001b[0;34m)\u001b[0m\u001b[0;34m.\u001b[0m\u001b[0m__init__\u001b[0m\u001b[0;34m(\u001b[0m\u001b[0;34m*\u001b[0m\u001b[0margs\u001b[0m\u001b[0;34m,\u001b[0m \u001b[0;34m**\u001b[0m\u001b[0mkwargs\u001b[0m\u001b[0;34m)\u001b[0m\u001b[0;34m\u001b[0m\u001b[0;34m\u001b[0m\u001b[0m\n\u001b[0m\u001b[1;32m    261\u001b[0m         \u001b[0mself\u001b[0m\u001b[0;34m.\u001b[0m\u001b[0mconvert_mode\u001b[0m\u001b[0;34m,\u001b[0m\u001b[0mself\u001b[0m\u001b[0;34m.\u001b[0m\u001b[0mafter_open\u001b[0m \u001b[0;34m=\u001b[0m \u001b[0mconvert_mode\u001b[0m\u001b[0;34m,\u001b[0m\u001b[0mafter_open\u001b[0m\u001b[0;34m\u001b[0m\u001b[0;34m\u001b[0m\u001b[0m\n\u001b[1;32m    262\u001b[0m         \u001b[0mself\u001b[0m\u001b[0;34m.\u001b[0m\u001b[0mcopy_new\u001b[0m \u001b[0;34m+=\u001b[0m \u001b[0;34m[\u001b[0m\u001b[0;34m'convert_mode'\u001b[0m\u001b[0;34m,\u001b[0m \u001b[0;34m'after_open'\u001b[0m\u001b[0;34m]\u001b[0m\u001b[0;34m\u001b[0m\u001b[0;34m\u001b[0m\u001b[0m\n",
            "\u001b[0;32m/usr/local/lib/python3.10/dist-packages/fastai/data_block.py\u001b[0m in \u001b[0;36m__init__\u001b[0;34m(self, items, path, label_cls, inner_df, processor, x, ignore_empty)\u001b[0m\n\u001b[1;32m     65\u001b[0m         \u001b[0mself\u001b[0m\u001b[0;34m.\u001b[0m\u001b[0mnum_parts\u001b[0m \u001b[0;34m=\u001b[0m \u001b[0mlen\u001b[0m\u001b[0;34m(\u001b[0m\u001b[0mself\u001b[0m\u001b[0;34m.\u001b[0m\u001b[0mpath\u001b[0m\u001b[0;34m.\u001b[0m\u001b[0mparts\u001b[0m\u001b[0;34m)\u001b[0m\u001b[0;34m\u001b[0m\u001b[0;34m\u001b[0m\u001b[0m\n\u001b[1;32m     66\u001b[0m         \u001b[0mself\u001b[0m\u001b[0;34m.\u001b[0m\u001b[0mitems\u001b[0m\u001b[0;34m,\u001b[0m\u001b[0mself\u001b[0m\u001b[0;34m.\u001b[0m\u001b[0mx\u001b[0m\u001b[0;34m,\u001b[0m\u001b[0mself\u001b[0m\u001b[0;34m.\u001b[0m\u001b[0mignore_empty\u001b[0m \u001b[0;34m=\u001b[0m \u001b[0mitems\u001b[0m\u001b[0;34m,\u001b[0m\u001b[0mx\u001b[0m\u001b[0;34m,\u001b[0m\u001b[0mignore_empty\u001b[0m\u001b[0;34m\u001b[0m\u001b[0;34m\u001b[0m\u001b[0m\n\u001b[0;32m---> 67\u001b[0;31m         \u001b[0;32mif\u001b[0m \u001b[0;32mnot\u001b[0m \u001b[0misinstance\u001b[0m\u001b[0;34m(\u001b[0m\u001b[0mself\u001b[0m\u001b[0;34m.\u001b[0m\u001b[0mitems\u001b[0m\u001b[0;34m,\u001b[0m\u001b[0mnp\u001b[0m\u001b[0;34m.\u001b[0m\u001b[0mndarray\u001b[0m\u001b[0;34m)\u001b[0m\u001b[0;34m:\u001b[0m \u001b[0mself\u001b[0m\u001b[0;34m.\u001b[0m\u001b[0mitems\u001b[0m \u001b[0;34m=\u001b[0m \u001b[0marray\u001b[0m\u001b[0;34m(\u001b[0m\u001b[0mself\u001b[0m\u001b[0;34m.\u001b[0m\u001b[0mitems\u001b[0m\u001b[0;34m,\u001b[0m \u001b[0mdtype\u001b[0m\u001b[0;34m=\u001b[0m\u001b[0mobject\u001b[0m\u001b[0;34m)\u001b[0m\u001b[0;34m\u001b[0m\u001b[0;34m\u001b[0m\u001b[0m\n\u001b[0m\u001b[1;32m     68\u001b[0m         \u001b[0mself\u001b[0m\u001b[0;34m.\u001b[0m\u001b[0mlabel_cls\u001b[0m\u001b[0;34m,\u001b[0m\u001b[0mself\u001b[0m\u001b[0;34m.\u001b[0m\u001b[0minner_df\u001b[0m\u001b[0;34m,\u001b[0m\u001b[0mself\u001b[0m\u001b[0;34m.\u001b[0m\u001b[0mprocessor\u001b[0m \u001b[0;34m=\u001b[0m \u001b[0mifnone\u001b[0m\u001b[0;34m(\u001b[0m\u001b[0mlabel_cls\u001b[0m\u001b[0;34m,\u001b[0m\u001b[0mself\u001b[0m\u001b[0;34m.\u001b[0m\u001b[0m_label_cls\u001b[0m\u001b[0;34m)\u001b[0m\u001b[0;34m,\u001b[0m\u001b[0minner_df\u001b[0m\u001b[0;34m,\u001b[0m\u001b[0mprocessor\u001b[0m\u001b[0;34m\u001b[0m\u001b[0;34m\u001b[0m\u001b[0m\n\u001b[1;32m     69\u001b[0m         \u001b[0mself\u001b[0m\u001b[0;34m.\u001b[0m\u001b[0m_label_list\u001b[0m\u001b[0;34m,\u001b[0m\u001b[0mself\u001b[0m\u001b[0;34m.\u001b[0m\u001b[0m_split\u001b[0m \u001b[0;34m=\u001b[0m \u001b[0mLabelList\u001b[0m\u001b[0;34m,\u001b[0m\u001b[0mItemLists\u001b[0m\u001b[0;34m\u001b[0m\u001b[0;34m\u001b[0m\u001b[0m\n",
            "\u001b[0;32m/usr/local/lib/python3.10/dist-packages/fastai/core.py\u001b[0m in \u001b[0;36marray\u001b[0;34m(a, dtype, **kwargs)\u001b[0m\n\u001b[1;32m    293\u001b[0m \u001b[0;32mdef\u001b[0m \u001b[0marray\u001b[0m\u001b[0;34m(\u001b[0m\u001b[0ma\u001b[0m\u001b[0;34m,\u001b[0m \u001b[0mdtype\u001b[0m\u001b[0;34m:\u001b[0m\u001b[0mtype\u001b[0m\u001b[0;34m=\u001b[0m\u001b[0;32mNone\u001b[0m\u001b[0;34m,\u001b[0m \u001b[0;34m**\u001b[0m\u001b[0mkwargs\u001b[0m\u001b[0;34m)\u001b[0m\u001b[0;34m->\u001b[0m\u001b[0mnp\u001b[0m\u001b[0;34m.\u001b[0m\u001b[0mndarray\u001b[0m\u001b[0;34m:\u001b[0m\u001b[0;34m\u001b[0m\u001b[0;34m\u001b[0m\u001b[0m\n\u001b[1;32m    294\u001b[0m     \u001b[0;34m\"Same as `np.array` but also handles generators. `kwargs` are passed to `np.array` with `dtype`.\"\u001b[0m\u001b[0;34m\u001b[0m\u001b[0;34m\u001b[0m\u001b[0m\n\u001b[0;32m--> 295\u001b[0;31m     \u001b[0;32mif\u001b[0m \u001b[0;32mnot\u001b[0m \u001b[0misinstance\u001b[0m\u001b[0;34m(\u001b[0m\u001b[0ma\u001b[0m\u001b[0;34m,\u001b[0m \u001b[0mcollections\u001b[0m\u001b[0;34m.\u001b[0m\u001b[0mSized\u001b[0m\u001b[0;34m)\u001b[0m \u001b[0;32mand\u001b[0m \u001b[0;32mnot\u001b[0m \u001b[0mgetattr\u001b[0m\u001b[0;34m(\u001b[0m\u001b[0ma\u001b[0m\u001b[0;34m,\u001b[0m\u001b[0;34m'__array_interface__'\u001b[0m\u001b[0;34m,\u001b[0m\u001b[0;32mFalse\u001b[0m\u001b[0;34m)\u001b[0m\u001b[0;34m:\u001b[0m\u001b[0;34m\u001b[0m\u001b[0;34m\u001b[0m\u001b[0m\n\u001b[0m\u001b[1;32m    296\u001b[0m         \u001b[0ma\u001b[0m \u001b[0;34m=\u001b[0m \u001b[0mlist\u001b[0m\u001b[0;34m(\u001b[0m\u001b[0ma\u001b[0m\u001b[0;34m)\u001b[0m\u001b[0;34m\u001b[0m\u001b[0;34m\u001b[0m\u001b[0m\n\u001b[1;32m    297\u001b[0m     \u001b[0;32mif\u001b[0m \u001b[0mnp\u001b[0m\u001b[0;34m.\u001b[0m\u001b[0mint_\u001b[0m\u001b[0;34m==\u001b[0m\u001b[0mnp\u001b[0m\u001b[0;34m.\u001b[0m\u001b[0mint32\u001b[0m \u001b[0;32mand\u001b[0m \u001b[0mdtype\u001b[0m \u001b[0;32mis\u001b[0m \u001b[0;32mNone\u001b[0m \u001b[0;32mand\u001b[0m \u001b[0mis_listy\u001b[0m\u001b[0;34m(\u001b[0m\u001b[0ma\u001b[0m\u001b[0;34m)\u001b[0m \u001b[0;32mand\u001b[0m \u001b[0mlen\u001b[0m\u001b[0;34m(\u001b[0m\u001b[0ma\u001b[0m\u001b[0;34m)\u001b[0m \u001b[0;32mand\u001b[0m \u001b[0misinstance\u001b[0m\u001b[0;34m(\u001b[0m\u001b[0ma\u001b[0m\u001b[0;34m[\u001b[0m\u001b[0;36m0\u001b[0m\u001b[0;34m]\u001b[0m\u001b[0;34m,\u001b[0m\u001b[0mint\u001b[0m\u001b[0;34m)\u001b[0m\u001b[0;34m:\u001b[0m\u001b[0;34m\u001b[0m\u001b[0;34m\u001b[0m\u001b[0m\n",
            "\u001b[0;31mAttributeError\u001b[0m: module 'collections' has no attribute 'Sized'"
          ]
        }
      ],
      "source": [
        "data = (SegmentationItemList.from_folder(root_folder)\n",
        "        # .split_by_folder(train='train_for_base_imgs', valid='valid_imgs')\n",
        "        # .split_by_rand_pct(.2)\n",
        "        .label_from_func(get_z, classes=classes)\n",
        "        # .transform(get_transforms(), size=size, tfm_y=True)\n",
        "        .databunch(bs=bs)\n",
        "        # .normalize(imagenet_stats)\n",
        "       )"
      ]
    },
    {
      "cell_type": "code",
      "execution_count": null,
      "metadata": {
        "id": "7uKJU45GjJIW"
      },
      "outputs": [],
      "source": [
        "# data"
      ]
    },
    {
      "cell_type": "markdown",
      "metadata": {
        "id": "HM3MnpvsGWZI"
      },
      "source": [
        "Taking a look at an image with its mask:"
      ]
    },
    {
      "cell_type": "code",
      "execution_count": null,
      "metadata": {
        "id": "vIcrqzyypL8k"
      },
      "outputs": [],
      "source": [
        "# data.show_batch(2, figsize=(6,6))"
      ]
    },
    {
      "cell_type": "markdown",
      "metadata": {
        "id": "egMiUL5lGWZJ"
      },
      "source": [
        "Defining and downloading the UNet:"
      ]
    },
    {
      "cell_type": "markdown",
      "metadata": {
        "id": "IP9sHYl5plW3"
      },
      "source": [
        "# Model"
      ]
    },
    {
      "cell_type": "code",
      "execution_count": null,
      "metadata": {
        "id": "HMiPJOcU3p9C"
      },
      "outputs": [],
      "source": [
        "def cust_accuracy(input:Tensor, targs:Tensor)->Rank0Tensor:\n",
        "    \"Computes accuracy with `targs` when `input` is bs * n_classes.\"\n",
        "    n = targs.shape[0]\n",
        "    input = input.argmax(dim=1).view(n,-1)\n",
        "    targs = targs.view(n,-1)\n",
        "    return (input==targs).float().mean()"
      ]
    },
    {
      "cell_type": "code",
      "execution_count": null,
      "metadata": {
        "id": "EZVPu1Fd1sdn"
      },
      "outputs": [],
      "source": [
        "# Return Jaccard index, or Intersection over Union (IoU) value\n",
        "def IoU(preds:Tensor, targs:Tensor, eps:float=1e-8):\n",
        "    \"\"\"Computes the Jaccard loss, a.k.a the IoU loss.\n",
        "    Notes: [Batch size,Num classes,Height,Width]\n",
        "    Args:\n",
        "        targs: a tensor of shape [B, H, W] or [B, 1, H, W].\n",
        "        preds: a tensor of shape [B, C, H, W]. Corresponds to\n",
        "            the raw output or logits of the model. (prediction)\n",
        "        eps: added to the denominator for numerical stability.\n",
        "    Returns:\n",
        "        iou: the average class intersection over union value \n",
        "             for multi-class image segmentation\n",
        "    \"\"\"\n",
        "    num_classes = preds.shape[1]\n",
        "    \n",
        "    # Single class segmentation?\n",
        "    if num_classes == 1:\n",
        "        true_1_hot = torch.eye(num_classes + 1)[targs.squeeze(1)]\n",
        "        true_1_hot = true_1_hot.permute(0, 3, 1, 2).float()\n",
        "        true_1_hot_f = true_1_hot[:, 0:1, :, :]\n",
        "        true_1_hot_s = true_1_hot[:, 1:2, :, :]\n",
        "        true_1_hot = torch.cat([true_1_hot_s, true_1_hot_f], dim=1)\n",
        "        pos_prob = torch.sigmoid(preds)\n",
        "        neg_prob = 1 - pos_prob\n",
        "        probas = torch.cat([pos_prob, neg_prob], dim=1)\n",
        "        \n",
        "    # Multi-class segmentation\n",
        "    else:\n",
        "        # Convert target to one-hot encoding\n",
        "        # true_1_hot = torch.eye(num_classes)[torch.squeeze(targs,1)]\n",
        "        true_1_hot = torch.eye(num_classes)[targs.squeeze(1)]\n",
        "        \n",
        "        # Permute [B,H,W,C] to [B,C,H,W]\n",
        "        true_1_hot = true_1_hot.permute(0, 3, 1, 2).float()\n",
        "        \n",
        "        # Take softmax along class dimension; all class probs add to 1 (per pixel)\n",
        "        probas = F.softmax(preds, dim=1)\n",
        "        \n",
        "    true_1_hot = true_1_hot.type(preds.type())\n",
        "    \n",
        "    # Sum probabilities by class and across batch images\n",
        "    dims = (0,) + tuple(range(2, targs.ndimension()))\n",
        "    intersection = torch.sum(probas * true_1_hot, dims) # [class0,class1,class2,...]\n",
        "    cardinality = torch.sum(probas + true_1_hot, dims)  # [class0,class1,class2,...]\n",
        "    union = cardinality - intersection\n",
        "    iou = (intersection / (union + eps)).mean()   # find mean of class IoU values\n",
        "    return iou"
      ]
    },
    {
      "cell_type": "code",
      "execution_count": null,
      "metadata": {
        "id": "FltEf6HXcHyd"
      },
      "outputs": [],
      "source": [
        "def dice(input:Tensor, targs:Tensor, eps:float=1e-8)->Rank0Tensor:\n",
        "    input = input.clone()\n",
        "    targs = targs.clone()\n",
        "    n = targs.shape[0]\n",
        "    input = torch.softmax(input, dim=1).argmax(dim=1)\n",
        "    input = input.view(n, -1)\n",
        "    targs = targs.view(n, -1)\n",
        "    input[input == 0] = -999\n",
        "    intersect = (input == targs).sum().float()\n",
        "    union = input[input > 0].sum().float() + targs[targs > 0].sum().float()\n",
        "    del input, targs\n",
        "    gc.collect()\n",
        "    return ((2.0 * intersect + eps) / (union + eps)).mean()"
      ]
    },
    {
      "cell_type": "code",
      "execution_count": null,
      "metadata": {
        "id": "y8aw3nal3Eog"
      },
      "outputs": [],
      "source": [
        "def fmt_now():\n",
        "    return datetime.today().strftime('%Y%m%d-%H%M%S')"
      ]
    },
    {
      "cell_type": "code",
      "execution_count": null,
      "metadata": {
        "id": "YX0tLArXo97v"
      },
      "outputs": [],
      "source": [
        "class FocalLoss(nn.Module):\n",
        "    def __init__(self, gamma):\n",
        "        super().__init__()\n",
        "        self.gamma = gamma\n",
        "        \n",
        "    def forward(self, input, target):\n",
        "        if not (target.size() == input.size()):\n",
        "            raise ValueError(\"Target size ({}) must be the same as input size ({})\"\n",
        "                             .format(target.size(), input.size()))\n",
        "\n",
        "        max_val = (-input).clamp(min=0)\n",
        "        loss = input - input * target + max_val + \\\n",
        "            ((-max_val).exp() + (-input - max_val).exp()).log()\n",
        "\n",
        "        invprobs = F.logsigmoid(-input * (target * 2.0 - 1.0))\n",
        "        loss = (invprobs * self.gamma).exp() * loss\n",
        "        \n",
        "        return loss.mean()"
      ]
    },
    {
      "cell_type": "code",
      "execution_count": null,
      "metadata": {
        "id": "W6SertJ7UXzz"
      },
      "outputs": [],
      "source": [
        "from torch import nn\n",
        "import torch.nn.functional as F\n",
        "\n",
        "class FocalLoss_C(nn.Module):\n",
        "    def __init__(self, alpha=1, gamma=2, logits=False, reduction='elementwise_mean'):\n",
        "        super(FocalLoss, self).__init__()\n",
        "        self.alpha = alpha\n",
        "        self.gamma = gamma\n",
        "        self.logits = logits\n",
        "        self.reduction = reduction\n",
        "\n",
        "    def forward(self, inputs, targets):\n",
        "        if self.logits:\n",
        "            BCE_loss = F.binary_cross_entropy_with_logits(inputs, targets, reduction='none')\n",
        "        else:\n",
        "            BCE_loss = F.binary_cross_entropy(inputs, targets, reduction='none')\n",
        "        pt = torch.exp(-BCE_loss)\n",
        "        F_loss = self.alpha * (1-pt)**self.gamma * BCE_loss\n",
        "\n",
        "        if self.reduction is None:\n",
        "            return F_loss\n",
        "        else:\n",
        "            return torch.mean(F_loss)"
      ]
    },
    {
      "cell_type": "code",
      "execution_count": null,
      "metadata": {
        "id": "q0xSvycvpBHI"
      },
      "outputs": [],
      "source": [
        "class MixedLoss(nn.Module):\n",
        "    def __init__(self, alpha, gamma):\n",
        "        super().__init__()\n",
        "        self.alpha = alpha\n",
        "        self.focal = FocalLoss(gamma)\n",
        "        \n",
        "    def forward(self, input, target):\n",
        "        loss = self.alpha*self.focal(input, target) - torch.log(dice_loss(input, target))\n",
        "        return loss.mean()"
      ]
    },
    {
      "cell_type": "code",
      "execution_count": null,
      "metadata": {
        "id": "Bf1oIBaxpGZI"
      },
      "outputs": [],
      "source": [
        "metrics = [dice, IoU]\n",
        "\n",
        "callback_fns = [\n",
        "    ShowGraph,\n",
        "    # partial(SaveModelCallback, every='epoch', name=f\"{fmt_now()}_unet_resnet34\"),   \n",
        "    # stop training if metric no longer improve\n",
        "    # partial(EarlyStoppingCallback, monitor='IoU', min_delta=0.01, patience=2),\n",
        "]\n",
        "\n",
        "learner = unet_learner(arch = models.resnet34, metrics=metrics, wd=1e-2, callback_fns=callback_fns)\n",
        "learner.model_dir = model_DIR"
      ]
    },
    {
      "cell_type": "code",
      "source": [
        "model_DIR"
      ],
      "metadata": {
        "colab": {
          "base_uri": "https://localhost:8080/",
          "height": 35
        },
        "id": "R-si_OQ1bN_V",
        "outputId": "098a6bfe-3f77-482a-cc88-4f328e27e737"
      },
      "execution_count": 87,
      "outputs": [
        {
          "output_type": "execute_result",
          "data": {
            "text/plain": [
              "'/content/drive/My Drive/09_research_main/lab_04/M6.0.0/model'"
            ],
            "application/vnd.google.colaboratory.intrinsic+json": {
              "type": "string"
            }
          },
          "metadata": {},
          "execution_count": 87
        }
      ]
    },
    {
      "cell_type": "code",
      "source": [
        "# model.pth"
      ],
      "metadata": {
        "id": "4jHElGe_cUNq"
      },
      "execution_count": null,
      "outputs": []
    },
    {
      "cell_type": "code",
      "source": [
        "learner = load_learner(model_DIR + '.pth')"
      ],
      "metadata": {
        "colab": {
          "base_uri": "https://localhost:8080/",
          "height": 345
        },
        "id": "Nzwp6vVKbsu5",
        "outputId": "5de93964-386c-4d27-eca8-79b764819341"
      },
      "execution_count": 91,
      "outputs": [
        {
          "output_type": "error",
          "ename": "NotADirectoryError",
          "evalue": "ignored",
          "traceback": [
            "\u001b[0;31m---------------------------------------------------------------------------\u001b[0m",
            "\u001b[0;31mNotADirectoryError\u001b[0m                        Traceback (most recent call last)",
            "\u001b[0;32m<ipython-input-91-a4200759263e>\u001b[0m in \u001b[0;36m<cell line: 1>\u001b[0;34m()\u001b[0m\n\u001b[0;32m----> 1\u001b[0;31m \u001b[0mlearner\u001b[0m \u001b[0;34m=\u001b[0m \u001b[0mload_learner\u001b[0m\u001b[0;34m(\u001b[0m\u001b[0mmodel_DIR\u001b[0m \u001b[0;34m+\u001b[0m \u001b[0;34m'.pth'\u001b[0m\u001b[0;34m)\u001b[0m\u001b[0;34m\u001b[0m\u001b[0;34m\u001b[0m\u001b[0m\n\u001b[0m",
            "\u001b[0;32m/usr/local/lib/python3.10/dist-packages/fastai/basic_train.py\u001b[0m in \u001b[0;36mload_learner\u001b[0;34m(path, file, test, tfm_y, **db_kwargs)\u001b[0m\n\u001b[1;32m    612\u001b[0m     \u001b[0;34m\"Load a `Learner` object saved with `export_state` in `path/file` with empty data, optionally add `test` and load on `cpu`. `file` can be file-like (file or buffer)\"\u001b[0m\u001b[0;34m\u001b[0m\u001b[0;34m\u001b[0m\u001b[0m\n\u001b[1;32m    613\u001b[0m     \u001b[0msource\u001b[0m \u001b[0;34m=\u001b[0m \u001b[0mPath\u001b[0m\u001b[0;34m(\u001b[0m\u001b[0mpath\u001b[0m\u001b[0;34m)\u001b[0m\u001b[0;34m/\u001b[0m\u001b[0mfile\u001b[0m \u001b[0;32mif\u001b[0m \u001b[0mis_pathlike\u001b[0m\u001b[0;34m(\u001b[0m\u001b[0mfile\u001b[0m\u001b[0;34m)\u001b[0m \u001b[0;32melse\u001b[0m \u001b[0mfile\u001b[0m\u001b[0;34m\u001b[0m\u001b[0;34m\u001b[0m\u001b[0m\n\u001b[0;32m--> 614\u001b[0;31m     \u001b[0mstate\u001b[0m \u001b[0;34m=\u001b[0m \u001b[0mtorch\u001b[0m\u001b[0;34m.\u001b[0m\u001b[0mload\u001b[0m\u001b[0;34m(\u001b[0m\u001b[0msource\u001b[0m\u001b[0;34m,\u001b[0m \u001b[0mmap_location\u001b[0m\u001b[0;34m=\u001b[0m\u001b[0;34m'cpu'\u001b[0m\u001b[0;34m)\u001b[0m \u001b[0;32mif\u001b[0m \u001b[0mdefaults\u001b[0m\u001b[0;34m.\u001b[0m\u001b[0mdevice\u001b[0m \u001b[0;34m==\u001b[0m \u001b[0mtorch\u001b[0m\u001b[0;34m.\u001b[0m\u001b[0mdevice\u001b[0m\u001b[0;34m(\u001b[0m\u001b[0;34m'cpu'\u001b[0m\u001b[0;34m)\u001b[0m \u001b[0;32melse\u001b[0m \u001b[0mtorch\u001b[0m\u001b[0;34m.\u001b[0m\u001b[0mload\u001b[0m\u001b[0;34m(\u001b[0m\u001b[0msource\u001b[0m\u001b[0;34m)\u001b[0m\u001b[0;34m\u001b[0m\u001b[0;34m\u001b[0m\u001b[0m\n\u001b[0m\u001b[1;32m    615\u001b[0m     \u001b[0mmodel\u001b[0m \u001b[0;34m=\u001b[0m \u001b[0mstate\u001b[0m\u001b[0;34m.\u001b[0m\u001b[0mpop\u001b[0m\u001b[0;34m(\u001b[0m\u001b[0;34m'model'\u001b[0m\u001b[0;34m)\u001b[0m\u001b[0;34m\u001b[0m\u001b[0;34m\u001b[0m\u001b[0m\n\u001b[1;32m    616\u001b[0m     \u001b[0msrc\u001b[0m \u001b[0;34m=\u001b[0m \u001b[0mLabelLists\u001b[0m\u001b[0;34m.\u001b[0m\u001b[0mload_state\u001b[0m\u001b[0;34m(\u001b[0m\u001b[0mpath\u001b[0m\u001b[0;34m,\u001b[0m \u001b[0mstate\u001b[0m\u001b[0;34m.\u001b[0m\u001b[0mpop\u001b[0m\u001b[0;34m(\u001b[0m\u001b[0;34m'data'\u001b[0m\u001b[0;34m)\u001b[0m\u001b[0;34m)\u001b[0m\u001b[0;34m\u001b[0m\u001b[0;34m\u001b[0m\u001b[0m\n",
            "\u001b[0;32m/usr/local/lib/python3.10/dist-packages/torch/serialization.py\u001b[0m in \u001b[0;36mload\u001b[0;34m(f, map_location, pickle_module, weights_only, **pickle_load_args)\u001b[0m\n\u001b[1;32m    789\u001b[0m         \u001b[0mpickle_load_args\u001b[0m\u001b[0;34m[\u001b[0m\u001b[0;34m'encoding'\u001b[0m\u001b[0;34m]\u001b[0m \u001b[0;34m=\u001b[0m \u001b[0;34m'utf-8'\u001b[0m\u001b[0;34m\u001b[0m\u001b[0;34m\u001b[0m\u001b[0m\n\u001b[1;32m    790\u001b[0m \u001b[0;34m\u001b[0m\u001b[0m\n\u001b[0;32m--> 791\u001b[0;31m     \u001b[0;32mwith\u001b[0m \u001b[0m_open_file_like\u001b[0m\u001b[0;34m(\u001b[0m\u001b[0mf\u001b[0m\u001b[0;34m,\u001b[0m \u001b[0;34m'rb'\u001b[0m\u001b[0;34m)\u001b[0m \u001b[0;32mas\u001b[0m \u001b[0mopened_file\u001b[0m\u001b[0;34m:\u001b[0m\u001b[0;34m\u001b[0m\u001b[0;34m\u001b[0m\u001b[0m\n\u001b[0m\u001b[1;32m    792\u001b[0m         \u001b[0;32mif\u001b[0m \u001b[0m_is_zipfile\u001b[0m\u001b[0;34m(\u001b[0m\u001b[0mopened_file\u001b[0m\u001b[0;34m)\u001b[0m\u001b[0;34m:\u001b[0m\u001b[0;34m\u001b[0m\u001b[0;34m\u001b[0m\u001b[0m\n\u001b[1;32m    793\u001b[0m             \u001b[0;31m# The zipfile reader is going to advance the current file position.\u001b[0m\u001b[0;34m\u001b[0m\u001b[0;34m\u001b[0m\u001b[0m\n",
            "\u001b[0;32m/usr/local/lib/python3.10/dist-packages/torch/serialization.py\u001b[0m in \u001b[0;36m_open_file_like\u001b[0;34m(name_or_buffer, mode)\u001b[0m\n\u001b[1;32m    269\u001b[0m \u001b[0;32mdef\u001b[0m \u001b[0m_open_file_like\u001b[0m\u001b[0;34m(\u001b[0m\u001b[0mname_or_buffer\u001b[0m\u001b[0;34m,\u001b[0m \u001b[0mmode\u001b[0m\u001b[0;34m)\u001b[0m\u001b[0;34m:\u001b[0m\u001b[0;34m\u001b[0m\u001b[0;34m\u001b[0m\u001b[0m\n\u001b[1;32m    270\u001b[0m     \u001b[0;32mif\u001b[0m \u001b[0m_is_path\u001b[0m\u001b[0;34m(\u001b[0m\u001b[0mname_or_buffer\u001b[0m\u001b[0;34m)\u001b[0m\u001b[0;34m:\u001b[0m\u001b[0;34m\u001b[0m\u001b[0;34m\u001b[0m\u001b[0m\n\u001b[0;32m--> 271\u001b[0;31m         \u001b[0;32mreturn\u001b[0m \u001b[0m_open_file\u001b[0m\u001b[0;34m(\u001b[0m\u001b[0mname_or_buffer\u001b[0m\u001b[0;34m,\u001b[0m \u001b[0mmode\u001b[0m\u001b[0;34m)\u001b[0m\u001b[0;34m\u001b[0m\u001b[0;34m\u001b[0m\u001b[0m\n\u001b[0m\u001b[1;32m    272\u001b[0m     \u001b[0;32melse\u001b[0m\u001b[0;34m:\u001b[0m\u001b[0;34m\u001b[0m\u001b[0;34m\u001b[0m\u001b[0m\n\u001b[1;32m    273\u001b[0m         \u001b[0;32mif\u001b[0m \u001b[0;34m'w'\u001b[0m \u001b[0;32min\u001b[0m \u001b[0mmode\u001b[0m\u001b[0;34m:\u001b[0m\u001b[0;34m\u001b[0m\u001b[0;34m\u001b[0m\u001b[0m\n",
            "\u001b[0;32m/usr/local/lib/python3.10/dist-packages/torch/serialization.py\u001b[0m in \u001b[0;36m__init__\u001b[0;34m(self, name, mode)\u001b[0m\n\u001b[1;32m    250\u001b[0m \u001b[0;32mclass\u001b[0m \u001b[0m_open_file\u001b[0m\u001b[0;34m(\u001b[0m\u001b[0m_opener\u001b[0m\u001b[0;34m)\u001b[0m\u001b[0;34m:\u001b[0m\u001b[0;34m\u001b[0m\u001b[0;34m\u001b[0m\u001b[0m\n\u001b[1;32m    251\u001b[0m     \u001b[0;32mdef\u001b[0m \u001b[0m__init__\u001b[0m\u001b[0;34m(\u001b[0m\u001b[0mself\u001b[0m\u001b[0;34m,\u001b[0m \u001b[0mname\u001b[0m\u001b[0;34m,\u001b[0m \u001b[0mmode\u001b[0m\u001b[0;34m)\u001b[0m\u001b[0;34m:\u001b[0m\u001b[0;34m\u001b[0m\u001b[0;34m\u001b[0m\u001b[0m\n\u001b[0;32m--> 252\u001b[0;31m         \u001b[0msuper\u001b[0m\u001b[0;34m(\u001b[0m\u001b[0;34m)\u001b[0m\u001b[0;34m.\u001b[0m\u001b[0m__init__\u001b[0m\u001b[0;34m(\u001b[0m\u001b[0mopen\u001b[0m\u001b[0;34m(\u001b[0m\u001b[0mname\u001b[0m\u001b[0;34m,\u001b[0m \u001b[0mmode\u001b[0m\u001b[0;34m)\u001b[0m\u001b[0;34m)\u001b[0m\u001b[0;34m\u001b[0m\u001b[0;34m\u001b[0m\u001b[0m\n\u001b[0m\u001b[1;32m    253\u001b[0m \u001b[0;34m\u001b[0m\u001b[0m\n\u001b[1;32m    254\u001b[0m     \u001b[0;32mdef\u001b[0m \u001b[0m__exit__\u001b[0m\u001b[0;34m(\u001b[0m\u001b[0mself\u001b[0m\u001b[0;34m,\u001b[0m \u001b[0;34m*\u001b[0m\u001b[0margs\u001b[0m\u001b[0;34m)\u001b[0m\u001b[0;34m:\u001b[0m\u001b[0;34m\u001b[0m\u001b[0;34m\u001b[0m\u001b[0m\n",
            "\u001b[0;31mNotADirectoryError\u001b[0m: [Errno 20] Not a directory: '/content/drive/My Drive/09_research_main/lab_04/M6.0.0/model.pth/export.pkl'"
          ]
        }
      ]
    },
    {
      "cell_type": "code",
      "source": [
        "learner = unet_learner().load(model_DIR)"
      ],
      "metadata": {
        "colab": {
          "base_uri": "https://localhost:8080/",
          "height": 165
        },
        "id": "HEAAVa-IbD5v",
        "outputId": "89f754e8-8b18-44fa-b1f6-b51cd473438a"
      },
      "execution_count": 88,
      "outputs": [
        {
          "output_type": "error",
          "ename": "TypeError",
          "evalue": "ignored",
          "traceback": [
            "\u001b[0;31m---------------------------------------------------------------------------\u001b[0m",
            "\u001b[0;31mTypeError\u001b[0m                                 Traceback (most recent call last)",
            "\u001b[0;32m<ipython-input-88-fa39ffaf0c3c>\u001b[0m in \u001b[0;36m<cell line: 1>\u001b[0;34m()\u001b[0m\n\u001b[0;32m----> 1\u001b[0;31m \u001b[0mlearner\u001b[0m \u001b[0;34m=\u001b[0m \u001b[0munet_learner\u001b[0m\u001b[0;34m(\u001b[0m\u001b[0;34m)\u001b[0m\u001b[0;34m.\u001b[0m\u001b[0mload\u001b[0m\u001b[0;34m(\u001b[0m\u001b[0mmodel_DIR\u001b[0m\u001b[0;34m)\u001b[0m\u001b[0;34m\u001b[0m\u001b[0;34m\u001b[0m\u001b[0m\n\u001b[0m",
            "\u001b[0;31mTypeError\u001b[0m: unet_learner() missing 2 required positional arguments: 'data' and 'arch'"
          ]
        }
      ]
    },
    {
      "cell_type": "code",
      "execution_count": null,
      "metadata": {
        "id": "S8LE1SsRpNje"
      },
      "outputs": [],
      "source": [
        "# learner.loss_func = FocalLoss_C()"
      ]
    },
    {
      "cell_type": "code",
      "execution_count": null,
      "metadata": {
        "id": "GByIV09NpGZI"
      },
      "outputs": [],
      "source": [
        "learner.loss_func"
      ]
    },
    {
      "cell_type": "code",
      "execution_count": null,
      "metadata": {
        "id": "v5DNQyOBgO6u"
      },
      "outputs": [],
      "source": [
        "# print(learner)"
      ]
    },
    {
      "cell_type": "code",
      "execution_count": null,
      "metadata": {
        "id": "IXjDYV9KSTFh"
      },
      "outputs": [],
      "source": [
        "# learner.load(model_DIR)"
      ]
    },
    {
      "cell_type": "code",
      "execution_count": null,
      "metadata": {
        "id": "ZVHUdhEasb-S"
      },
      "outputs": [],
      "source": [
        "learner.load(model_DIR.replace(mVersion, 'M_v_6.0.0'))"
      ]
    },
    {
      "cell_type": "code",
      "execution_count": null,
      "metadata": {
        "id": "V24jWtfZZqK-"
      },
      "outputs": [],
      "source": [
        "# learner.summary()"
      ]
    },
    {
      "cell_type": "markdown",
      "metadata": {
        "id": "nhOBZX7SGWZK"
      },
      "source": [
        "# Train"
      ]
    },
    {
      "cell_type": "markdown",
      "metadata": {
        "id": "0cxAg4rMGWZK"
      },
      "source": [
        "Training the data:"
      ]
    },
    {
      "cell_type": "code",
      "execution_count": null,
      "metadata": {
        "id": "B9zNGbD-U4RK"
      },
      "outputs": [],
      "source": [
        "# learner.lr_find()\n",
        "# learner.recorder.plot(skip_end=10, suggestion=True)"
      ]
    },
    {
      "cell_type": "code",
      "execution_count": null,
      "metadata": {
        "id": "qLeBnq8VGWZK"
      },
      "outputs": [],
      "source": [
        "# learner.fit_one_cycle(40, max_lr=slice(1e-3, 1e-5))"
      ]
    },
    {
      "cell_type": "code",
      "execution_count": null,
      "metadata": {
        "id": "m6PBVCNobiXf"
      },
      "outputs": [],
      "source": [
        "# learner.recorder.plot_losses()\n",
        "# learner.recorder.plot_metrics()"
      ]
    },
    {
      "cell_type": "markdown",
      "metadata": {
        "id": "wGexijwmGWZK"
      },
      "source": [
        "Since the both the losses seem small enough, lets predict:"
      ]
    },
    {
      "cell_type": "code",
      "execution_count": null,
      "metadata": {
        "id": "advFmtFNQsa9"
      },
      "outputs": [],
      "source": [
        "# learner.save(model_DIR)"
      ]
    },
    {
      "cell_type": "markdown",
      "metadata": {
        "id": "h89oPJAqp1bt"
      },
      "source": [
        "# Predictions"
      ]
    },
    {
      "cell_type": "code",
      "execution_count": null,
      "metadata": {
        "id": "F7xjC8rrGWZK"
      },
      "outputs": [],
      "source": [
        "# learner.show_results(figsize=(15,15))"
      ]
    },
    {
      "cell_type": "markdown",
      "metadata": {
        "id": "AjvoOQ5jGWZL"
      },
      "source": [
        "On the left is the actual images while on the left is the predictions! They look almost identical and thereby here I conclude this notebook.\n",
        "\n",
        "If you liked this notebook, an upvote would be of tremendous help as I trot forward with my infatuation with Deep Learning :)"
      ]
    },
    {
      "cell_type": "markdown",
      "metadata": {
        "id": "Ep-yM8HNA_Hc"
      },
      "source": [
        "# Evaluation"
      ]
    },
    {
      "cell_type": "code",
      "execution_count": null,
      "metadata": {
        "id": "5Vzf6IcvCmV4"
      },
      "outputs": [],
      "source": [
        "# trainpath = os.path.join(root_folder, 'train_for_base_imgs/')\n",
        "# trainpath_rgb = os.path.join(root_folder, 'train_for_base_imgs_rgb/')\n",
        "# trainlabel = os.path.join(root_folder, 'train_for_base_mask/')\n",
        "\n",
        "# trainpath_ = os.path.join(root_folder, 'train_for_step_imgs/')\n",
        "# trainpath_rgb_ = os.path.join(root_folder, 'train_for_step_imgs_rgb/')\n",
        "# trainlabel_ = os.path.join(root_folder, 'train_for_step_mask/')\n",
        "\n",
        "# validpath = os.path.join(root_folder, 'valid_imgs/')\n",
        "# validpath_rgb = os.path.join(root_folder, 'valid_imgs_rgb/')\n",
        "# validlabel = os.path.join(root_folder, 'valid_mask/')\n",
        "\n",
        "# testpath = os.path.join(root_folder, 'test_imgs/')\n",
        "# testpath_rgb = os.path.join(root_folder, 'test_imgs_rgb/')\n",
        "# testlabel = os.path.join(root_folder, 'test_mask/')"
      ]
    },
    {
      "cell_type": "code",
      "execution_count": null,
      "metadata": {
        "id": "C1cwJ8yO_pXA"
      },
      "outputs": [],
      "source": [
        "import cv2\n",
        "import seaborn as sn\n",
        "from numpy.lib.function_base import average\n",
        "from skimage.transform import resize"
      ]
    },
    {
      "cell_type": "code",
      "execution_count": null,
      "metadata": {
        "id": "JsXqMQcH_pXG"
      },
      "outputs": [],
      "source": [
        "def confusion_matrix(now_imgs_DIR, now_mask_DIR, confusion_matrix):\n",
        "\n",
        "  _SIZE = 540\n",
        "\n",
        "  # confusion_matrix = np.zeros((12,12))\n",
        "\n",
        "  img = open_image(now_imgs_DIR)\n",
        "  mask = cv2.imread(now_mask_DIR)\n",
        "  # print(now_imgs_DIR.replace('/content/drive/My Drive/09_research_main/lab_01/data/dataset_C_v_2.6.1', ''))\n",
        "\n",
        "  # img.show(figsize=(6,6))\n",
        "  # plt.show()\n",
        "  # plt.imshow(mask*40)\n",
        "  # plt.show()\n",
        "\n",
        "  mask = cv2.resize(mask, (_SIZE,_SIZE))\n",
        "  mask = cv2.cvtColor(mask, cv2.COLOR_BGR2GRAY)\n",
        "\n",
        "  pred, pred_idx, probs = learner.predict(img)\n",
        "\n",
        "  # plt.imshow((pred_idx.numpy()*40).reshape((_SIZE,_SIZE)))\n",
        "  # plt.show()\n",
        "\n",
        "  prediction = pred_idx.numpy()\n",
        "  prediction = prediction.reshape((_SIZE,_SIZE))\n",
        "\n",
        "  for i in range(0, mask.shape[0]):#-\n",
        "    for j in range(0, mask.shape[1]):#|\n",
        "      # print(prediction[i][j].item(),mask[i][j].item())\n",
        "      confusion_matrix[prediction[i][j].item()][mask[i][j].item()] += 1\n",
        "\n",
        "  # print(confusion_matrix)\n",
        "  return confusion_matrix"
      ]
    },
    {
      "cell_type": "code",
      "execution_count": null,
      "metadata": {
        "id": "Dt3_on5Z_pXH"
      },
      "outputs": [],
      "source": [
        "def get_confusion_matrix(imgs_dir, label_dir, CLASSES):\n",
        "  LEN = len(CLASSES)\n",
        "  cm = np.zeros((LEN,LEN))\n",
        "\n",
        "  for get_to_name_path in os.listdir(imgs_dir):\n",
        "    now_imgs_DIR = os.path.join(imgs_dir,  get_to_name_path)\n",
        "    now_mask_DIR = os.path.join(label_dir, (get_to_name_path.replace(get_to_name_path.split('_')[-1], 'RRR')).replace('_RRR', '.png'))\n",
        "\n",
        "    cm = confusion_matrix(now_imgs_DIR, now_mask_DIR, cm)\n",
        "  return cm"
      ]
    },
    {
      "cell_type": "code",
      "execution_count": null,
      "metadata": {
        "id": "SP4ARCQl_pXH"
      },
      "outputs": [],
      "source": [
        "def print_cm(GET_CM, CLASSES):\n",
        "\n",
        "  df_cm = pd.DataFrame(GET_CM, index = [i for i in CLASSES], columns = [i for i in CLASSES])\n",
        "  plt.figure(figsize = (15,12))\n",
        "  sn.heatmap(df_cm, annot=True)"
      ]
    },
    {
      "cell_type": "code",
      "execution_count": null,
      "metadata": {
        "id": "eRQWLas0_pXH"
      },
      "outputs": [],
      "source": [
        "def IoU_computer(a, CLASSES):\n",
        "  LEN = len(CLASSES)\n",
        "  IoUstr = []\n",
        "  IoU = []\n",
        "\n",
        "  for i in range(1, LEN):\n",
        "    temp = 0\n",
        "    for j in range(1, LEN):\n",
        "      temp += a[j][i] + a[i][j]\n",
        "    IoUstr += [str(a[i][i])+'/'+str(temp-a[i][i])]\n",
        "    IoU += [a[i][i]/(temp-a[i][i])]\n",
        "\n",
        "  ALL_IoU = average(IoU)\n",
        "\n",
        "  print(IoUstr)\n",
        "  print(IoU)\n",
        "  print(f'IoU = {ALL_IoU:.2f}')"
      ]
    },
    {
      "cell_type": "code",
      "execution_count": null,
      "metadata": {
        "id": "LxaihMl4YpYl"
      },
      "outputs": [],
      "source": [
        "def evaluation(imgs_dir, label_dir, classes):\n",
        "  cm = get_confusion_matrix(imgs_dir, label_dir, classes)\n",
        "\n",
        "  acm = cm\n",
        "  acm[0][0] = 50\n",
        "\n",
        "  print_cm(cm, classes)\n",
        "  IoU_computer(cm, classes)"
      ]
    },
    {
      "cell_type": "code",
      "execution_count": null,
      "metadata": {
        "id": "MoYQmhq3V1pA"
      },
      "outputs": [],
      "source": [
        "# maim step test for acc & cm\n",
        "\n",
        "# evaluation(trainpath_, trainlabel_, classes)"
      ]
    },
    {
      "cell_type": "code",
      "execution_count": null,
      "metadata": {
        "id": "4DUjzCp_Zy9R"
      },
      "outputs": [],
      "source": [
        "# maim valid test for acc & cm\n",
        "\n",
        "# evaluation(validpath, validlabel, classes)"
      ]
    },
    {
      "cell_type": "code",
      "execution_count": null,
      "metadata": {
        "id": "RAybfKnqppjY"
      },
      "outputs": [],
      "source": [
        "# maim test test for acc & cm\n",
        "\n",
        "# evaluation(testpath, testlabel, classes)"
      ]
    },
    {
      "cell_type": "markdown",
      "metadata": {
        "id": "mmSsSpGhA1Hf"
      },
      "source": [
        "#Export step dataset"
      ]
    },
    {
      "cell_type": "code",
      "execution_count": null,
      "metadata": {
        "id": "TRCxlUTTpR79"
      },
      "outputs": [],
      "source": [
        "# Export dataset version\n",
        "\n",
        "Version = 'data/dataset_for_step_' + mVersion + '_' + dVersion + '_D1.0.11'\n",
        "\n",
        "bindingset_dir = os.path.abspath(os.path.join(ROOT_PATH, Version))\n",
        "\n",
        "step_train_bindingset_dir =             os.path.join(bindingset_dir, 'step_train/step_train')\n",
        "step_train_focused_bindingset_dir =     os.path.join(bindingset_dir, 'step_train/step_train_focused')\n",
        "step_train_rgb_bindingset_dir =         os.path.join(bindingset_dir, 'step_train/step_train_rgb')\n",
        "step_train_rgb_focused_bindingset_dir = os.path.join(bindingset_dir, 'step_train/step_train_rgb_focused')\n",
        "step_train_pred_idx_bindingset_dir =    os.path.join(bindingset_dir, 'step_train/step_train_pred_idx')\n",
        "step_train_tensor_bindingset_dir =      os.path.join(bindingset_dir, 'step_train/step_train_tensor')\n",
        "\n",
        "step_valid_bindingset_dir =             os.path.join(bindingset_dir, 'step_valid/step_valid')\n",
        "step_valid_focused_bindingset_dir =     os.path.join(bindingset_dir, 'step_valid/step_valid_focused')\n",
        "step_valid_rgb_bindingset_dir =         os.path.join(bindingset_dir, 'step_valid/step_valid_rgb')\n",
        "step_valid_rgb_focused_bindingset_dir = os.path.join(bindingset_dir, 'step_valid/step_valid_rgb_focused')\n",
        "step_valid_pred_idx_bindingset_dir =    os.path.join(bindingset_dir, 'step_valid/step_valid_pred_idx')\n",
        "step_valid_tensor_bindingset_dir =      os.path.join(bindingset_dir, 'step_valid/step_valid_tensor')\n",
        "\n",
        "valid_bindingset_dir =                  os.path.join(bindingset_dir, 'valid/valid')\n",
        "valid_focused_bindingset_dir =          os.path.join(bindingset_dir, 'valid/valid_focused')\n",
        "valid_rgb_bindingset_dir =              os.path.join(bindingset_dir, 'valid/valid_rgb')\n",
        "valid_rgb_focused_bindingset_dir =      os.path.join(bindingset_dir, 'valid/valid_rgb_focused')\n",
        "valid_pred_idx_bindingset_dir =         os.path.join(bindingset_dir, 'valid/valid_pred_idx')\n",
        "valid_tensor_bindingset_dir =           os.path.join(bindingset_dir, 'valid/valid_tensor')\n",
        "\n",
        "test_bindingset_dir =                   os.path.join(bindingset_dir, 'test/test')\n",
        "test_focused_bindingset_dir =           os.path.join(bindingset_dir, 'test/test_focused')\n",
        "test_rgb_bindingset_dir =               os.path.join(bindingset_dir, 'test/test_rgb')\n",
        "test_rgb_focused_bindingset_dir =       os.path.join(bindingset_dir, 'test/test_rgb_focused')\n",
        "test_pred_idx_bindingset_dir =          os.path.join(bindingset_dir, 'test/test_pred_idx')\n",
        "test_tensor_bindingset_dir =            os.path.join(bindingset_dir, 'test/test_tensor')\n",
        "\n",
        "\n",
        "checkpath(step_train_bindingset_dir)\n",
        "checkpath(step_train_focused_bindingset_dir)\n",
        "checkpath(step_train_rgb_bindingset_dir)\n",
        "checkpath(step_train_rgb_focused_bindingset_dir)\n",
        "checkpath(step_train_pred_idx_bindingset_dir)\n",
        "checkpath(step_train_tensor_bindingset_dir)\n",
        "\n",
        "checkpath(step_valid_bindingset_dir)\n",
        "checkpath(step_valid_focused_bindingset_dir)\n",
        "checkpath(step_valid_rgb_bindingset_dir)\n",
        "checkpath(step_valid_rgb_focused_bindingset_dir)\n",
        "checkpath(step_valid_pred_idx_bindingset_dir)\n",
        "checkpath(step_valid_tensor_bindingset_dir)\n",
        "\n",
        "checkpath(valid_bindingset_dir)\n",
        "checkpath(valid_focused_bindingset_dir)\n",
        "checkpath(valid_rgb_bindingset_dir)\n",
        "checkpath(valid_rgb_focused_bindingset_dir)\n",
        "checkpath(valid_pred_idx_bindingset_dir)\n",
        "checkpath(valid_tensor_bindingset_dir)\n",
        "\n",
        "checkpath(test_bindingset_dir)\n",
        "checkpath(test_focused_bindingset_dir)\n",
        "checkpath(test_rgb_bindingset_dir)\n",
        "checkpath(test_rgb_focused_bindingset_dir)\n",
        "checkpath(test_pred_idx_bindingset_dir)\n",
        "checkpath(test_tensor_bindingset_dir)"
      ]
    },
    {
      "cell_type": "markdown",
      "metadata": {
        "id": "cSlx90ezKGgY"
      },
      "source": [
        "##Export non-tensor"
      ]
    },
    {
      "cell_type": "code",
      "execution_count": null,
      "metadata": {
        "id": "u97HwUM8uVok"
      },
      "outputs": [],
      "source": [
        "def mask_cutter(img_DIR):\n",
        "  img = cv2.imread(img_DIR)\n",
        "  pred_idx = learner.predict(open_image(img_DIR))[1].numpy()\n",
        "\n",
        "  mask_ = resize(pred_idx.reshape((540, 540)), (1080, 1080))\n",
        "  # print(mask_[0][0])\n",
        "\n",
        "  for i in range(0, mask_.shape[0]):\n",
        "    for j in range(0, mask_.shape[1]):\n",
        "      if mask_[i][j] <= 5.5e-20:#5.421010862427522e-20\n",
        "        img[i][j][0] = 255\n",
        "        img[i][j][1] = 255\n",
        "        img[i][j][2] = 255\n",
        "\n",
        "  # img = resize(img, (540, 540))\n",
        "  # plt.figure()\n",
        "  # plt.imshow(img)\n",
        "  # plt.show()\n",
        "\n",
        "  return img"
      ]
    },
    {
      "cell_type": "code",
      "execution_count": null,
      "metadata": {
        "id": "3UJtznGwyWbI"
      },
      "outputs": [],
      "source": [
        "def fixfix(x,y,w,h):\n",
        "  if w >= h:\n",
        "    y = int(y - (h / 4))\n",
        "    if y < 0 : y = 0\n",
        "    h = w\n",
        "    if y + h > 1080 : y = 1080 - h\n",
        "  else:\n",
        "    x = int(x - (w / 4))\n",
        "    if x < 0 : x = 0\n",
        "    w = h\n",
        "    if x + w > 1080 : x = 1080 - w\n",
        "  return x,y,w,h"
      ]
    },
    {
      "cell_type": "code",
      "execution_count": null,
      "metadata": {
        "id": "_WxJCgGPIXo4"
      },
      "outputs": [],
      "source": [
        "def mask_cutter_v_2(img_DIR):\n",
        "  img = cv2.imread(img_DIR)\n",
        "  pred_idx = learner.predict(open_image(img_DIR))[1].numpy()\n",
        "\n",
        "  mask_ = resize(pred_idx.reshape((540, 540)), (1080, 1080))\n",
        "\n",
        "  for i in range(0, mask_.shape[0]):\n",
        "    for j in range(0, mask_.shape[1]):\n",
        "      if mask_[i][j] <= 5.5e-20:\n",
        "        img[i][j][0] = 255\n",
        "        img[i][j][1] = 255\n",
        "        img[i][j][2] = 255\n",
        "  \n",
        "  original = img.copy()\n",
        "\n",
        "  gray = cv2.cvtColor(img, cv2.COLOR_BGR2GRAY)\n",
        "  thresh = cv2.threshold(gray, 0, 255, cv2.THRESH_BINARY_INV + cv2.THRESH_OTSU)[1]\n",
        "\n",
        "  max = 0\n",
        "  cnts = cv2.findContours(thresh, cv2.RETR_EXTERNAL, cv2.CHAIN_APPROX_SIMPLE)\n",
        "  cnts = cnts[0] if len(cnts) == 2 else cnts[1]\n",
        "  # print(cnts)\n",
        "  for c in cnts:\n",
        "      x,y,w,h = cv2.boundingRect(c)\n",
        "      if h > max : \n",
        "        max = h\n",
        "        max_index = c\n",
        "\n",
        "  new_img = resize(original, (540, 540))\n",
        "  try:\n",
        "    x,y,w,h = cv2.boundingRect(max_index)\n",
        "  except UnboundLocalError:\n",
        "    print('Jumping over ' + img_DIR)\n",
        "    return original\n",
        "\n",
        "  x,y,w,h = fixfix(x,y,w,h)\n",
        "\n",
        "  # cv2.rectangle(img, (x, y), (x + w, y + h), (0,0,255), 2)\n",
        "  new_img = resize(original[y:y+h, x:x+w], (540, 540))\n",
        "\n",
        "  new_img = new_img*255\n",
        "\n",
        "  # plt.figure()\n",
        "  # plt.imshow(new_img)\n",
        "  # plt.show()\n",
        "\n",
        "  # print(img_DIR.split('/')[-1], np.unique(new_img), x, y, w, h)\n",
        "\n",
        "  return new_img"
      ]
    },
    {
      "cell_type": "code",
      "execution_count": null,
      "metadata": {
        "id": "-N8uRadHZvPU"
      },
      "outputs": [],
      "source": [
        "# # run & save bindingset_v_2_trainmaker\n",
        "\n",
        "# kokocounter = 0\n",
        "\n",
        "# for imgs_name in os.listdir(trainpath_):\n",
        "#   print(imgs_name.split('.')[0] + '_' + mVersion + '_gs_COid' +  str(kokocounter) + '.png', kokocounter)\n",
        "\n",
        "#   if kokocounter%10 == 0:\n",
        "#     cv2.imwrite(os.path.join(step_valid_bindingset_dir,             imgs_name.split('.')[0] + '_' + mVersion + '_gs_COid' +  str(kokocounter) + '.png'), mask_cutter(    os.path.join(trainpath_,     imgs_name)))\n",
        "#     cv2.imwrite(os.path.join(step_valid_focused_bindingset_dir,     imgs_name.split('.')[0] + '_' + mVersion + '_gs_CFid' +  str(kokocounter) + '.png'), mask_cutter_v_2(os.path.join(trainpath_,     imgs_name)))\n",
        "#     if imgs_name.split('_B')[1] == 'n00.png':\n",
        "#       cv2.imwrite(os.path.join(step_valid_rgb_bindingset_dir,         imgs_name.split('.')[0] + '_' + mVersion + '_rgb_COid' + str(kokocounter) + '.png'), mask_cutter(    os.path.join(trainpath_rgb_, imgs_name.split('_B')[0] + '_Bnrgb.png')))\n",
        "#       cv2.imwrite(os.path.join(step_valid_rgb_focused_bindingset_dir, imgs_name.split('.')[0] + '_' + mVersion + '_rgb_CFid' + str(kokocounter) + '.png'), mask_cutter_v_2(os.path.join(trainpath_rgb_, imgs_name.split('_B')[0] + '_Bnrgb.png')))\n",
        "#       np.save(os.path.join(step_valid_pred_idx_bindingset_dir,        imgs_name.split('.')[0] + '_' + mVersion + '_pm_COid' +  str(kokocounter)), learner.predict(open_image(os.path.join(trainpath_, imgs_name)))[1].numpy().reshape((540, 540)))\n",
        "#   else:\n",
        "#     cv2.imwrite(os.path.join(step_train_bindingset_dir,             imgs_name.split('.')[0] + '_' + mVersion + '_gs_COid' +  str(kokocounter) + '.png'), mask_cutter(    os.path.join(trainpath_,     imgs_name)))\n",
        "#     cv2.imwrite(os.path.join(step_train_focused_bindingset_dir,     imgs_name.split('.')[0] + '_' + mVersion + '_gs_CFid' +  str(kokocounter) + '.png'), mask_cutter_v_2(os.path.join(trainpath_,     imgs_name)))\n",
        "#     if imgs_name.split('_B')[1] == 'n00.png':\n",
        "#       cv2.imwrite(os.path.join(step_train_rgb_bindingset_dir,         imgs_name.split('.')[0] + '_' + mVersion + '_rgb_COid' + str(kokocounter) + '.png'), mask_cutter(    os.path.join(trainpath_rgb_, imgs_name.split('_B')[0] + '_Bnrgb.png')))\n",
        "#       cv2.imwrite(os.path.join(step_train_rgb_focused_bindingset_dir, imgs_name.split('.')[0] + '_' + mVersion + '_rgb_CFid' + str(kokocounter) + '.png'), mask_cutter_v_2(os.path.join(trainpath_rgb_, imgs_name.split('_B')[0] + '_Bnrgb.png')))\n",
        "#       np.save(os.path.join(step_train_pred_idx_bindingset_dir,        imgs_name.split('.')[0] + '_' + mVersion + '_pm_COid' +  str(kokocounter)), learner.predict(open_image(os.path.join(trainpath_, imgs_name)))[1].numpy().reshape((540, 540)))\n",
        "\n",
        "#   kokocounter += 1\n",
        "  \n",
        "# print('\\n\\nSuccessfully Completed!!!\\n\\n')#797"
      ]
    },
    {
      "cell_type": "code",
      "execution_count": null,
      "metadata": {
        "id": "SWvZROPYp4aH"
      },
      "outputs": [],
      "source": [
        "# run & save bindingset_v_2_trainmaker\n",
        "\n",
        "kokocounter = 0\n",
        "\n",
        "for imgs_name in os.listdir(trainpath_):\n",
        "  print(imgs_name.split('.')[0] + '_' + mVersion + '_gs_COid' +  str(kokocounter) + '.png', kokocounter)\n",
        "\n",
        "  cv2.imwrite(os.path.join(step_train_bindingset_dir,             imgs_name.split('.')[0] + '_' + mVersion + '_gs_COid' +  str(kokocounter) + '.png'), mask_cutter(    os.path.join(trainpath_,     imgs_name)))\n",
        "  cv2.imwrite(os.path.join(step_train_focused_bindingset_dir,     imgs_name.split('.')[0] + '_' + mVersion + '_gs_CFid' +  str(kokocounter) + '.png'), mask_cutter_v_2(os.path.join(trainpath_,     imgs_name)))\n",
        "  if imgs_name.split('_B')[1] == 'n00.png':\n",
        "    cv2.imwrite(os.path.join(step_train_rgb_bindingset_dir,         imgs_name.split('.')[0] + '_' + mVersion + '_rgb_COid' + str(kokocounter) + '.png'), mask_cutter(    os.path.join(trainpath_rgb_, imgs_name.split('_B')[0] + '_Bnrgb.png')))\n",
        "    cv2.imwrite(os.path.join(step_train_rgb_focused_bindingset_dir, imgs_name.split('.')[0] + '_' + mVersion + '_rgb_CFid' + str(kokocounter) + '.png'), mask_cutter_v_2(os.path.join(trainpath_rgb_, imgs_name.split('_B')[0] + '_Bnrgb.png')))\n",
        "    np.save(os.path.join(step_train_pred_idx_bindingset_dir,        imgs_name.split('.')[0] + '_' + mVersion + '_pm_COid' +  str(kokocounter)), learner.predict(open_image(os.path.join(trainpath_, imgs_name)))[1].numpy().reshape((540, 540)))\n",
        "\n",
        "  kokocounter += 1\n",
        "  \n",
        "print('\\n\\nSuccessfully Completed!!!\\n\\n')#797"
      ]
    },
    {
      "cell_type": "code",
      "execution_count": null,
      "metadata": {
        "id": "4GbolQI1hCzB"
      },
      "outputs": [],
      "source": [
        "# run & save bindingset_v_2_validmaker\n",
        "\n",
        "kokocounter = 0\n",
        "\n",
        "for imgs_name in os.listdir(validpath):\n",
        "  print(imgs_name.split('.')[0] + '_' + mVersion + '_gs_COid' +  str(kokocounter) + '.png', kokocounter)\n",
        "\n",
        "  cv2.imwrite(os.path.join(valid_bindingset_dir,             imgs_name.split('.')[0] + '_' + mVersion + '_gs_COid' +  str(kokocounter) + '.png'), mask_cutter(    os.path.join(validpath,     imgs_name)))\n",
        "  cv2.imwrite(os.path.join(valid_focused_bindingset_dir,     imgs_name.split('.')[0] + '_' + mVersion + '_gs_CFid' +  str(kokocounter) + '.png'), mask_cutter_v_2(os.path.join(validpath,     imgs_name)))\n",
        "  if imgs_name.split('_B')[1] == 'n00.png':\n",
        "    cv2.imwrite(os.path.join(valid_rgb_bindingset_dir,         imgs_name.split('.')[0] + '_' + mVersion + '_rgb_COid' + str(kokocounter) + '.png'), mask_cutter(    os.path.join(validpath_rgb, imgs_name.split('_B')[0] + '_Bnrgb.png')))\n",
        "    cv2.imwrite(os.path.join(valid_rgb_focused_bindingset_dir, imgs_name.split('.')[0] + '_' + mVersion + '_rgb_CFid' + str(kokocounter) + '.png'), mask_cutter_v_2(os.path.join(validpath_rgb, imgs_name.split('_B')[0] + '_Bnrgb.png')))\n",
        "    np.save(os.path.join(valid_pred_idx_bindingset_dir,        imgs_name.split('.')[0] + '_' + mVersion + '_pm_COid' +  str(kokocounter)), learner.predict(open_image(os.path.join(validpath, imgs_name)))[1].numpy().reshape((540, 540)))\n",
        "\n",
        "  kokocounter += 1\n",
        "  \n",
        "print('\\n\\nSuccessfully Completed!!!\\n\\n')#797"
      ]
    },
    {
      "cell_type": "code",
      "execution_count": null,
      "metadata": {
        "id": "e1m8qCKCLrUq"
      },
      "outputs": [],
      "source": [
        "# run & save bindingset_v_2_testmaker\n",
        "\n",
        "kokocounter = 0\n",
        "\n",
        "for imgs_name in os.listdir(testpath):\n",
        "  print(imgs_name.split('.')[0] + '_' + mVersion + '_gs_COid' +  str(kokocounter) + '.png', kokocounter)\n",
        "\n",
        "  cv2.imwrite(os.path.join(test_bindingset_dir,             imgs_name.split('.')[0] + '_' + mVersion + '_gs_COid' +  str(kokocounter) + '.png'), mask_cutter(    os.path.join(testpath,     imgs_name)))\n",
        "  cv2.imwrite(os.path.join(test_focused_bindingset_dir,     imgs_name.split('.')[0] + '_' + mVersion + '_gs_CFid' +  str(kokocounter) + '.png'), mask_cutter_v_2(os.path.join(testpath,     imgs_name)))\n",
        "  if imgs_name.split('_B')[1] == 'n00.png':\n",
        "    cv2.imwrite(os.path.join(test_rgb_bindingset_dir,         imgs_name.split('.')[0] + '_' + mVersion + '_rgb_COid' + str(kokocounter) + '.png'), mask_cutter(    os.path.join(testpath_rgb, imgs_name.split('_B')[0] + '_Bnrgb.png')))\n",
        "    cv2.imwrite(os.path.join(test_rgb_focused_bindingset_dir, imgs_name.split('.')[0] + '_' + mVersion + '_rgb_CFid' + str(kokocounter) + '.png'), mask_cutter_v_2(os.path.join(testpath_rgb, imgs_name.split('_B')[0] + '_Bnrgb.png')))\n",
        "    np.save(os.path.join(test_pred_idx_bindingset_dir,        imgs_name.split('.')[0] + '_' + mVersion + '_pm_COid' +  str(kokocounter)), learner.predict(open_image(os.path.join(testpath, imgs_name)))[1].numpy().reshape((540, 540)))\n",
        "  kokocounter += 1\n",
        "  \n",
        "print('\\n\\nSuccessfully Completed!!!\\n\\n')#797"
      ]
    },
    {
      "cell_type": "code",
      "execution_count": null,
      "metadata": {
        "id": "ntsudh2tO8gt"
      },
      "outputs": [],
      "source": [
        "# END HERE np.load('my_array.npy')"
      ]
    },
    {
      "cell_type": "markdown",
      "metadata": {
        "id": "U7Y_A7NrBTcE"
      },
      "source": [
        "##Export tensor"
      ]
    },
    {
      "cell_type": "code",
      "execution_count": null,
      "metadata": {
        "id": "fQnMk_LExyLR"
      },
      "outputs": [],
      "source": [
        "# # run & save bindingset_v_3_trainmaker\n",
        "\n",
        "# kokocounter = 0\n",
        "\n",
        "# for imgs_name in os.listdir(trainpath_):\n",
        "#   print(imgs_name.split('.')[0] + '_' + mVersion + '_tensor_COid' +  str(kokocounter) + '.pt', kokocounter)\n",
        "\n",
        "#   if kokocounter%10 == 0:\n",
        "#     torch.save(learner.predict(open_image(os.path.join(trainpath_, imgs_name)))[2], os.path.join(step_valid_tensor_bindingset_dir, imgs_name.split('.')[0] + '_' + mVersion + '_tensor_COid' +  str(kokocounter) + '.pt'))\n",
        "#   else:\n",
        "#     torch.save(learner.predict(open_image(os.path.join(trainpath_, imgs_name)))[2], os.path.join(step_train_tensor_bindingset_dir, imgs_name.split('.')[0] + '_' + mVersion + '_tensor_COid' +  str(kokocounter) + '.pt'))\n",
        "\n",
        "#   kokocounter += 1\n",
        "  \n",
        "# print('\\n\\nSuccessfully Completed!!!\\n\\n')#797"
      ]
    },
    {
      "cell_type": "code",
      "execution_count": null,
      "metadata": {
        "id": "zgox-gA7906b"
      },
      "outputs": [],
      "source": [
        "# # run & save bindingset_v_3_validmaker\n",
        "\n",
        "# kokocounter = 0\n",
        "\n",
        "# for imgs_name in os.listdir(trainpath_):\n",
        "#   print(imgs_name.split('.')[0] + '_' + mVersion + '_tensor_COid' +  str(kokocounter) + '.pt', kokocounter)\n",
        "\n",
        "#   torch.save(learner.predict(open_image(os.path.join(validpath, imgs_name)))[2], os.path.join(valid_tensor_bindingset_dir, imgs_name.split('.')[0] + '_' + mVersion + '_tensor_COid' +  str(kokocounter) + '.pt'))\n",
        "\n",
        "#   kokocounter += 1\n",
        "  \n",
        "# print('\\n\\nSuccessfully Completed!!!\\n\\n')#797"
      ]
    },
    {
      "cell_type": "code",
      "execution_count": null,
      "metadata": {
        "id": "wp15VGUt-HQY"
      },
      "outputs": [],
      "source": [
        "# # run & save bindingset_v_3_testmaker\n",
        "\n",
        "# kokocounter = 0\n",
        "\n",
        "# for imgs_name in os.listdir(trainpath_):\n",
        "#   print(imgs_name.split('.')[0] + '_' + mVersion + '_tensor_COid' +  str(kokocounter) + '.pt', kokocounter)\n",
        "\n",
        "#   torch.save(learner.predict(open_image(os.path.join(testpath, imgs_name)))[2], os.path.join(test_tensor_bindingset_dir, imgs_name.split('.')[0] + '_' + mVersion + '_tensor_COid' +  str(kokocounter) + '.pt'))\n",
        "\n",
        "#   kokocounter += 1\n",
        "  \n",
        "# print('\\n\\nSuccessfully Completed!!!\\n\\n')#797"
      ]
    },
    {
      "cell_type": "code",
      "execution_count": null,
      "metadata": {
        "id": "30oXE_Us-vNT"
      },
      "outputs": [],
      "source": [
        "# END HERE"
      ]
    }
  ],
  "metadata": {
    "accelerator": "GPU",
    "colab": {
      "machine_shape": "hm",
      "provenance": []
    },
    "gpuClass": "premium",
    "kernelspec": {
      "display_name": "Python 3",
      "language": "python",
      "name": "python3"
    },
    "language_info": {
      "codemirror_mode": {
        "name": "ipython",
        "version": 3
      },
      "file_extension": ".py",
      "mimetype": "text/x-python",
      "name": "python",
      "nbconvert_exporter": "python",
      "pygments_lexer": "ipython3",
      "version": "3.7.6"
    }
  },
  "nbformat": 4,
  "nbformat_minor": 0
}